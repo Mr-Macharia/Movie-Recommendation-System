{
 "cells": [
  {
   "cell_type": "markdown",
   "id": "a6d1fb0a",
   "metadata": {},
   "source": [
<<<<<<< HEAD
    "# Movie Recommendations Syetem using a Collaborative Filtering Approach"
=======
    "# Movie Recommendations System using a Collaborative Filtering Approach"
>>>>>>> 820b6ddf3c2112242b8fe1a08fec0232c02ca584
   ]
  },
  {
   "cell_type": "markdown",
   "id": "0aa7ad8c",
   "metadata": {},
   "source": [
    "# 1. Business Understanding"
   ]
  },
  {
   "cell_type": "markdown",
   "id": "8ec739a0",
   "metadata": {},
   "source": [
    "### (a) Introduction\n",
    "\n",
    "Movie recommendation systems have become an integral element of contemporary digital entertainment platforms, enriching user experiences by offering personalized movie suggestions. These systems harness the capabilities of machine learning algorithms to analyze user behavior, historical data, and movie features, enabling the delivery of tailored recommendations. In this exploration, we delve into the construction of a movie recommendation system utilizing the MovieLens dataset from the GroupLens research lab at the University of Minnesota. Widely recognized in the field of recommendation systems, the MovieLens dataset encompasses user ratings for a diverse array of movies, providing valuable insights into individual preferences. For our analysis, we will focus on the \"small\" dataset, consisting of 100,000 user ratings. This smaller subset ensures computational efficiency and is well-suited for the initial development stages."
   ]
  },
  {
   "cell_type": "markdown",
   "id": "d750a6ea",
   "metadata": {},
   "source": [
    "### (b) Problem Statement\n",
    "\n",
    "In the context of enhancing user engagement and satisfaction on a streaming platform, our specific business objective is to elevate the user experience by delivering personalized movie recommendations. This aims to actively involve users, extend their time spent on the platform, and potentially increase revenue through heightened viewership. Our strategy involves employing machine learning algorithms, such as collaborative filtering and content-based filtering, to analyze user ratings and preferences. Collaborative filtering discerns patterns by comparing user behaviors, while content-based filtering focuses on movie features and characteristics.\n",
    "\n",
    "In subsequent sections, we will delve into the intricacies of data preprocessing, model selection, and evaluation metrics. The overarching aim is to develop a robust recommendation system that provides precise and appealing movie suggestions tailored to the unique preferences of each user."
   ]
  },
  {
   "cell_type": "markdown",
   "id": "4d936ea1",
   "metadata": {},
   "source": [
    "### (c) Metrics of Success\n",
    "\n",
    "We will employ RMSE (Root Mean Square Error) as our success metric with the goal of attaining the smallest RMSE score possible."
   ]
  },
  {
   "cell_type": "markdown",
   "id": "18956f61",
   "metadata": {},
   "source": [
    "### (d) Research Questions\n",
    "\n",
    "1. What features contribute most to the accuracy of collaborative filtering in generating top  movie recommendations?\n",
    "\n",
    "2. How does the frequency of user ratings influence the accuracy and stability of the movie recommendation model?\n",
    "\n",
    "3. What are the correlation between user ratings and various movie features?\n",
    "\n",
    "4. Which movie features demonstrate the highest correlation with collaborative filtering recommendations, and how do they impact the model's predictions?\n",
    "\n",
    "5. How successful is the collaborative filtering model in providing accurate and tailored movie recommendations based on user ratings and preferences?"
   ]
  },
  {
   "cell_type": "markdown",
   "id": "4f8b9e87",
   "metadata": {},
   "source": [
    "### (e) The Main Objective\n",
    "\n",
    "To develop and implement a movie recommendation system that leverages collaborative filtering techniques to provide personalized top 5 movie recommendations for users."
   ]
  },
  {
   "cell_type": "markdown",
   "id": "e6d36aa2",
   "metadata": {},
   "source": [
    "### (f) The Specific Objectives\n",
    "\n",
    "1. To clean and preprocess the MovieLens datasets to ensure it is suitable for building a recommendation system.\n",
    "\n",
    "2. To understand the distribution of movie ratings, explore user behavior, and identify patterns in the datasets.\n",
    "\n",
    "3. To investigate and compare collaborative filtering techniques for building the recommendation system, such as Singular Value Decomposition (SVD), user-based and item-based.\n",
    "\n",
    "4. To implement and evaluate the performance of the collaborative filtering model using appropriate metrics such as RSME and MSE.\n",
    "\n",
    "5. To generate top 5 movie recommendations for a user based on their historical ratings."
   ]
  },
  {
   "cell_type": "markdown",
   "id": "d2ac59ea",
   "metadata": {},
   "source": [
    "# 2. Data Understanding\n",
    "\n",
    "The dataset (ml-latest-small) consists of 100,836 ratings and 3,683 tag applications across 9,742 movies. The data were generated by 610 users between March 29, 1996, and September 24, 2018.\n",
    "The data used in this project will be pulled from 4 different separate file:\n",
    "\n",
    "*1. Movies Data (movies.csv):*\n",
    "Contains movie information, including titles and genres with the following columns:\n",
    " * movieId: Unique identifier for each movie.\n",
    " * title: The title of the movie, which also includes the year of release in parentheses.\n",
    " * genres: A pipe-separated list of genres to categorize the movie (e.g., Action|Adventure|Comedy).\n",
    "\n",
    "*2. Links Data (links.csv):*\n",
    "Provides identifiers for linking to external movie-related sources (IMDb, TMDb) and has the followinf columns:\n",
    "* movieId: Unique identifier for each movie, consistent with other data files.\n",
    "* imdbId: Identifier for movies used by IMDb (Internet Movie Database).\n",
    "* tmdbId: Identifier for movies used by TMDb (The Movie Database).\n",
    "\n",
    "*3. Ratings Data (ratings.csv):*\n",
    "Contains user ratings on a 5-star scale for movies and has the following columns:\n",
    "* userId: ID representing the unique identifier for each user.\n",
    "* movieId: Unique identifier for each movie.\n",
    "* rating: User's rating for the movie on a 5-star scale with half-star increments (0.5 to 5.0).\n",
    "* timestamp: The timestamp when the rating was recorded, represented in seconds since midnight Coordinated Universal Time (UTC) of January 1, 1970.\n",
    "\n",
    "*4. Tags Data (tags.csv):*\n",
    "Contains user-generated metadata (tags) about movies and has the following columns:\n",
    "* userId: ID representing the unique identifier for each user.\n",
    "* movieId: Unique identifier for each movie.\n",
    "* tag: User-generated metadata describing a movie, typically a single word or short phrase.\n",
    "* timestamp: The timestamp when the tag was applied, represented in seconds since midnight Coordinated Universal Time (UTC) of January 1, 1970."
   ]
  },
  {
   "cell_type": "markdown",
   "id": "0a97e455",
   "metadata": {},
   "source": [
    "## Importing Necessary Libraries"
   ]
  },
  {
   "cell_type": "code",
   "execution_count": 1,
   "id": "c1ed2ffb",
   "metadata": {},
   "outputs": [],
   "source": [
    "#importing relevant packages\n",
    "import pandas as pd\n",
    "import seaborn as sns\n",
    "import numpy as np\n",
    "import matplotlib.pyplot as plt\n",
    "%matplotlib inline"
   ]
  },
  {
   "cell_type": "markdown",
   "id": "a48ce7db",
   "metadata": {},
   "source": [
    "# 3. Data Cleaning Process"
   ]
  },
  {
   "cell_type": "code",
   "execution_count": 2,
   "id": "0957a93f",
   "metadata": {},
   "outputs": [],
   "source": [
    "# Import the pandas library\n",
    "import pandas as pd\n",
    "\n",
    "# Read CSV files into data frames\n",
    "movies = pd.read_csv(\"data/ml-latest-small/movies.csv\")  # Load movies data\n",
    "links = pd.read_csv(\"data/ml-latest-small/links.csv\")    # Load links data\n",
    "ratings = pd.read_csv(\"data/ml-latest-small/ratings.csv\")  # Load ratings data\n",
    "tags = pd.read_csv(\"data/ml-latest-small/tags.csv\")        # Load tags data"
   ]
  },
  {
   "cell_type": "code",
   "execution_count": 3,
   "id": "72af5fff",
   "metadata": {},
   "outputs": [
    {
     "data": {
      "text/html": [
       "<div>\n",
       "<style scoped>\n",
       "    .dataframe tbody tr th:only-of-type {\n",
       "        vertical-align: middle;\n",
       "    }\n",
       "\n",
       "    .dataframe tbody tr th {\n",
       "        vertical-align: top;\n",
       "    }\n",
       "\n",
       "    .dataframe thead th {\n",
       "        text-align: right;\n",
       "    }\n",
       "</style>\n",
       "<table border=\"1\" class=\"dataframe\">\n",
       "  <thead>\n",
       "    <tr style=\"text-align: right;\">\n",
       "      <th></th>\n",
       "      <th>movieId</th>\n",
       "      <th>title</th>\n",
       "      <th>genres</th>\n",
       "    </tr>\n",
       "  </thead>\n",
       "  <tbody>\n",
       "    <tr>\n",
       "      <th>0</th>\n",
       "      <td>1</td>\n",
       "      <td>Toy Story (1995)</td>\n",
       "      <td>Adventure|Animation|Children|Comedy|Fantasy</td>\n",
       "    </tr>\n",
       "    <tr>\n",
       "      <th>1</th>\n",
       "      <td>2</td>\n",
       "      <td>Jumanji (1995)</td>\n",
       "      <td>Adventure|Children|Fantasy</td>\n",
       "    </tr>\n",
       "    <tr>\n",
       "      <th>2</th>\n",
       "      <td>3</td>\n",
       "      <td>Grumpier Old Men (1995)</td>\n",
       "      <td>Comedy|Romance</td>\n",
       "    </tr>\n",
       "  </tbody>\n",
       "</table>\n",
       "</div>"
      ],
      "text/plain": [
       "   movieId                    title  \\\n",
       "0        1         Toy Story (1995)   \n",
       "1        2           Jumanji (1995)   \n",
       "2        3  Grumpier Old Men (1995)   \n",
       "\n",
       "                                        genres  \n",
       "0  Adventure|Animation|Children|Comedy|Fantasy  \n",
       "1                   Adventure|Children|Fantasy  \n",
       "2                               Comedy|Romance  "
      ]
     },
     "execution_count": 3,
     "metadata": {},
     "output_type": "execute_result"
    }
   ],
   "source": [
    "#reading the first 3 rows\n",
    "movies.head(3)"
   ]
  },
  {
   "cell_type": "code",
   "execution_count": 4,
   "id": "4a18c4d4",
   "metadata": {},
   "outputs": [
    {
     "data": {
      "text/html": [
       "<div>\n",
       "<style scoped>\n",
       "    .dataframe tbody tr th:only-of-type {\n",
       "        vertical-align: middle;\n",
       "    }\n",
       "\n",
       "    .dataframe tbody tr th {\n",
       "        vertical-align: top;\n",
       "    }\n",
       "\n",
       "    .dataframe thead th {\n",
       "        text-align: right;\n",
       "    }\n",
       "</style>\n",
       "<table border=\"1\" class=\"dataframe\">\n",
       "  <thead>\n",
       "    <tr style=\"text-align: right;\">\n",
       "      <th></th>\n",
       "      <th>movieId</th>\n",
       "      <th>imdbId</th>\n",
       "      <th>tmdbId</th>\n",
       "    </tr>\n",
       "  </thead>\n",
       "  <tbody>\n",
       "    <tr>\n",
       "      <th>0</th>\n",
       "      <td>1</td>\n",
       "      <td>114709</td>\n",
       "      <td>862.0</td>\n",
       "    </tr>\n",
       "    <tr>\n",
       "      <th>1</th>\n",
       "      <td>2</td>\n",
       "      <td>113497</td>\n",
       "      <td>8844.0</td>\n",
       "    </tr>\n",
       "    <tr>\n",
       "      <th>2</th>\n",
       "      <td>3</td>\n",
       "      <td>113228</td>\n",
       "      <td>15602.0</td>\n",
       "    </tr>\n",
       "  </tbody>\n",
       "</table>\n",
       "</div>"
      ],
      "text/plain": [
       "   movieId  imdbId   tmdbId\n",
       "0        1  114709    862.0\n",
       "1        2  113497   8844.0\n",
       "2        3  113228  15602.0"
      ]
     },
     "execution_count": 4,
     "metadata": {},
     "output_type": "execute_result"
    }
   ],
   "source": [
    "#reading the first 3 rows\n",
    "links.head(3)"
   ]
  },
  {
   "cell_type": "code",
   "execution_count": 5,
   "id": "a0e2b410",
   "metadata": {},
   "outputs": [
    {
     "data": {
      "text/html": [
       "<div>\n",
       "<style scoped>\n",
       "    .dataframe tbody tr th:only-of-type {\n",
       "        vertical-align: middle;\n",
       "    }\n",
       "\n",
       "    .dataframe tbody tr th {\n",
       "        vertical-align: top;\n",
       "    }\n",
       "\n",
       "    .dataframe thead th {\n",
       "        text-align: right;\n",
       "    }\n",
       "</style>\n",
       "<table border=\"1\" class=\"dataframe\">\n",
       "  <thead>\n",
       "    <tr style=\"text-align: right;\">\n",
       "      <th></th>\n",
       "      <th>userId</th>\n",
       "      <th>movieId</th>\n",
       "      <th>rating</th>\n",
       "      <th>timestamp</th>\n",
       "    </tr>\n",
       "  </thead>\n",
       "  <tbody>\n",
       "    <tr>\n",
       "      <th>0</th>\n",
       "      <td>1</td>\n",
       "      <td>1</td>\n",
       "      <td>4.0</td>\n",
       "      <td>964982703</td>\n",
       "    </tr>\n",
       "    <tr>\n",
       "      <th>1</th>\n",
       "      <td>1</td>\n",
       "      <td>3</td>\n",
       "      <td>4.0</td>\n",
       "      <td>964981247</td>\n",
       "    </tr>\n",
       "    <tr>\n",
       "      <th>2</th>\n",
       "      <td>1</td>\n",
       "      <td>6</td>\n",
       "      <td>4.0</td>\n",
       "      <td>964982224</td>\n",
       "    </tr>\n",
       "  </tbody>\n",
       "</table>\n",
       "</div>"
      ],
      "text/plain": [
       "   userId  movieId  rating  timestamp\n",
       "0       1        1     4.0  964982703\n",
       "1       1        3     4.0  964981247\n",
       "2       1        6     4.0  964982224"
      ]
     },
     "execution_count": 5,
     "metadata": {},
     "output_type": "execute_result"
    }
   ],
   "source": [
    "#reading the first 3 rows\n",
    "ratings.head(3)"
   ]
  },
  {
   "cell_type": "code",
   "execution_count": 6,
   "id": "3286a536",
   "metadata": {},
   "outputs": [
    {
     "data": {
      "text/html": [
       "<div>\n",
       "<style scoped>\n",
       "    .dataframe tbody tr th:only-of-type {\n",
       "        vertical-align: middle;\n",
       "    }\n",
       "\n",
       "    .dataframe tbody tr th {\n",
       "        vertical-align: top;\n",
       "    }\n",
       "\n",
       "    .dataframe thead th {\n",
       "        text-align: right;\n",
       "    }\n",
       "</style>\n",
       "<table border=\"1\" class=\"dataframe\">\n",
       "  <thead>\n",
       "    <tr style=\"text-align: right;\">\n",
       "      <th></th>\n",
       "      <th>userId</th>\n",
       "      <th>movieId</th>\n",
       "      <th>tag</th>\n",
       "      <th>timestamp</th>\n",
       "    </tr>\n",
       "  </thead>\n",
       "  <tbody>\n",
       "    <tr>\n",
       "      <th>0</th>\n",
       "      <td>2</td>\n",
       "      <td>60756</td>\n",
       "      <td>funny</td>\n",
       "      <td>1445714994</td>\n",
       "    </tr>\n",
       "    <tr>\n",
       "      <th>1</th>\n",
       "      <td>2</td>\n",
       "      <td>60756</td>\n",
       "      <td>Highly quotable</td>\n",
       "      <td>1445714996</td>\n",
       "    </tr>\n",
       "    <tr>\n",
       "      <th>2</th>\n",
       "      <td>2</td>\n",
       "      <td>60756</td>\n",
       "      <td>will ferrell</td>\n",
       "      <td>1445714992</td>\n",
       "    </tr>\n",
       "  </tbody>\n",
       "</table>\n",
       "</div>"
      ],
      "text/plain": [
       "   userId  movieId              tag   timestamp\n",
       "0       2    60756            funny  1445714994\n",
       "1       2    60756  Highly quotable  1445714996\n",
       "2       2    60756     will ferrell  1445714992"
      ]
     },
     "execution_count": 6,
     "metadata": {},
     "output_type": "execute_result"
    }
   ],
   "source": [
    "#reading the first 3 rows\n",
    "tags.head(3)"
   ]
  },
  {
   "cell_type": "code",
   "execution_count": 7,
   "id": "71acfbc3",
   "metadata": {},
   "outputs": [
    {
     "data": {
      "text/html": [
       "<div>\n",
       "<style scoped>\n",
       "    .dataframe tbody tr th:only-of-type {\n",
       "        vertical-align: middle;\n",
       "    }\n",
       "\n",
       "    .dataframe tbody tr th {\n",
       "        vertical-align: top;\n",
       "    }\n",
       "\n",
       "    .dataframe thead th {\n",
       "        text-align: right;\n",
       "    }\n",
       "</style>\n",
       "<table border=\"1\" class=\"dataframe\">\n",
       "  <thead>\n",
       "    <tr style=\"text-align: right;\">\n",
       "      <th></th>\n",
       "      <th>movieId</th>\n",
       "      <th>title</th>\n",
       "      <th>genres</th>\n",
       "      <th>imdbId</th>\n",
       "      <th>tmdbId</th>\n",
       "      <th>userId_x</th>\n",
       "      <th>rating</th>\n",
       "      <th>timestamp_x</th>\n",
       "      <th>userId_y</th>\n",
       "      <th>tag</th>\n",
       "      <th>timestamp_y</th>\n",
       "    </tr>\n",
       "  </thead>\n",
       "  <tbody>\n",
       "    <tr>\n",
       "      <th>0</th>\n",
       "      <td>1</td>\n",
       "      <td>Toy Story (1995)</td>\n",
       "      <td>Adventure|Animation|Children|Comedy|Fantasy</td>\n",
       "      <td>114709</td>\n",
       "      <td>862.0</td>\n",
       "      <td>1</td>\n",
       "      <td>4.0</td>\n",
       "      <td>964982703</td>\n",
       "      <td>336</td>\n",
       "      <td>pixar</td>\n",
       "      <td>1139045764</td>\n",
       "    </tr>\n",
       "    <tr>\n",
       "      <th>1</th>\n",
       "      <td>1</td>\n",
       "      <td>Toy Story (1995)</td>\n",
       "      <td>Adventure|Animation|Children|Comedy|Fantasy</td>\n",
       "      <td>114709</td>\n",
       "      <td>862.0</td>\n",
       "      <td>1</td>\n",
       "      <td>4.0</td>\n",
       "      <td>964982703</td>\n",
       "      <td>474</td>\n",
       "      <td>pixar</td>\n",
       "      <td>1137206825</td>\n",
       "    </tr>\n",
       "    <tr>\n",
       "      <th>2</th>\n",
       "      <td>1</td>\n",
       "      <td>Toy Story (1995)</td>\n",
       "      <td>Adventure|Animation|Children|Comedy|Fantasy</td>\n",
       "      <td>114709</td>\n",
       "      <td>862.0</td>\n",
       "      <td>1</td>\n",
       "      <td>4.0</td>\n",
       "      <td>964982703</td>\n",
       "      <td>567</td>\n",
       "      <td>fun</td>\n",
       "      <td>1525286013</td>\n",
       "    </tr>\n",
       "    <tr>\n",
       "      <th>3</th>\n",
       "      <td>1</td>\n",
       "      <td>Toy Story (1995)</td>\n",
       "      <td>Adventure|Animation|Children|Comedy|Fantasy</td>\n",
       "      <td>114709</td>\n",
       "      <td>862.0</td>\n",
       "      <td>5</td>\n",
       "      <td>4.0</td>\n",
       "      <td>847434962</td>\n",
       "      <td>336</td>\n",
       "      <td>pixar</td>\n",
       "      <td>1139045764</td>\n",
       "    </tr>\n",
       "    <tr>\n",
       "      <th>4</th>\n",
       "      <td>1</td>\n",
       "      <td>Toy Story (1995)</td>\n",
       "      <td>Adventure|Animation|Children|Comedy|Fantasy</td>\n",
       "      <td>114709</td>\n",
       "      <td>862.0</td>\n",
       "      <td>5</td>\n",
       "      <td>4.0</td>\n",
       "      <td>847434962</td>\n",
       "      <td>474</td>\n",
       "      <td>pixar</td>\n",
       "      <td>1137206825</td>\n",
       "    </tr>\n",
       "  </tbody>\n",
       "</table>\n",
       "</div>"
      ],
      "text/plain": [
       "   movieId             title                                       genres  \\\n",
       "0        1  Toy Story (1995)  Adventure|Animation|Children|Comedy|Fantasy   \n",
       "1        1  Toy Story (1995)  Adventure|Animation|Children|Comedy|Fantasy   \n",
       "2        1  Toy Story (1995)  Adventure|Animation|Children|Comedy|Fantasy   \n",
       "3        1  Toy Story (1995)  Adventure|Animation|Children|Comedy|Fantasy   \n",
       "4        1  Toy Story (1995)  Adventure|Animation|Children|Comedy|Fantasy   \n",
       "\n",
       "   imdbId  tmdbId  userId_x  rating  timestamp_x  userId_y    tag  timestamp_y  \n",
       "0  114709   862.0         1     4.0    964982703       336  pixar   1139045764  \n",
       "1  114709   862.0         1     4.0    964982703       474  pixar   1137206825  \n",
       "2  114709   862.0         1     4.0    964982703       567    fun   1525286013  \n",
       "3  114709   862.0         5     4.0    847434962       336  pixar   1139045764  \n",
       "4  114709   862.0         5     4.0    847434962       474  pixar   1137206825  "
      ]
     },
     "execution_count": 7,
     "metadata": {},
     "output_type": "execute_result"
    }
   ],
   "source": [
    "#merge movies and links on 'movieId'\n",
    "df = pd.merge(movies, links, on='movieId')\n",
    "\n",
    "#merge with ratings on 'movieId'\n",
    "df = pd.merge(df, ratings, on='movieId')\n",
    "\n",
    "#merge with tags on 'movieId'\n",
    "df = pd.merge(df, tags, on='movieId')\n",
    "\n",
    "df.head()"
   ]
  },
  {
   "cell_type": "code",
   "execution_count": 8,
   "id": "3eef24aa",
   "metadata": {},
   "outputs": [
    {
     "data": {
      "text/plain": [
       "(233213, 11)"
      ]
     },
     "execution_count": 8,
     "metadata": {},
     "output_type": "execute_result"
    }
   ],
   "source": [
    "# Display the shape of the DataFrame\n",
    "df.shape"
   ]
  },
  {
   "cell_type": "markdown",
   "id": "2505e7c5",
   "metadata": {},
   "source": [
    "This signifies that the DataFrame consists of 233,213 rows and 9 columns. Each row corresponds to a unique combination of user-movie interaction, which may include ratings and tags, while the columns represent the attributes of these interactions."
   ]
  },
  {
   "cell_type": "code",
   "execution_count": 9,
   "id": "bfe20730",
   "metadata": {},
   "outputs": [
    {
     "name": "stdout",
     "output_type": "stream",
     "text": [
      "<class 'pandas.core.frame.DataFrame'>\n",
      "Int64Index: 233213 entries, 0 to 233212\n",
      "Data columns (total 11 columns):\n",
      " #   Column       Non-Null Count   Dtype  \n",
      "---  ------       --------------   -----  \n",
      " 0   movieId      233213 non-null  int64  \n",
      " 1   title        233213 non-null  object \n",
      " 2   genres       233213 non-null  object \n",
      " 3   imdbId       233213 non-null  int64  \n",
      " 4   tmdbId       233213 non-null  float64\n",
      " 5   userId_x     233213 non-null  int64  \n",
      " 6   rating       233213 non-null  float64\n",
      " 7   timestamp_x  233213 non-null  int64  \n",
      " 8   userId_y     233213 non-null  int64  \n",
      " 9   tag          233213 non-null  object \n",
      " 10  timestamp_y  233213 non-null  int64  \n",
      "dtypes: float64(2), int64(6), object(3)\n",
      "memory usage: 21.4+ MB\n"
     ]
    }
   ],
   "source": [
    "df.info()"
   ]
  },
  {
   "cell_type": "code",
   "execution_count": 10,
   "id": "cdeb590c",
   "metadata": {},
   "outputs": [
    {
     "data": {
      "text/html": [
       "<div>\n",
       "<style scoped>\n",
       "    .dataframe tbody tr th:only-of-type {\n",
       "        vertical-align: middle;\n",
       "    }\n",
       "\n",
       "    .dataframe tbody tr th {\n",
       "        vertical-align: top;\n",
       "    }\n",
       "\n",
       "    .dataframe thead th {\n",
       "        text-align: right;\n",
       "    }\n",
       "</style>\n",
       "<table border=\"1\" class=\"dataframe\">\n",
       "  <thead>\n",
       "    <tr style=\"text-align: right;\">\n",
       "      <th></th>\n",
       "      <th>movieId</th>\n",
       "      <th>imdbId</th>\n",
       "      <th>tmdbId</th>\n",
       "      <th>userId_x</th>\n",
       "      <th>rating</th>\n",
       "      <th>timestamp_x</th>\n",
       "      <th>userId_y</th>\n",
       "      <th>timestamp_y</th>\n",
       "    </tr>\n",
       "  </thead>\n",
       "  <tbody>\n",
       "    <tr>\n",
       "      <th>count</th>\n",
       "      <td>233213.000000</td>\n",
       "      <td>2.332130e+05</td>\n",
       "      <td>233213.000000</td>\n",
       "      <td>233213.000000</td>\n",
       "      <td>233213.000000</td>\n",
       "      <td>2.332130e+05</td>\n",
       "      <td>233213.000000</td>\n",
       "      <td>2.332130e+05</td>\n",
       "    </tr>\n",
       "    <tr>\n",
       "      <th>mean</th>\n",
       "      <td>12319.999443</td>\n",
       "      <td>2.610632e+05</td>\n",
       "      <td>9378.277742</td>\n",
       "      <td>309.688191</td>\n",
       "      <td>3.966535</td>\n",
       "      <td>1.213524e+09</td>\n",
       "      <td>470.683564</td>\n",
       "      <td>1.384774e+09</td>\n",
       "    </tr>\n",
       "    <tr>\n",
       "      <th>std</th>\n",
       "      <td>28243.919401</td>\n",
       "      <td>4.414411e+05</td>\n",
       "      <td>36943.139800</td>\n",
       "      <td>178.206387</td>\n",
       "      <td>0.968637</td>\n",
       "      <td>2.250448e+08</td>\n",
       "      <td>153.329632</td>\n",
       "      <td>1.534621e+08</td>\n",
       "    </tr>\n",
       "    <tr>\n",
       "      <th>min</th>\n",
       "      <td>1.000000</td>\n",
       "      <td>1.234900e+04</td>\n",
       "      <td>11.000000</td>\n",
       "      <td>1.000000</td>\n",
       "      <td>0.500000</td>\n",
       "      <td>8.281246e+08</td>\n",
       "      <td>2.000000</td>\n",
       "      <td>1.137179e+09</td>\n",
       "    </tr>\n",
       "    <tr>\n",
       "      <th>25%</th>\n",
       "      <td>296.000000</td>\n",
       "      <td>1.103570e+05</td>\n",
       "      <td>278.000000</td>\n",
       "      <td>156.000000</td>\n",
       "      <td>3.500000</td>\n",
       "      <td>1.017365e+09</td>\n",
       "      <td>424.000000</td>\n",
       "      <td>1.242494e+09</td>\n",
       "    </tr>\n",
       "    <tr>\n",
       "      <th>50%</th>\n",
       "      <td>1198.000000</td>\n",
       "      <td>1.109120e+05</td>\n",
       "      <td>680.000000</td>\n",
       "      <td>309.000000</td>\n",
       "      <td>4.000000</td>\n",
       "      <td>1.217325e+09</td>\n",
       "      <td>477.000000</td>\n",
       "      <td>1.457901e+09</td>\n",
       "    </tr>\n",
       "    <tr>\n",
       "      <th>75%</th>\n",
       "      <td>4638.000000</td>\n",
       "      <td>1.724950e+05</td>\n",
       "      <td>1892.000000</td>\n",
       "      <td>460.000000</td>\n",
       "      <td>5.000000</td>\n",
       "      <td>1.443201e+09</td>\n",
       "      <td>599.000000</td>\n",
       "      <td>1.498457e+09</td>\n",
       "    </tr>\n",
       "    <tr>\n",
       "      <th>max</th>\n",
       "      <td>193565.000000</td>\n",
       "      <td>5.580390e+06</td>\n",
       "      <td>503475.000000</td>\n",
       "      <td>610.000000</td>\n",
       "      <td>5.000000</td>\n",
       "      <td>1.537799e+09</td>\n",
       "      <td>610.000000</td>\n",
       "      <td>1.537099e+09</td>\n",
       "    </tr>\n",
       "  </tbody>\n",
       "</table>\n",
       "</div>"
      ],
      "text/plain": [
       "             movieId        imdbId         tmdbId       userId_x  \\\n",
       "count  233213.000000  2.332130e+05  233213.000000  233213.000000   \n",
       "mean    12319.999443  2.610632e+05    9378.277742     309.688191   \n",
       "std     28243.919401  4.414411e+05   36943.139800     178.206387   \n",
       "min         1.000000  1.234900e+04      11.000000       1.000000   \n",
       "25%       296.000000  1.103570e+05     278.000000     156.000000   \n",
       "50%      1198.000000  1.109120e+05     680.000000     309.000000   \n",
       "75%      4638.000000  1.724950e+05    1892.000000     460.000000   \n",
       "max    193565.000000  5.580390e+06  503475.000000     610.000000   \n",
       "\n",
       "              rating   timestamp_x       userId_y   timestamp_y  \n",
       "count  233213.000000  2.332130e+05  233213.000000  2.332130e+05  \n",
       "mean        3.966535  1.213524e+09     470.683564  1.384774e+09  \n",
       "std         0.968637  2.250448e+08     153.329632  1.534621e+08  \n",
       "min         0.500000  8.281246e+08       2.000000  1.137179e+09  \n",
       "25%         3.500000  1.017365e+09     424.000000  1.242494e+09  \n",
       "50%         4.000000  1.217325e+09     477.000000  1.457901e+09  \n",
       "75%         5.000000  1.443201e+09     599.000000  1.498457e+09  \n",
       "max         5.000000  1.537799e+09     610.000000  1.537099e+09  "
      ]
     },
     "execution_count": 10,
     "metadata": {},
     "output_type": "execute_result"
    }
   ],
   "source": [
    "# Display descriptive statistics of the DataFrame\n",
    "df.describe()"
   ]
  },
  {
   "cell_type": "code",
   "execution_count": 11,
   "id": "5ac9cfe0",
   "metadata": {},
   "outputs": [
    {
     "data": {
      "text/html": [
       "<div>\n",
       "<style scoped>\n",
       "    .dataframe tbody tr th:only-of-type {\n",
       "        vertical-align: middle;\n",
       "    }\n",
       "\n",
       "    .dataframe tbody tr th {\n",
       "        vertical-align: top;\n",
       "    }\n",
       "\n",
       "    .dataframe thead th {\n",
       "        text-align: right;\n",
       "    }\n",
       "</style>\n",
       "<table border=\"1\" class=\"dataframe\">\n",
       "  <thead>\n",
       "    <tr style=\"text-align: right;\">\n",
       "      <th></th>\n",
       "      <th>movieId</th>\n",
       "      <th>title</th>\n",
       "      <th>genres</th>\n",
       "      <th>imdbId</th>\n",
       "      <th>tmdbId</th>\n",
       "      <th>userId_x</th>\n",
       "      <th>rating</th>\n",
       "      <th>userId_y</th>\n",
       "      <th>tag</th>\n",
       "    </tr>\n",
       "  </thead>\n",
       "  <tbody>\n",
       "    <tr>\n",
       "      <th>0</th>\n",
       "      <td>1</td>\n",
       "      <td>Toy Story (1995)</td>\n",
       "      <td>Adventure|Animation|Children|Comedy|Fantasy</td>\n",
       "      <td>114709</td>\n",
       "      <td>862.0</td>\n",
       "      <td>1</td>\n",
       "      <td>4.0</td>\n",
       "      <td>336</td>\n",
       "      <td>pixar</td>\n",
       "    </tr>\n",
       "    <tr>\n",
       "      <th>1</th>\n",
       "      <td>1</td>\n",
       "      <td>Toy Story (1995)</td>\n",
       "      <td>Adventure|Animation|Children|Comedy|Fantasy</td>\n",
       "      <td>114709</td>\n",
       "      <td>862.0</td>\n",
       "      <td>1</td>\n",
       "      <td>4.0</td>\n",
       "      <td>474</td>\n",
       "      <td>pixar</td>\n",
       "    </tr>\n",
       "    <tr>\n",
       "      <th>2</th>\n",
       "      <td>1</td>\n",
       "      <td>Toy Story (1995)</td>\n",
       "      <td>Adventure|Animation|Children|Comedy|Fantasy</td>\n",
       "      <td>114709</td>\n",
       "      <td>862.0</td>\n",
       "      <td>1</td>\n",
       "      <td>4.0</td>\n",
       "      <td>567</td>\n",
       "      <td>fun</td>\n",
       "    </tr>\n",
       "    <tr>\n",
       "      <th>3</th>\n",
       "      <td>1</td>\n",
       "      <td>Toy Story (1995)</td>\n",
       "      <td>Adventure|Animation|Children|Comedy|Fantasy</td>\n",
       "      <td>114709</td>\n",
       "      <td>862.0</td>\n",
       "      <td>5</td>\n",
       "      <td>4.0</td>\n",
       "      <td>336</td>\n",
       "      <td>pixar</td>\n",
       "    </tr>\n",
       "    <tr>\n",
       "      <th>4</th>\n",
       "      <td>1</td>\n",
       "      <td>Toy Story (1995)</td>\n",
       "      <td>Adventure|Animation|Children|Comedy|Fantasy</td>\n",
       "      <td>114709</td>\n",
       "      <td>862.0</td>\n",
       "      <td>5</td>\n",
       "      <td>4.0</td>\n",
       "      <td>474</td>\n",
       "      <td>pixar</td>\n",
       "    </tr>\n",
       "  </tbody>\n",
       "</table>\n",
       "</div>"
      ],
      "text/plain": [
       "   movieId             title                                       genres  \\\n",
       "0        1  Toy Story (1995)  Adventure|Animation|Children|Comedy|Fantasy   \n",
       "1        1  Toy Story (1995)  Adventure|Animation|Children|Comedy|Fantasy   \n",
       "2        1  Toy Story (1995)  Adventure|Animation|Children|Comedy|Fantasy   \n",
       "3        1  Toy Story (1995)  Adventure|Animation|Children|Comedy|Fantasy   \n",
       "4        1  Toy Story (1995)  Adventure|Animation|Children|Comedy|Fantasy   \n",
       "\n",
       "   imdbId  tmdbId  userId_x  rating  userId_y    tag  \n",
       "0  114709   862.0         1     4.0       336  pixar  \n",
       "1  114709   862.0         1     4.0       474  pixar  \n",
       "2  114709   862.0         1     4.0       567    fun  \n",
       "3  114709   862.0         5     4.0       336  pixar  \n",
       "4  114709   862.0         5     4.0       474  pixar  "
      ]
     },
     "execution_count": 11,
     "metadata": {},
     "output_type": "execute_result"
    }
   ],
   "source": [
    "# List of columns to be dropped from the DataFrame\n",
    "columns_to_drop = ['timestamp_x', 'timestamp_y']\n",
    "\n",
    "# Drop the specified columns in-place from the DataFrame\n",
    "df.drop(columns=columns_to_drop, inplace=True)\n",
    "\n",
    "# Display the first few rows of the modified DataFrame\n",
    "df.head()"
   ]
  },
  {
   "cell_type": "code",
   "execution_count": 12,
   "id": "fb97be69",
   "metadata": {},
   "outputs": [
    {
     "data": {
      "text/plain": [
       "['movieId',\n",
       " 'title',\n",
       " 'genres',\n",
       " 'imdbId',\n",
       " 'tmdbId',\n",
       " 'userId_x',\n",
       " 'rating',\n",
       " 'userId_y',\n",
       " 'tag']"
      ]
     },
     "execution_count": 12,
     "metadata": {},
     "output_type": "execute_result"
    }
   ],
   "source": [
    "# Get the column names of the DataFrame and store them in a list\n",
    "column_names = df.columns.tolist()\n",
    "\n",
    "# Display the list of column names\n",
    "column_names"
   ]
  },
  {
   "cell_type": "code",
   "execution_count": 13,
   "id": "6a48215b",
   "metadata": {},
   "outputs": [
    {
     "data": {
      "text/plain": [
       "movieId     0\n",
       "title       0\n",
       "genres      0\n",
       "imdbId      0\n",
       "tmdbId      0\n",
       "userId_x    0\n",
       "rating      0\n",
       "userId_y    0\n",
       "tag         0\n",
       "dtype: int64"
      ]
     },
     "execution_count": 13,
     "metadata": {},
     "output_type": "execute_result"
    }
   ],
   "source": [
    "# Check for missing values in each column of the DataFrame 'df' and sum them up\n",
    "df.isnull().sum()"
   ]
  },
  {
   "cell_type": "code",
   "execution_count": 14,
   "id": "d571bb11",
   "metadata": {},
   "outputs": [
    {
     "data": {
      "text/plain": [
       "0"
      ]
     },
     "execution_count": 14,
     "metadata": {},
     "output_type": "execute_result"
    }
   ],
   "source": [
    "# Count the number of duplicated rows in the DataFrame 'df'\n",
    "df.duplicated().sum()"
   ]
  },
  {
   "cell_type": "markdown",
   "id": "cf80baaa",
   "metadata": {},
   "source": [
    "We will exclusively utilize the `movies.csv` dataset and the `ratings.csv` dataset for our analysis, as these two datasets encompass the necessary columns and information required for our project."
   ]
  },
  {
   "cell_type": "code",
   "execution_count": 15,
   "id": "03057449",
   "metadata": {},
   "outputs": [],
   "source": [
    "# Function to load and join CSV files based on a common column (movieId)\n",
    "def load_and_join_csv(file_path_1, file_path_2, file_path_3):\n",
    "    # Load CSV files into Pandas DataFrames\n",
    "    movies = pd.read_csv(file_path_1)\n",
    "    ratings = pd.read_csv(file_path_2)\n",
    "    # Note: 'tags' DataFrame is not used in the current implementation\n",
    "    \n",
    "    # Perform an inner join to combine the datasets based on the common column 'movieId'\n",
    "    movies_ratings_df = pd.merge(movies, ratings, on='movieId', how='inner')\n",
    "      \n",
    "    return movies_ratings_df"
   ]
  },
  {
   "cell_type": "code",
   "execution_count": 16,
   "id": "8223ced0",
   "metadata": {},
   "outputs": [
    {
     "data": {
      "text/html": [
       "<div>\n",
       "<style scoped>\n",
       "    .dataframe tbody tr th:only-of-type {\n",
       "        vertical-align: middle;\n",
       "    }\n",
       "\n",
       "    .dataframe tbody tr th {\n",
       "        vertical-align: top;\n",
       "    }\n",
       "\n",
       "    .dataframe thead th {\n",
       "        text-align: right;\n",
       "    }\n",
       "</style>\n",
       "<table border=\"1\" class=\"dataframe\">\n",
       "  <thead>\n",
       "    <tr style=\"text-align: right;\">\n",
       "      <th></th>\n",
       "      <th>movieId</th>\n",
       "      <th>title</th>\n",
       "      <th>genres</th>\n",
       "      <th>userId</th>\n",
       "      <th>rating</th>\n",
       "      <th>timestamp</th>\n",
       "    </tr>\n",
       "  </thead>\n",
       "  <tbody>\n",
       "    <tr>\n",
       "      <th>0</th>\n",
       "      <td>1</td>\n",
       "      <td>Toy Story (1995)</td>\n",
       "      <td>Adventure|Animation|Children|Comedy|Fantasy</td>\n",
       "      <td>1</td>\n",
       "      <td>4.0</td>\n",
       "      <td>964982703</td>\n",
       "    </tr>\n",
       "    <tr>\n",
       "      <th>1</th>\n",
       "      <td>1</td>\n",
       "      <td>Toy Story (1995)</td>\n",
       "      <td>Adventure|Animation|Children|Comedy|Fantasy</td>\n",
       "      <td>5</td>\n",
       "      <td>4.0</td>\n",
       "      <td>847434962</td>\n",
       "    </tr>\n",
       "    <tr>\n",
       "      <th>2</th>\n",
       "      <td>1</td>\n",
       "      <td>Toy Story (1995)</td>\n",
       "      <td>Adventure|Animation|Children|Comedy|Fantasy</td>\n",
       "      <td>7</td>\n",
       "      <td>4.5</td>\n",
       "      <td>1106635946</td>\n",
       "    </tr>\n",
       "    <tr>\n",
       "      <th>3</th>\n",
       "      <td>1</td>\n",
       "      <td>Toy Story (1995)</td>\n",
       "      <td>Adventure|Animation|Children|Comedy|Fantasy</td>\n",
       "      <td>15</td>\n",
       "      <td>2.5</td>\n",
       "      <td>1510577970</td>\n",
       "    </tr>\n",
       "    <tr>\n",
       "      <th>4</th>\n",
       "      <td>1</td>\n",
       "      <td>Toy Story (1995)</td>\n",
       "      <td>Adventure|Animation|Children|Comedy|Fantasy</td>\n",
       "      <td>17</td>\n",
       "      <td>4.5</td>\n",
       "      <td>1305696483</td>\n",
       "    </tr>\n",
       "    <tr>\n",
       "      <th>...</th>\n",
       "      <td>...</td>\n",
       "      <td>...</td>\n",
       "      <td>...</td>\n",
       "      <td>...</td>\n",
       "      <td>...</td>\n",
       "      <td>...</td>\n",
       "    </tr>\n",
       "    <tr>\n",
       "      <th>100831</th>\n",
       "      <td>193581</td>\n",
       "      <td>Black Butler: Book of the Atlantic (2017)</td>\n",
       "      <td>Action|Animation|Comedy|Fantasy</td>\n",
       "      <td>184</td>\n",
       "      <td>4.0</td>\n",
       "      <td>1537109082</td>\n",
       "    </tr>\n",
       "    <tr>\n",
       "      <th>100832</th>\n",
       "      <td>193583</td>\n",
       "      <td>No Game No Life: Zero (2017)</td>\n",
       "      <td>Animation|Comedy|Fantasy</td>\n",
       "      <td>184</td>\n",
       "      <td>3.5</td>\n",
       "      <td>1537109545</td>\n",
       "    </tr>\n",
       "    <tr>\n",
       "      <th>100833</th>\n",
       "      <td>193585</td>\n",
       "      <td>Flint (2017)</td>\n",
       "      <td>Drama</td>\n",
       "      <td>184</td>\n",
       "      <td>3.5</td>\n",
       "      <td>1537109805</td>\n",
       "    </tr>\n",
       "    <tr>\n",
       "      <th>100834</th>\n",
       "      <td>193587</td>\n",
       "      <td>Bungo Stray Dogs: Dead Apple (2018)</td>\n",
       "      <td>Action|Animation</td>\n",
       "      <td>184</td>\n",
       "      <td>3.5</td>\n",
       "      <td>1537110021</td>\n",
       "    </tr>\n",
       "    <tr>\n",
       "      <th>100835</th>\n",
       "      <td>193609</td>\n",
       "      <td>Andrew Dice Clay: Dice Rules (1991)</td>\n",
       "      <td>Comedy</td>\n",
       "      <td>331</td>\n",
       "      <td>4.0</td>\n",
       "      <td>1537157606</td>\n",
       "    </tr>\n",
       "  </tbody>\n",
       "</table>\n",
       "<p>100836 rows × 6 columns</p>\n",
       "</div>"
      ],
      "text/plain": [
       "        movieId                                      title  \\\n",
       "0             1                           Toy Story (1995)   \n",
       "1             1                           Toy Story (1995)   \n",
       "2             1                           Toy Story (1995)   \n",
       "3             1                           Toy Story (1995)   \n",
       "4             1                           Toy Story (1995)   \n",
       "...         ...                                        ...   \n",
       "100831   193581  Black Butler: Book of the Atlantic (2017)   \n",
       "100832   193583               No Game No Life: Zero (2017)   \n",
       "100833   193585                               Flint (2017)   \n",
       "100834   193587        Bungo Stray Dogs: Dead Apple (2018)   \n",
       "100835   193609        Andrew Dice Clay: Dice Rules (1991)   \n",
       "\n",
       "                                             genres  userId  rating  \\\n",
       "0       Adventure|Animation|Children|Comedy|Fantasy       1     4.0   \n",
       "1       Adventure|Animation|Children|Comedy|Fantasy       5     4.0   \n",
       "2       Adventure|Animation|Children|Comedy|Fantasy       7     4.5   \n",
       "3       Adventure|Animation|Children|Comedy|Fantasy      15     2.5   \n",
       "4       Adventure|Animation|Children|Comedy|Fantasy      17     4.5   \n",
       "...                                             ...     ...     ...   \n",
       "100831              Action|Animation|Comedy|Fantasy     184     4.0   \n",
       "100832                     Animation|Comedy|Fantasy     184     3.5   \n",
       "100833                                        Drama     184     3.5   \n",
       "100834                             Action|Animation     184     3.5   \n",
       "100835                                       Comedy     331     4.0   \n",
       "\n",
       "         timestamp  \n",
       "0        964982703  \n",
       "1        847434962  \n",
       "2       1106635946  \n",
       "3       1510577970  \n",
       "4       1305696483  \n",
       "...            ...  \n",
       "100831  1537109082  \n",
       "100832  1537109545  \n",
       "100833  1537109805  \n",
       "100834  1537110021  \n",
       "100835  1537157606  \n",
       "\n",
       "[100836 rows x 6 columns]"
      ]
     },
     "execution_count": 16,
     "metadata": {},
     "output_type": "execute_result"
    }
   ],
   "source": [
    "# Replace the placeholders with the actual file paths\n",
    "file_path_movies = \"data/ml-latest-small/movies.csv\"\n",
    "file_path_ratings = \"data/ml-latest-small/ratings.csv\"\n",
    "file_path_tags = \"ml-latest-small/tags.csv\"\n",
    "\n",
    "# Call the function with the specified file paths\n",
    "movie_rating_df = load_and_join_csv(file_path_movies, file_path_ratings, file_path_tags)\n",
    "\n",
    "# Display the resulting dataset\n",
    "movie_rating_df"
   ]
  },
  {
   "cell_type": "markdown",
   "id": "1478ed97",
   "metadata": {},
   "source": [
    "### Data type Conversion "
   ]
  },
  {
   "cell_type": "markdown",
   "id": "1a91b311",
   "metadata": {},
   "source": [
    "Convert timestamp to datetime"
   ]
  },
  {
   "cell_type": "code",
   "execution_count": 17,
   "id": "6ad59bf5",
   "metadata": {},
   "outputs": [
    {
     "name": "stdout",
     "output_type": "stream",
     "text": [
      "<class 'pandas.core.frame.DataFrame'>\n",
      "Int64Index: 100836 entries, 0 to 100835\n",
      "Data columns (total 6 columns):\n",
      " #   Column     Non-Null Count   Dtype         \n",
      "---  ------     --------------   -----         \n",
      " 0   movieId    100836 non-null  int64         \n",
      " 1   title      100836 non-null  object        \n",
      " 2   genres     100836 non-null  object        \n",
      " 3   userId     100836 non-null  int64         \n",
      " 4   rating     100836 non-null  float64       \n",
      " 5   timestamp  100836 non-null  datetime64[ns]\n",
      "dtypes: datetime64[ns](1), float64(1), int64(2), object(2)\n",
      "memory usage: 5.4+ MB\n"
     ]
    }
   ],
   "source": [
    "# Converting 'timestamp' column to datetime type using seconds as the unit\n",
    "movie_rating_df['timestamp'] = pd.to_datetime(movie_rating_df['timestamp'], unit='s')\n",
    "\n",
    "# Displaying information about the DataFrame after the conversion\n",
    "movie_rating_df.info()"
   ]
  },
  {
   "cell_type": "markdown",
   "id": "a0f6de38",
   "metadata": {},
   "source": [
    "### Feature Engineering "
   ]
  },
  {
   "cell_type": "markdown",
   "id": "fdc51739",
   "metadata": {},
   "source": [
    "In the following cell, we add two additional columns, specifically \"hour\" and \"month,\" to simplify the analysis of user engagement peaks at different hours of the day and month."
   ]
  },
  {
   "cell_type": "code",
   "execution_count": 18,
   "id": "4e367332",
   "metadata": {},
   "outputs": [
    {
     "name": "stdout",
     "output_type": "stream",
     "text": [
      "<class 'pandas.core.frame.DataFrame'>\n",
      "Int64Index: 100836 entries, 0 to 100835\n",
      "Data columns (total 8 columns):\n",
      " #   Column     Non-Null Count   Dtype         \n",
      "---  ------     --------------   -----         \n",
      " 0   movieId    100836 non-null  int64         \n",
      " 1   title      100836 non-null  object        \n",
      " 2   genres     100836 non-null  object        \n",
      " 3   userId     100836 non-null  int64         \n",
      " 4   rating     100836 non-null  float64       \n",
      " 5   timestamp  100836 non-null  datetime64[ns]\n",
      " 6   hour       100836 non-null  int64         \n",
      " 7   month      100836 non-null  int64         \n",
      "dtypes: datetime64[ns](1), float64(1), int64(4), object(2)\n",
      "memory usage: 6.9+ MB\n"
     ]
    }
   ],
   "source": [
    "# Import the calendar module\n",
    "import calendar\n",
    "\n",
    "# Extract the hour and month from the 'timestamp' column and create new columns\n",
    "movie_rating_df['hour'] = movie_rating_df['timestamp'].dt.hour\n",
    "movie_rating_df['month'] = movie_rating_df['timestamp'].dt.month\n",
    "\n",
    "# Display information about the DataFrame, including data types and non-null counts\n",
    "movie_rating_df.info()"
   ]
  },
  {
   "cell_type": "markdown",
   "id": "12d651c1",
   "metadata": {},
   "source": [
    "# 4. Exploratory Data Analysis (EDA)"
   ]
  },
  {
   "cell_type": "code",
   "execution_count": 19,
   "id": "c64b0acc",
   "metadata": {},
   "outputs": [
    {
     "data": {
      "text/html": [
       "<div>\n",
       "<style scoped>\n",
       "    .dataframe tbody tr th:only-of-type {\n",
       "        vertical-align: middle;\n",
       "    }\n",
       "\n",
       "    .dataframe tbody tr th {\n",
       "        vertical-align: top;\n",
       "    }\n",
       "\n",
       "    .dataframe thead th {\n",
       "        text-align: right;\n",
       "    }\n",
       "</style>\n",
       "<table border=\"1\" class=\"dataframe\">\n",
       "  <thead>\n",
       "    <tr style=\"text-align: right;\">\n",
       "      <th></th>\n",
       "      <th>movieId</th>\n",
       "      <th>title</th>\n",
       "      <th>genres</th>\n",
       "      <th>userId</th>\n",
       "      <th>rating</th>\n",
       "      <th>timestamp</th>\n",
       "      <th>hour</th>\n",
       "      <th>month</th>\n",
       "    </tr>\n",
       "  </thead>\n",
       "  <tbody>\n",
       "    <tr>\n",
       "      <th>0</th>\n",
       "      <td>1</td>\n",
       "      <td>Toy Story (1995)</td>\n",
       "      <td>Adventure|Animation|Children|Comedy|Fantasy</td>\n",
       "      <td>1</td>\n",
       "      <td>4.0</td>\n",
       "      <td>2000-07-30 18:45:03</td>\n",
       "      <td>18</td>\n",
       "      <td>7</td>\n",
       "    </tr>\n",
       "    <tr>\n",
       "      <th>1</th>\n",
       "      <td>1</td>\n",
       "      <td>Toy Story (1995)</td>\n",
       "      <td>Adventure|Animation|Children|Comedy|Fantasy</td>\n",
       "      <td>5</td>\n",
       "      <td>4.0</td>\n",
       "      <td>1996-11-08 06:36:02</td>\n",
       "      <td>6</td>\n",
       "      <td>11</td>\n",
       "    </tr>\n",
       "    <tr>\n",
       "      <th>2</th>\n",
       "      <td>1</td>\n",
       "      <td>Toy Story (1995)</td>\n",
       "      <td>Adventure|Animation|Children|Comedy|Fantasy</td>\n",
       "      <td>7</td>\n",
       "      <td>4.5</td>\n",
       "      <td>2005-01-25 06:52:26</td>\n",
       "      <td>6</td>\n",
       "      <td>1</td>\n",
       "    </tr>\n",
       "    <tr>\n",
       "      <th>3</th>\n",
       "      <td>1</td>\n",
       "      <td>Toy Story (1995)</td>\n",
       "      <td>Adventure|Animation|Children|Comedy|Fantasy</td>\n",
       "      <td>15</td>\n",
       "      <td>2.5</td>\n",
       "      <td>2017-11-13 12:59:30</td>\n",
       "      <td>12</td>\n",
       "      <td>11</td>\n",
       "    </tr>\n",
       "    <tr>\n",
       "      <th>4</th>\n",
       "      <td>1</td>\n",
       "      <td>Toy Story (1995)</td>\n",
       "      <td>Adventure|Animation|Children|Comedy|Fantasy</td>\n",
       "      <td>17</td>\n",
       "      <td>4.5</td>\n",
       "      <td>2011-05-18 05:28:03</td>\n",
       "      <td>5</td>\n",
       "      <td>5</td>\n",
       "    </tr>\n",
       "    <tr>\n",
       "      <th>...</th>\n",
       "      <td>...</td>\n",
       "      <td>...</td>\n",
       "      <td>...</td>\n",
       "      <td>...</td>\n",
       "      <td>...</td>\n",
       "      <td>...</td>\n",
       "      <td>...</td>\n",
       "      <td>...</td>\n",
       "    </tr>\n",
       "    <tr>\n",
       "      <th>100831</th>\n",
       "      <td>193581</td>\n",
       "      <td>Black Butler: Book of the Atlantic (2017)</td>\n",
       "      <td>Action|Animation|Comedy|Fantasy</td>\n",
       "      <td>184</td>\n",
       "      <td>4.0</td>\n",
       "      <td>2018-09-16 14:44:42</td>\n",
       "      <td>14</td>\n",
       "      <td>9</td>\n",
       "    </tr>\n",
       "    <tr>\n",
       "      <th>100832</th>\n",
       "      <td>193583</td>\n",
       "      <td>No Game No Life: Zero (2017)</td>\n",
       "      <td>Animation|Comedy|Fantasy</td>\n",
       "      <td>184</td>\n",
       "      <td>3.5</td>\n",
       "      <td>2018-09-16 14:52:25</td>\n",
       "      <td>14</td>\n",
       "      <td>9</td>\n",
       "    </tr>\n",
       "    <tr>\n",
       "      <th>100833</th>\n",
       "      <td>193585</td>\n",
       "      <td>Flint (2017)</td>\n",
       "      <td>Drama</td>\n",
       "      <td>184</td>\n",
       "      <td>3.5</td>\n",
       "      <td>2018-09-16 14:56:45</td>\n",
       "      <td>14</td>\n",
       "      <td>9</td>\n",
       "    </tr>\n",
       "    <tr>\n",
       "      <th>100834</th>\n",
       "      <td>193587</td>\n",
       "      <td>Bungo Stray Dogs: Dead Apple (2018)</td>\n",
       "      <td>Action|Animation</td>\n",
       "      <td>184</td>\n",
       "      <td>3.5</td>\n",
       "      <td>2018-09-16 15:00:21</td>\n",
       "      <td>15</td>\n",
       "      <td>9</td>\n",
       "    </tr>\n",
       "    <tr>\n",
       "      <th>100835</th>\n",
       "      <td>193609</td>\n",
       "      <td>Andrew Dice Clay: Dice Rules (1991)</td>\n",
       "      <td>Comedy</td>\n",
       "      <td>331</td>\n",
       "      <td>4.0</td>\n",
       "      <td>2018-09-17 04:13:26</td>\n",
       "      <td>4</td>\n",
       "      <td>9</td>\n",
       "    </tr>\n",
       "  </tbody>\n",
       "</table>\n",
       "<p>100836 rows × 8 columns</p>\n",
       "</div>"
      ],
      "text/plain": [
       "        movieId                                      title  \\\n",
       "0             1                           Toy Story (1995)   \n",
       "1             1                           Toy Story (1995)   \n",
       "2             1                           Toy Story (1995)   \n",
       "3             1                           Toy Story (1995)   \n",
       "4             1                           Toy Story (1995)   \n",
       "...         ...                                        ...   \n",
       "100831   193581  Black Butler: Book of the Atlantic (2017)   \n",
       "100832   193583               No Game No Life: Zero (2017)   \n",
       "100833   193585                               Flint (2017)   \n",
       "100834   193587        Bungo Stray Dogs: Dead Apple (2018)   \n",
       "100835   193609        Andrew Dice Clay: Dice Rules (1991)   \n",
       "\n",
       "                                             genres  userId  rating  \\\n",
       "0       Adventure|Animation|Children|Comedy|Fantasy       1     4.0   \n",
       "1       Adventure|Animation|Children|Comedy|Fantasy       5     4.0   \n",
       "2       Adventure|Animation|Children|Comedy|Fantasy       7     4.5   \n",
       "3       Adventure|Animation|Children|Comedy|Fantasy      15     2.5   \n",
       "4       Adventure|Animation|Children|Comedy|Fantasy      17     4.5   \n",
       "...                                             ...     ...     ...   \n",
       "100831              Action|Animation|Comedy|Fantasy     184     4.0   \n",
       "100832                     Animation|Comedy|Fantasy     184     3.5   \n",
       "100833                                        Drama     184     3.5   \n",
       "100834                             Action|Animation     184     3.5   \n",
       "100835                                       Comedy     331     4.0   \n",
       "\n",
       "                 timestamp  hour  month  \n",
       "0      2000-07-30 18:45:03    18      7  \n",
       "1      1996-11-08 06:36:02     6     11  \n",
       "2      2005-01-25 06:52:26     6      1  \n",
       "3      2017-11-13 12:59:30    12     11  \n",
       "4      2011-05-18 05:28:03     5      5  \n",
       "...                    ...   ...    ...  \n",
       "100831 2018-09-16 14:44:42    14      9  \n",
       "100832 2018-09-16 14:52:25    14      9  \n",
       "100833 2018-09-16 14:56:45    14      9  \n",
       "100834 2018-09-16 15:00:21    15      9  \n",
       "100835 2018-09-17 04:13:26     4      9  \n",
       "\n",
       "[100836 rows x 8 columns]"
      ]
     },
     "execution_count": 19,
     "metadata": {},
     "output_type": "execute_result"
    }
   ],
   "source": [
    "movie_rating_df"
   ]
  },
  {
   "cell_type": "markdown",
   "id": "50bf2611",
   "metadata": {},
   "source": [
    "### Average Hourly Rating "
   ]
  },
  {
   "cell_type": "code",
   "execution_count": 20,
   "id": "667a99a4",
   "metadata": {},
   "outputs": [
    {
     "data": {
<<<<<<< HEAD
      "image/png": "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",
=======
      "image/png": "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\n",
>>>>>>> 820b6ddf3c2112242b8fe1a08fec0232c02ca584
      "text/plain": [
       "<Figure size 936x432 with 1 Axes>"
      ]
     },
     "metadata": {
      "needs_background": "light"
     },
     "output_type": "display_data"
    }
   ],
   "source": [
    "# Group the movie ratings DataFrame by hour and calculate the average rating for each hour\n",
    "hourly_average_ratings = movie_rating_df.groupby('hour')['rating'].mean()\n",
    "\n",
    "# Plotting the peak viewing time trends\n",
    "plt.figure(figsize=(13, 6))\n",
    "hourly_average_ratings.plot(kind='line', marker='o', color='blue', title='Peak Movie Watching Times', grid= True)\n",
    "plt.xlabel('Hour of the Day')\n",
    "plt.ylabel('Average Rating')\n",
    "plt.show()"
   ]
  },
  {
   "cell_type": "markdown",
   "id": "7f73473b",
   "metadata": {},
   "source": [
    "0600hrs appears to have the highest ratings, while 2000hrs has the lowest. This could suggest that viewers tend to rate movies more positively in the early morning hours and potentially less favorably in the evening."
   ]
  },
  {
   "cell_type": "markdown",
   "id": "9f0e8e17",
   "metadata": {},
   "source": [
    "### Average Monthly Rating "
   ]
  },
  {
   "cell_type": "code",
   "execution_count": 21,
   "id": "7e8bd625",
   "metadata": {
    "scrolled": false
   },
   "outputs": [
    {
     "data": {
      "image/png": "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\n",
      "text/plain": [
       "<Figure size 936x432 with 1 Axes>"
      ]
     },
     "metadata": {
      "needs_background": "light"
     },
     "output_type": "display_data"
    }
   ],
   "source": [
    "# Extract the month from the 'timestamp' column and create a new 'month' column\n",
    "movie_rating_df['month'] = movie_rating_df['timestamp'].dt.month\n",
    "\n",
    "# Calculate the average rating for each month using groupby\n",
    "monthly_average_ratings = movie_rating_df.groupby('month')['rating'].mean()\n",
    "\n",
    "# Plotting the average monthly rating graph with grid lines\n",
    "plt.figure(figsize=(13, 6))\n",
    "monthly_average_ratings.plot(kind='bar', color='brown', title='Average Monthly Ratings', grid=True)\n",
    "plt.xlabel('Month')\n",
    "plt.ylabel('Average Rating')\n",
    "plt.xticks(rotation=0)  # Rotate x-axis labels for better visibility\n",
    "plt.show()"
   ]
  },
  {
   "cell_type": "markdown",
   "id": "40d16116",
   "metadata": {},
   "source": [
    "High-Rated Months (Average Rating 3.5 and above): January (1), April (4), July (7), September (9), October (10), November (11), and December (12) consistently show average ratings of 3.5 and above. This suggests that movies released or watched during these months tend to be well-received or rated more positively by viewers."
   ]
  },
  {
   "cell_type": "code",
   "execution_count": 22,
   "id": "f6569de6",
   "metadata": {},
   "outputs": [
    {
     "data": {
      "image/png": "iVBORw0KGgoAAAANSUhEUgAAAxgAAAGDCAYAAACoQ7bNAAAAOXRFWHRTb2Z0d2FyZQBNYXRwbG90bGliIHZlcnNpb24zLjMuMSwgaHR0cHM6Ly9tYXRwbG90bGliLm9yZy/d3fzzAAAACXBIWXMAAAsTAAALEwEAmpwYAAAqM0lEQVR4nO3de7RkdX3n/fdHWhsUkHs/DY2ChlaRwQsdQjSabjGBKBcnKxgYUVQiifFRzOgoOEnajsOoIzHRJDrDiFyE2CHEC1EwEkzjio+ANF4AEURE6NACKshFbW7f54+9W4rDOadP19l1ijr1fq111qn67dv3W3XE+vT+7dqpKiRJkiSpC48bdgGSJEmS5g8DhiRJkqTOGDAkSZIkdcaAIUmSJKkzBgxJkiRJnTFgSJIkSeqMAUOSRkCS05P8jyEdO0lOS3JHksvm4HhPSXJPki0Gfaz5Lsm7k5w17DokjRcDhiT1IcmNSW5N8qSesT9IsmaIZQ3KbwC/BSypqv0nLkzy2iQPtqHgriTfTHLITHfevpYv3fi8qm6qqq2r6sFuyh++9jWqJB+cMP6Kdvz0Do6xPMm62e5HkmbLgCFJ/VsAHD/sIjZXH2cGngrcWFX3TrPOV6tqa2A74CPA6iTb9VfhaEuyYIpF3wN+f8Ly1wDXDb4qSZo7BgxJ6t8HgLdP9kE6yR7tv0wv6Blbk+QP2sevTfKVJH+V5M4kNyR5QTt+c5LbkhwzYbc7Jbkwyd1JLk7y1J59P7Nd9pMk1yZ5Zc+y05N8NMn5Se4FVkxS765Jzmu3vz7JG9rxY4GPAb/enqFYNd0LUlUPAZ8AngTs1e7j6Um+lOTHSX6U5OyNr1mSTwBPAf653f87Jr527ev2nvb1ujvJF5Ps1FP7a5L8oN3/n/WeEUmyf5LL2zMrt048g9Czj+VJ1iV5V1vjjUle1bN8YZKTk9zU7ud/J9lqwrbvTPJD4LQpXp4fAlcCB7Xb7QC8ADhvQi2HJbm6/btYk+RZPctuTPL2JN9K8tMk/5Bky/ZM2gXAru3reE+SXdvNnpDkzPa1uzrJsuneQ0maLQOGJPXvcmAN8PY+t/814FvAjsDfA6uBXwV+BTga+NskW/es/yrgPcBOwDeAswHaD5cXtvvYBTgK+EiSZ/ds+1+Ak4BtgH+fpJZPAuuAXYHfA/5nkgOr6lTgj2jPUFTVyukaas+OvA64H/jBxmHgve2+nwXsDrwboKpeDdwEHNru/39Nsev/0u53F+AJtK95kr1pzpi8ClgMPBnYrWe7DwEfqqptgacD50xT/v9D89ruBhwDnJLkGe2y9wNLgefSvD+7AX8+YdsdaM72HDfNMc6kOWsBcCTwWWDDxoVJltK8F28FdgbOpwlfT+jZxyuBg4E9gX2B17Znl34HuKV9Hbeuqlva9Q+j+dvajibM/O009UnSrBkwJGl2/hx4c5Kd+9j2+1V1WnutwT/QfPD+i6raUFVfBO6j+TC70eer6stVtQH47zRnFXYHDqGZwnRaVT1QVVcA/0QTFDb6bFV9paoeqqpf9BbR7uM3gHdW1S+q6hs0Zy1evRm9HJDkTuAXwMnA0VV1G0BVXV9VF7Z93Q58EPjNzdg3wGlVdV1V/ZwmJDy3Hf894J+r6t+r6j6a96N6trsf+JUkO1XVPVV1ySaO82dtnRcDnwdemSTAG4A/qaqfVNXdwP+kCQgbPQSsbLf9+TT7/zSwPMmTaYLGmROW/z7N+3xhVd1P81puRXOmY6MPV9UtVfUT4J97Xoup/HtVnd/+nX0CeM4m1pekWTFgSNIsVNVVwOeAE/rY/Naexz9v9zdxrPcMxs09x70H+AnNWYGnAr/WTqm5s/2g/yqaf1V/1LaT2BXY+MF5ox/wyDMBm3JJVW0HbE/zr+Qv2rggyS5JVif5jyR3AWfRnCnYHD/sefwzHn5dduWRr8vPgB/3rHsszZmH7yT5Wqa/+PyOCdeZ/KDd/87AE4G1Pa/vF9rxjW6fGNwm04aPzwN/CuxUVV+ZsMquPHzmZ+OUs5t55Hsx1WsxlYnrb5mprxORpFkzYEjS7K2k+Rfu3g+BGz+oPrFnrPcDfz923/ignTq1A3ALzQfQi6tqu56fravqjT3bFlO7BdghyTY9Y08B/mNzC2yDzx8Dr07yvHb4ve3x922nKh1NM21qJrVtynpgycYn7XURO/bU892qOopmatX7gXPT881fE2w/YdlTaF6bH9GEvWf3vL5Pbi9q76eHM4G30ZxNmOgWmsC4sZ/QvO8zeS9m8zpKUmcMGJI0S1V1Pc0Up7f0jN1O86Hw6CRbJHk9zTUAs/GyJL/Rzsd/D3BpVd1McwZlaZJXJ3l8+/OrvRcHb6L+m4H/D3hve8HwvjT/8n92P0VW1Y9pplhtvEZhG+Ae4M4kuwH/bcImtwJP6+dYwLnAoWkukH8CsIqe8JLk6CQ7t2cC7myHp/v621VJnpDkRTRTz/6x3fb/An+VZJd2v7slOajPmi+m+drfv5lk2TnAy5McmOTxNEFkA837sym3Aju2068kaWgMGJLUjb+g+eakXm+g+TD9Y+DZzOxD4nT+nuZsyU+A/WimQdFObfptmmsCbqGZEvN+YOFm7PsoYI92+0/TXE9w4Sxq/WuaQLQvzYf+5wM/pZke9KkJ674X+NN2+tFmXTBfVVcDb6a5iHk9cDdwGw9fOH0wcHWSe2gu+D5ymqlMPwTuoHkNzgb+qKq+0y57J3A9cEk7zetfgWdMupdN11xVdVF7DcXEZdfSnOH5G5ozJ4fSXAB/3wz2+x2aC8RvaF/LXTe1jSQNQqo8oypJmh/aqWN3AntV1fc3Y7vlwFlVtWQTq0qSNsEzGJKkkZbk0CRPbK+fOJnmXhM3DrcqSRpfBgxJ0qg7nGZa0y00N/c7sjw9L0lD4xQpSZIkSZ3xDIYkSZKkzhgwJEmSJHVm7O7kudNOO9Uee+wx58e99957edKTprq30/w0bj2PW78wfj2PW78wfj3b7/w3bj2PW78wfj0Pq9+1a9f+qKp2nmzZ2AWMPfbYg8svv3zOj7tmzRqWL18+58cdpnHredz6hfHredz6hfHr2X7nv3Hredz6hfHreVj9JvnBVMucIiVJkiSpMwYMSZIkSZ0xYEiSJEnqjAFDkiRJUmcMGJIkSZI6Y8CQJEmS1BkDhiRJkqTOGDAkSZIkdcaAIUmSJKkzBgxJkiRJnTFgSJIkSeqMAUOSJElSZwwYkiRJkjqzYNgFSNJcWpVVfW+79OSlrFrR3/Yra2Xfx5UkaZR4BkOSJElSZwwYkiRJkjpjwJAkSZLUGQOGJEmSpM4YMCRJkiR1xoAhSZIkqTMGDEmSJEmdMWBIkiRJ6owBQ5IkSVJnDBiSJEmSOmPAkCRJktQZA4YkSZKkzhgwJEmSJHXGgCFJkiSpMwYMSZIkSZ0xYEiSJEnqjAFDkiRJUmcMGJIkSZI6Y8CQJEmS1BkDhiRJkqTOGDAkSZIkdWZgASPJx5PcluSqnrEdklyY5Lvt7+17lp2Y5Pok1yY5qGd8vyRXtss+nCTt+MIk/9COX5pkj0H1IkmSJGlmBnkG43Tg4AljJwAXVdVewEXtc5LsDRwJPLvd5iNJtmi3+ShwHLBX+7Nxn8cCd1TVrwB/Bbx/YJ1IkiRJmpGBBYyq+jLwkwnDhwNntI/PAF7RM766qjZU1feB64H9kywGtq2qr1ZVAWdO2Gbjvs4FDtx4dkOSJEnScKT53D6gnTfTlj5XVfu0z++squ16lt9RVdsn+Vvgkqo6qx0/FbgAuBF4X1W9tB1/EfDOqjqknXp1cFWta5d9D/i1qvrRJHUcR3MWhEWLFu23evXqQbU8pXvuuYett956zo87TOPW87j1C6PZ8/q16/veduGShWxYt6GvbRfvt7jv4w7TKL7Hs2G/89+49Txu/cL49TysflesWLG2qpZNtmzBXBczhcnOPNQ049Nt8+jBqlOAUwCWLVtWy5cv76PE2VmzZg3DOO4wjVvP49YvjGbPq1as6nvbpScv5bq3X9fXtkfVUX0fd5hG8T2eDfud/8at53HrF8av58div3P9LVK3ttOeaH/f1o6vA3bvWW8JcEs7vmSS8Udsk2QB8GQePSVLkiRJ0hya64BxHnBM+/gY4LM940e23wy1J83F3JdV1Xrg7iQHtNdXvGbCNhv39XvAl2qQ870kSZIkbdLApkgl+SSwHNgpyTpgJfA+4JwkxwI3AUcAVNXVSc4Bvg08ALypqh5sd/VGmm+k2ormuowL2vFTgU8kuZ7mzMWRg+pFkiRJ0swMLGBUTTnh+MAp1j8JOGmS8cuBfSYZ/wVtQJEkSZL02OCdvCVJkiR1xoAhSZIkqTMGDEmSJEmdMWBIkiRJ6sxj5UZ7kiRJEgCrMrubovZ7U9WVtbLv4+phnsGQJEmS1BkDhiRJkqTOGDAkSZIkdcaAIUmSJKkzBgxJkiRJnTFgSJIkSeqMAUOSJElSZwwYkiRJkjpjwJAkSZLUGQOGJEmSpM4YMCRJkiR1xoAhSZIkqTMGDEmSJEmdMWBIkiRJ6owBQ5IkSVJnDBiSJEmSOrNg2AVIkqT+rcqqvrddevJSVq3of/uVtbLvbSXNX57BkCRJktQZA4YkSZKkzhgwJEmSJHXGgCFJkiSpM17kLfUY1sWSXigpSZLmC89gSJIkSeqMZzAkaR6bzVk58MycJGnzeQZDkiRJUmcMGJIkSZI6Y8CQJEmS1BmvwdgMfsOQJEmSND3PYEiSJEnqjAFDkiRJUmcMGJIkSZI6Y8CQJEmS1Bkv8pYkSSPFL12RHts8gyFJkiSpMwYMSZIkSZ0xYEiSJEnqjAFDkiRJUmcMGJIkSZI6Y8CQJEmS1BkDhiRJkqTOGDAkSZIkdcaAIUmSJKkzBgxJkiRJnRlKwEjyJ0muTnJVkk8m2TLJDkkuTPLd9vf2PeufmOT6JNcmOahnfL8kV7bLPpwkw+hHkiRJUmPOA0aS3YC3AMuqah9gC+BI4ATgoqraC7iofU6SvdvlzwYOBj6SZIt2dx8FjgP2an8OnsNWJEmSJE0wrClSC4CtkiwAngjcAhwOnNEuPwN4Rfv4cGB1VW2oqu8D1wP7J1kMbFtVX62qAs7s2UaSJEnSEKT5bD7HB02OB04Cfg58sapeleTOqtquZ507qmr7JH8LXFJVZ7XjpwIXADcC76uql7bjLwLeWVWHTHK842jOdLBo0aL9Vq9e3Vfd69eu72s7gIVLFrJh3Ya+tl283+K+jztM99xzD1tvvfWwy9gsvsebx/d45ob1Hs+mXxjNnmfDv+nNM4p/1/5Njwbf45kb1nu8YsWKtVW1bLJlC+a6mPbaisOBPYE7gX9McvR0m0wyVtOMP3qw6hTgFIBly5bV8uXLN6Pih61asaqv7QCWnryU695+XV/bHlVH9X3cYVqzZg39vtbD4nu8eXyPZ25Y7/Fs+oXR7Hk2/JvePKP4d+3f9GjwPZ65x+J7PIwpUi8Fvl9Vt1fV/cCngBcAt7bTnmh/39auvw7YvWf7JTRTqta1jyeOS5IkSRqSYQSMm4ADkjyx/danA4FrgPOAY9p1jgE+2z4+DzgyycIke9JczH1ZVa0H7k5yQLuf1/RsI0mSJGkI5nyKVFVdmuRc4ArgAeDrNNOXtgbOSXIsTQg5ol3/6iTnAN9u139TVT3Y7u6NwOnAVjTXZVwwh61IkiRJmmDOAwZAVa0EVk4Y3kBzNmOy9U+iuSh84vjlwD6dFyhJkiSpL97JW5IkSVJnDBiSJEmSOjOUKVKSHjtWZXZfBdjvVwmurImzJCVJ0nzgGQxJkiRJnTFgSJIkSeqMU6Q0LafPSJIkaXN4BkOSJElSZwwYkiRJkjpjwJAkSZLUGQOGJEmSpM4YMCRJkiR1xoAhSZIkqTMGDEmSJEmdMWBIkiRJ6owBQ5IkSVJnNhkwkhyfZNs0Tk1yRZLfnoviJEmSJI2WmZzBeH1V3QX8NrAz8DrgfQOtSpIkSdJImknASPv7ZcBpVfXNnjFJkiRJ+qWZBIy1Sb5IEzD+Jck2wEODLUuSJEnSKFowg3WOBZ4L3FBVP0uyI800KUmSJA3Yqqzqe9ulJy9l1Yr+tl9ZK/s+rsbbTALGc9vfT0t+OTPqp0kWVNUDA6lKkiRJ0kiaScD4CPB84Fs0117s0z7eMckfVdUXB1ifJEmSpBEyk2swbgSeV1XLqmo/4HnAVcBLgf81wNokSZIkjZiZBIxnVtXVG59U1bdpAscNgytLkiRJ0iiayRSpa5N8FFjdPv994LokC4H7B1aZJEl98IJYSRqumZzBeC1wPfBW4E+AG9qx+4EVA6pLkiRJ0gja5BmMqvo58Jftz0T3dF6RJEmSpJG1yYCR5IXAu4Gn9q5fVU8bXFmSJEnSeJhvUztncg3GqTRTo9YCDw6kCkmSJEnzwkwCxk+r6oKBVyJJkiRp5M0kYPxbkg8AnwI2bBysqisGVpUkSZKkkTSTgPFr7e9lPWMFvKT7ciRJkiSNspl8i5RfRStJkiRpRqYMGEmOrqqzkvzXyZZX1QcHV5YkSZKkUTTdGYwntb+3mWRZDaAWSZIkSSNuyoBRVf+nffivVfWV3mXtvTEkSZIk6REeN4N1/maGY5IkSZLG3HTXYPw68AJg5wnXYWwLbDHowiRJkiSNnumuwXgCsHW7Tu91GHcBvzfIoiRJkiSNpumuwbgYuDjJ6VX1gzmsSZIkSdKImsmN9n7W3sn72cCWGweryhvtSZIkSXqEmVzkfTbwHWBPYBVwI/C1AdYkSZIkaUTNJGDsWFWnAvdX1cVV9XrggAHXJUmSJGkEzWSK1P3t7/VJXg7cAiwZXEmSJEmSRtVMAsb/SPJk4G0097/YFnjrIIuSJEmSNJo2GTCq6nPtw58CK8A7eUuSJEma3HQ32tsCeCWwG/CFqroqySHAu4CtgOfNTYmSJEmSRsV0ZzBOBXYHLgM+nOQHwK8DJ1TVZ+agNkmSJEkjZrqAsQzYt6oeSrIl8CPgV6rqh7M9aJLtgI8B+wAFvB64FvgHYA+ar8J9ZVXd0a5/InAs8CDwlqr6l3Z8P+B0mjMq5wPHV1XNtj5JkiRJ/Znua2rvq6qHAKrqF8B1XYSL1odopl09E3gOcA1wAnBRVe0FXNQ+J8newJE0N/o7GPhIO30L4KPAccBe7c/BHdUnSZIkqQ/TncF4ZpJvtY8DPL19HqCqat9+DphkW+DFwGtpdnQfcF+Sw4Hl7WpnAGuAdwKHA6uragPw/STXA/snuRHYtqq+2u73TOAVwAX91CVJkiRp9qYLGM8a0DGfBtwOnJbkOcBa4HhgUVWtB6iq9Ul2adffDbikZ/t17dj97eOJ45IkSZKGJHN9yUKSZTSB4YVVdWmSDwF3AW+uqu161rujqrZP8nfAV6vqrHb8VJrrLW4C3ltVL23HXwS8o6oOneSYx9FMpWLRokX7rV69uq/a169d39d2AAuXLGTDug19bbt4v8V9H3e2xq3ncesXxq9n+90849az/W6ecevZfufOuPU8iv2uWLFibVUtm2zZTG6017V1wLqqurR9fi7N9Ra3Jlncnr1YDNzWs/7uPdsvobmb+DoeeUfxjeOPUlWnAKcALFu2rJYvX95X4atWrOprO4ClJy/lurdf19e2R9VRfR93tsat53HrF8avZ/vdPOPWs/1unnHr2X7nzrj1PN/6ne4i74FoLxS/Ockz2qEDgW8D5wHHtGPHAJ9tH58HHJlkYZI9aS7mvqydTnV3kgOSBHhNzzaSJEmShmC6G+1dVFUHJnl/Vb2z4+O+GTg7yROAG4DX0YSdc5IcSzP96QiAqro6yTk0IeQB4E1V9WC7nzfy8NfUXoAXeEuSJElDNd0UqcVJfhM4LMlqmm+P+qWquqLfg1bVN2juszHRgVOsfxJw0iTjl9PcS0OSJEnSY8B0AePPaa6NWAJ8cMKyAl4yqKIkSZIkjaYpA0ZVnQucm+TPquo9c1iTJEmSpBG1yW+Rqqr3JDmM5uZ4AGuq6nODLUuSJEnSKNrkt0gleS/NjfC+3f4c345JkiRJ0iPM5D4YLweeW1UPASQ5A/g6cOIgC5MkSZI0emZ6H4zteh4/eQB1SJIkSZoHZnIG473A15P8G81X1b4Yz15IkiRJmsRMLvL+ZJI1wK/SBIx3tnfjliRJkqRHmMkZDKpqPXDegGuRJEmSNOJmeg2GJEmSJG2SAUOSJElSZ6YNGEkel+SquSpGkiRJ0mibNmC09774ZpKnzFE9kiRJkkbYTC7yXgxcneQy4N6Ng1V12MCqkiRJkjSSZhIwVg28CkmSJEnzwkzug3FxkqcCe1XVvyZ5IrDF4EuTJEmSNGo2+S1SSd4AnAv8n3ZoN+AzA6xJkiRJ0oiaydfUvgl4IXAXQFV9F9hlkEVJkiRJGk0zCRgbquq+jU+SLABqcCVJkiRJGlUzCRgXJ3kXsFWS3wL+EfjnwZYlSZIkaRTNJGCcANwOXAn8IXA+8KeDLEqSJEnSaJrJt0g9lOQM4FKaqVHXVpVTpCRJkiQ9yiYDRpKXA/8b+B4QYM8kf1hVFwy6OEmSJEmjZSY32vtLYEVVXQ+Q5OnA5wEDhiRJkqRHmMk1GLdtDBetG4DbBlSPJEmSpBE25RmMJL/bPrw6yfnAOTTXYBwBfG0OapMkSZI0YqabInVoz+Nbgd9sH98ObD+wiiRJkiSNrCkDRlW9bi4LkSRJkjT6ZvItUnsCbwb26F2/qg4bXFmSJEmSRtFMvkXqM8CpNHfvfmig1UiSJEkaaTMJGL+oqg8PvBJJkiRJI28mAeNDSVYCXwQ2bBysqisGVpUkSZKkkTSTgPGfgFcDL+HhKVLVPpckSZKkX5pJwPjPwNOq6r5BFyNJkiRptM3kTt7fBLYbcB2SJEmS5oGZnMFYBHwnydd45DUYfk2tJEmSpEeYScBYOfAqJEmSJM0LmwwYVXXxXBQiSZIkafTN5E7ed9N8axTAE4DHA/dW1baDLEySJEnS6JnJGYxtep8neQWw/6AKkiRJkjS6ZvItUo9QVZ/Be2BIkiRJmsRMpkj9bs/TxwHLeHjKlCRJkiT90ky+RerQnscPADcChw+kGkmSJEkjbSbXYLxuLgqRJEmSNPqmDBhJ/nya7aqq3jOAeiRJkiSNsOnOYNw7ydiTgGOBHQEDhiRJkqRHmDJgVNVfbnycZBvgeOB1wGrgL6faTpIkSdL4mvYajCQ7AP8VeBVwBvD8qrpjLgqTJEmSNHqmvA9Gkg8AXwPuBv5TVb27y3CRZIskX0/yufb5DkkuTPLd9vf2PeuemOT6JNcmOahnfL8kV7bLPpwkXdUnSZIkafNNd6O9twG7An8K3JLkrvbn7iR3dXDs44Frep6fAFxUVXsBF7XPSbI3cCTwbOBg4CNJtmi3+ShwHLBX+3NwB3VJkiRJ6tOUAaOqHldVW1XVNlW1bc/PNlW17WwOmmQJ8HLgYz3Dh9NMw6L9/Yqe8dVVtaGqvg9cD+yfZDGwbVV9taoKOLNnG0mSJElDMN0ZjEH6a+AdwEM9Y4uqaj1A+3uXdnw34Oae9da1Y7u1jyeOS5IkSRqSNP/4P4cHTA4BXlZVf5xkOfD2qjokyZ1VtV3PendU1fZJ/g74alWd1Y6fCpwP3AS8t6pe2o6/CHhHVR3KBEmOo5lKxaJFi/ZbvXp1X7WvX7u+r+0AFi5ZyIZ1G/radvF+i/s+7myNW8/j1i+MX8/2u3nGrWf73Tzj1rP9zp1x63kU+12xYsXaqlo22bJN3sl7AF4IHJbkZcCWwLZJzgJuTbK4qta3059ua9dfB+zes/0S4JZ2fMkk449SVacApwAsW7asli9f3lfhq1as6ms7gKUnL+W6t1/X17ZH1VF9H3e2xq3ncesXxq9n+90849az/W6ecevZfufOuPU83/qd8ylSVXViVS2pqj1oLt7+UlUdDZwHHNOudgzw2fbxecCRSRYm2ZPmYu7L2mlUdyc5oP32qNf0bCNJkiRpCIZxBmMq7wPOSXIszfSnIwCq6uok5wDfBh4A3lRVD7bbvBE4HdgKuKD9kSRJkjQkQw0YVbUGWNM+/jFw4BTrnQScNMn45cA+g6tQkiRJ0uYY1rdISZIkSZqHDBiSJEmSOmPAkCRJktQZA4YkSZKkzhgwJEmSJHXGgCFJkiSpMwYMSZIkSZ0xYEiSJEnqjAFDkiRJUmcMGJIkSZI6Y8CQJEmS1BkDhiRJkqTOGDAkSZIkdcaAIUmSJKkzBgxJkiRJnTFgSJIkSeqMAUOSJElSZwwYkiRJkjpjwJAkSZLUGQOGJEmSpM4YMCRJkiR1xoAhSZIkqTMGDEmSJEmdMWBIkiRJ6owBQ5IkSVJnDBiSJEmSOmPAkCRJktQZA4YkSZKkzhgwJEmSJHXGgCFJkiSpMwYMSZIkSZ0xYEiSJEnqjAFDkiRJUmcMGJIkSZI6Y8CQJEmS1BkDhiRJkqTOGDAkSZIkdcaAIUmSJKkzBgxJkiRJnTFgSJIkSeqMAUOSJElSZwwYkiRJkjpjwJAkSZLUGQOGJEmSpM4YMCRJkiR1xoAhSZIkqTMGDEmSJEmdMWBIkiRJ6sycB4wkuyf5tyTXJLk6yfHt+A5JLkzy3fb39j3bnJjk+iTXJjmoZ3y/JFe2yz6cJHPdjyRJkqSHDeMMxgPA26rqWcABwJuS7A2cAFxUVXsBF7XPaZcdCTwbOBj4SJIt2n19FDgO2Kv9OXguG5EkSZL0SHMeMKpqfVVd0T6+G7gG2A04HDijXe0M4BXt48OB1VW1oaq+D1wP7J9kMbBtVX21qgo4s2cbSZIkSUMw1GswkuwBPA+4FFhUVeuhCSHALu1quwE392y2rh3brX08cVySJEnSkKT5x/8hHDjZGrgYOKmqPpXkzqrarmf5HVW1fZK/A75aVWe146cC5wM3Ae+tqpe24y8C3lFVh05yrONoplKxaNGi/VavXt1XzevXru9rO4CFSxayYd2GvrZdvN/ivo87W+PW87j1C+PXs/1unnHr2X43z7j1bL9zZ9x6HsV+V6xYsbaqlk22bEHfe52FJI8H/gk4u6o+1Q7fmmRxVa1vpz/d1o6vA3bv2XwJcEs7vmSS8UepqlOAUwCWLVtWy5cv76vuVStW9bUdwNKTl3Ld26/ra9uj6qi+jztb49bzuPUL49ez/W6ecevZfjfPuPVsv3Nn3Hqeb/0O41ukApwKXFNVH+xZdB5wTPv4GOCzPeNHJlmYZE+ai7kva6dR3Z3kgHafr+nZRpIkSdIQDOMMxguBVwNXJvlGO/Yu4H3AOUmOpZn+dARAVV2d5Bzg2zTfQPWmqnqw3e6NwOnAVsAF7Y8kSZKkIZnzgFFV/w5Mdb+KA6fY5iTgpEnGLwf26a46SZIkSbPhnbwlSZIkdcaAIUmSJKkzBgxJkiRJnTFgSJIkSeqMAUOSJElSZwwYkiRJkjpjwJAkSZLUGQOGJEmSpM4YMCRJkiR1xoAhSZIkqTMGDEmSJEmdMWBIkiRJ6owBQ5IkSVJnDBiSJEmSOmPAkCRJktQZA4YkSZKkzhgwJEmSJHXGgCFJkiSpMwYMSZIkSZ0xYEiSJEnqjAFDkiRJUmcMGJIkSZI6Y8CQJEmS1BkDhiRJkqTOGDAkSZIkdcaAIUmSJKkzBgxJkiRJnTFgSJIkSeqMAUOSJElSZwwYkiRJkjpjwJAkSZLUGQOGJEmSpM4YMCRJkiR1xoAhSZIkqTMGDEmSJEmdMWBIkiRJ6owBQ5IkSVJnDBiSJEmSOmPAkCRJktQZA4YkSZKkzhgwJEmSJHXGgCFJkiSpMwYMSZIkSZ0xYEiSJEnqjAFDkiRJUmcMGJIkSZI6Y8CQJEmS1BkDhiRJkqTOjHzASHJwkmuTXJ/khGHXI0mSJI2zkQ4YSbYA/g74HWBv4Kgkew+3KkmSJGl8jXTAAPYHrq+qG6rqPmA1cPiQa5IkSZLG1qgHjN2Am3uer2vHJEmSJA1BqmrYNfQtyRHAQVX1B+3zVwP7V9WbJ6x3HHBc+/QZwLVzWmhjJ+BHQzjuMI1bz+PWL4xfz+PWL4xfz/Y7/41bz+PWL4xfz8Pq96lVtfNkCxbMdSUdWwfs3vN8CXDLxJWq6hTglLkqajJJLq+qZcOsYa6NW8/j1i+MX8/j1i+MX8/2O/+NW8/j1i+MX8+PxX5HfYrU14C9kuyZ5AnAkcB5Q65JkiRJGlsjfQajqh5I8v8C/wJsAXy8qq4eclmSJEnS2BrpgAFQVecD5w+7jhkY6hStIRm3nsetXxi/nsetXxi/nu13/hu3nsetXxi/nh9z/Y70Rd6SJEmSHltG/RoMSZIkSY8hBowBS/LxJLcluWrYtcyFJLsn+bck1yS5Osnxw65p0JJsmeSyJN9se1417JrmQpItknw9yeeGXctcSHJjkiuTfCPJ5cOuZ9CSbJfk3CTfaf/3/OvDrmmQkjyjfW83/tyV5K3DrmuQkvxJ+9+sq5J8MsmWw65pkJIc3/Z69Xx9byf7zJFkhyQXJvlu+3v7YdbYtSl6PqJ9nx9K8pj6dqXZmqLfD7T/rf5Wkk8n2W6IJQIGjLlwOnDwsIuYQw8Ab6uqZwEHAG9KsveQaxq0DcBLquo5wHOBg5McMNyS5sTxwDXDLmKOraiq5z7Wvg5wQD4EfKGqngk8h3n+XlfVte17+1xgP+BnwKeHW9XgJNkNeAuwrKr2ofmilCOHW9XgJNkHeAOwP83f8yFJ9hpuVQNxOo/+zHECcFFV7QVc1D6fT07n0T1fBfwu8OU5r2bwTufR/V4I7FNV+wLXASfOdVETGTAGrKq+DPxk2HXMlapaX1VXtI/vpvlQMq/vrl6Ne9qnj29/5vXFTUmWAC8HPjbsWtS9JNsCLwZOBaiq+6rqzqEWNbcOBL5XVT8YdiEDtgDYKskC4IlMch+peeRZwCVV9bOqegC4GPjPQ66pc1N85jgcOKN9fAbwirmsadAm67mqrqmqYdxUeeCm6PeL7d81wCU094UbKgOGBibJHsDzgEuHXMrAtdOFvgHcBlxYVfO9578G3gE8NOQ65lIBX0yyNslxwy5mwJ4G3A6c1k6D+1iSJw27qDl0JPDJYRcxSFX1H8DJwE3AeuCnVfXF4VY1UFcBL06yY5InAi/jkTfqnc8WVdV6aP4RENhlyPVosF4PXDDsIgwYGogkWwP/BLy1qu4adj2DVlUPtlMrlgD7t6fj56UkhwC3VdXaYdcyx15YVc8Hfodm6t+Lh13QAC0Ang98tKqeB9zL/JtWMan2pq2HAf847FoGqZ2HfziwJ7Ar8KQkRw+3qsGpqmuA99NMJfkC8E2aKb3SvJHkv9P8XZ897FoMGOpcksfThIuzq+pTw65nLrXTSNYwv6+7eSFwWJIbgdXAS5KcNdySBq+qbml/30YzN3//4VY0UOuAdT1n4s6lCRzj4HeAK6rq1mEXMmAvBb5fVbdX1f3Ap4AXDLmmgaqqU6vq+VX1YpopJt8ddk1z5NYkiwHa37cNuR4NQJJjgEOAV9Vj4B4UBgx1Kklo5m1fU1UfHHY9cyHJzhu/sSHJVjT/x/2doRY1QFV1YlUtqao9aKaSfKmq5u2/fAIkeVKSbTY+Bn6bZsrFvFRVPwRuTvKMduhA4NtDLGkuHcU8nx7Vugk4IMkT2/9uH8g8v5A/yS7t76fQXAA8Du8zwHnAMe3jY4DPDrEWDUCSg4F3AodV1c+GXQ/Mgzt5P9Yl+SSwHNgpyTpgZVWdOtyqBuqFwKuBK9trEgDe1d5xfb5aDJyRZAua0H5OVY3FV7eOkUXAp5vPYSwA/r6qvjDckgbuzcDZ7ZShG4DXDbmegWvn5v8W8IfDrmXQqurSJOcCV9BMqfg6j8G7AXfsn5LsCNwPvKmq7hh2QV2b7DMH8D7gnCTH0gTLI4ZXYfem6PknwN8AOwOfT/KNqjpoeFV2Z4p+TwQWAhe2/z91SVX90dCKxDt5S5IkSeqQU6QkSZIkdcaAIUmSJKkzBgxJkiRJnTFgSJIkSeqMAUOSJElSZwwYkqSBSFJJPtHzfEGS25P09TXOSbZL8sc9z5f3uy9J0uAYMCRJg3IvsE97A0po7jHxH7PY33bAH29qJUnScBkwJEmDdAHw8vbxI+6SnWSHJJ9J8q0klyTZtx1/d5KPJ1mT5IYkb2k3eR/w9CTfSPKBdmzrJOcm+U6Ss9u7UkuShsiAIUkapNXAkUm2BPYFLu1Ztgr4elXtC7wLOLNn2TOBg4D9gZVJHg+cAHyvqp5bVf+tXe95wFuBvYGnAS8cYC+SpBkwYEiSBqaqvgXsQXP24vwJi38D+ES73peAHZM8uV32+araUFU/Am4DFk1xiMuqal1VPQR8oz2WJGmIFgy7AEnSvHcecDKwHNixZ3yy6UzV/t7QM/YgU///1UzXkyTNEc9gSJIG7ePAX1TVlRPGvwy8CppvhAJ+VFV3TbOfu4FtBlGgJKk7/kuPJGmgqmod8KFJFr0bOC3Jt4CfAcdsYj8/TvKVJFfRXDz++a5rlSTNXqpq02tJkiRJ0gw4RUqSJElSZwwYkiRJkjpjwJAkSZLUGQOGJEmSpM4YMCRJkiR1xoAhSZIkqTMGDEmSJEmdMWBIkiRJ6sz/DyqvYQhJ39GQAAAAAElFTkSuQmCC\n",
      "text/plain": [
       "<Figure size 936x432 with 1 Axes>"
      ]
     },
     "metadata": {
      "needs_background": "light"
     },
     "output_type": "display_data"
    }
   ],
   "source": [
    "# Extract the month from the 'timestamp' column and create a new 'month' column\n",
    "movie_rating_df['month'] = movie_rating_df['timestamp'].dt.month\n",
    "\n",
    "# Group the DataFrame by month and calculate the count of ratings for each month\n",
    "monthly_rating_counts = movie_rating_df.groupby('month')['rating'].count()\n",
    "\n",
    "# Plotting the number of ratings per month with grid lines\n",
    "plt.figure(figsize=(13, 6))\n",
    "monthly_rating_counts.plot(kind='bar', color='purple', title='Number of Ratings per Month', grid=True)\n",
    "plt.xlabel('Month')\n",
    "plt.ylabel('Number of Ratings')\n",
    "plt.xticks(rotation=0)\n",
    "plt.show()"
   ]
  },
  {
   "cell_type": "markdown",
   "id": "a923d6f1",
   "metadata": {},
   "source": [
    "The bar chart indicates that the month of May (month 5) has the highest count of ratings. This suggests that users are more active in providing ratings during the month of May compared to other months."
   ]
  },
  {
   "cell_type": "markdown",
   "id": "5c77489f",
   "metadata": {},
   "source": [
    "## a) UNIVARIATE DATA ANALYSIS"
   ]
  },
  {
   "cell_type": "code",
   "execution_count": 23,
   "id": "4d75375c",
   "metadata": {},
   "outputs": [],
   "source": [
    "# A function to create various types of plots based on the specified plot_type\n",
    "\n",
    "def create_plots(df, plot_type, columns_to_plot=None, y=None):\n",
    "    \"\"\"\n",
    "    Args:\n",
    "    - df: DataFrame, the input data\n",
    "    - plot_type: str, the type of plot to create ('count_plot', 'bar_plot1', 'bar_plot2')\n",
    "    - columns_to_plot: Series or DataFrame, data for the plot\n",
    "    - y: str, the column name for the y-axis (only used in 'bar_plot2')\n",
    "\n",
    "    Returns:\n",
    "    - None\n",
    "    \"\"\"\n",
    "    if plot_type == 'count_plot':\n",
    "        # Create a count plot for the specified column\n",
    "        plt.figure(figsize=(14, 9))\n",
    "        sns.countplot(data=df, x=columns_to_plot)\n",
    "        plt.title(f'Distribution of movie {columns_to_plot}')\n",
    "        plt.xticks(rotation=0)\n",
    "        plt.show()\n",
    "    elif plot_type == 'bar_plot_1':\n",
    "        # Create a bar plot for the top 10 most frequently rated movies\n",
    "        plt.figure(figsize=(14, 9))\n",
    "        sns.barplot(columns_to_plot.index, columns_to_plot.values)\n",
    "        plt.title('Top 10 most frequently rated movies')\n",
    "        plt.xlabel('Movie Title')\n",
    "        plt.xticks(rotation=90)\n",
    "        plt.ylabel('Count')\n",
    "        plt.show()\n",
    "    elif plot_type == 'bar_plot_2':\n",
    "        # Create a bar plot for the top 10 most frequently rated movies and their average ratings\n",
    "        plt.figure(figsize=(14, 9))\n",
    "        sns.barplot(columns_to_plot.index, columns_to_plot.values, y=y)\n",
    "        plt.title('Top 10 most frequently rated movies and their average ratings')\n",
    "        plt.xlabel('Movie Title')\n",
    "        plt.xticks(rotation=90)\n",
    "        plt.ylabel('Average Rating')\n",
    "        plt.show()\n"
   ]
  },
  {
   "cell_type": "code",
   "execution_count": 24,
   "id": "3db86ab9",
   "metadata": {},
   "outputs": [
    {
     "data": {
<<<<<<< HEAD
      "image/png": "iVBORw0KGgoAAAANSUhEUgAAAuAAAAH2CAYAAAAxuTkSAAAAOXRFWHRTb2Z0d2FyZQBNYXRwbG90bGliIHZlcnNpb24zLjMuMSwgaHR0cHM6Ly9tYXRwbG90bGliLm9yZy/d3fzzAAAACXBIWXMAAAsTAAALEwEAmpwYAAAk+UlEQVR4nO3dfbhlZ10f/O+PDAQUEsEMMSSBREmVQCFITGNpBYxXE1QM+vAytJBosbEUEFpsy1sxWuMjjw9SUaANAklQCTFWCS2xIi9SNRAmCIQkglMIMCQkgfASECITfv1jr+HsHM4MZ8g59z4z5/O5rn2dte/1sn/7PuvsfHPPvdau7g4AADDGnRZdAAAAbCYCOAAADCSAAwDAQAI4AAAMJIADAMBAAjgAAAwkgAObXlX916r6T2t0rPtW1Rer6qDp+Tuq6mfX4tjT8S6tqjPX6nj78Lq/UlWfrqpPjX7tuRpu17cLeP1/WlUfWsRrAweWch9w4EBWVdcmOTzJriS3Jbk6yQVJzu3ur30Lx/rZ7v6zfdjnHUl+t7t/Z19ea9r37CT37+4n7+u+a6mqjk7y4ST36+4bF1nLSFXVSY7r7h2LrgU4sBgBBzaDx3T3PZLcL8mvJfmPSV691i9SVVvW+pgbxP2SfOZACt8H8O8K2A8I4MCm0d2f7+5LkjwxyZlV9aAkqarzqupXpuXDqup/VNXnqurmqvrfVXWnqnpdkvsmedM0DeI/VNUxVdVV9dSq+niSt821zQe876mqy6vq81X1xqq61/Raj6yqnfM1VtW1VfUjVXVakucneeL0eu+f1n99SstU1wur6mNVdWNVXVBVh07rdtdxZlV9fJo+8oI99U1VHTrtf9N0vBdOx/+RJG9Jcp+pjvNW2PeRVbVz6pMbq+r6qnpsVf1oVX146sfnz21/cFX9l6q6bnr8l6o6eFp3TVX9+Ny2W6bav3953041v3p6vU9O02RWnJ5SVWdX1cVV9btV9YUkP11VJ1XVZdPv+vqq+u2qusu0/TunXd8/ve8nLv99Tb+rX6iqD0y/2zdU1V3n1v+H6bjXVdXPTrXff0+/A2DzEMCBTae7L0+yM8k/XWH1c6Z1WzObuvL82S79lCQfz2w0/e7d/f/N7fOIJA9IcuoeXvKMJP8yyX0ymwrzslXU+CdJfjXJG6bXe8gKm/309HhUku9Ocvckv71sm3+S5HuTnJLkRVX1gD285G8lOXQ6ziOmmn9mmm7z6CTXTXX89B72/64kd01yZJIXJXlVkicneVhm/fyiqvruadsXJDk5yQlJHpLkpCQvnNa9PsmT5o57apJPd/d7V3jN8zPrz/sneWiSf5Zkb/PtT09ycZLvSPJ7mU1J+rdJDkvyg5n10b9Jku7+oWmfh0zv+w17OOYTkpyW5NgkD87s95Hpf6D+XZIfmep7xF7qAjYZARzYrK5Lcq8V2r+a5IjM5jt/tbv/d3/zi2XO7u4vdfeX97D+dd39we7+UpL/lOQJexqp3Uf/IslvdPdHuvuLSZ6XZNuy0fdf6u4vd/f7k7w/s8B7O1MtT0zyvO6+pbuvTfKSJE/Zh1q+muSc7v5qkgszC7W/OR3vqiRXZRZQd9f9y919Y3fflOSX5l7r95P8RFV92/T8n09ty2s+PLP/MXj21Pc3Jnlpkm17qfGy7v7j7v7a1CdXdPe7unvX9J7/W/Y9KL+su6/r7puTvCmz/6lIZsH8td19VXf/3fQeAZII4MDmdWSSm1do//UkO5L8aVV9pKqeu4pjfWIf1n8syZ0zC6h31H2m480fe0tmI/e7zd+15O8yGyVf7rAkd1nhWEfuQy2f6e7bpuXd/yNyw9z6L8+99kp13ydJpgser0nymCmE/0RWCOCZzUu/c5Lrpykkn8ssQN97LzXe7vdUVf9gmm70qWlayq9m338ve+rf+yx7vW92jgCbiAAObDpV9QOZhcu/WL5uGrF9Tnd/d5LHJPl3VXXK7tV7OOQ3GyE/em75vpmNFn86yZeS7B7p3T0SvXUfjntdZkF0/ti7cvvguxqfnmpafqxP7uNxVmuluq+be757GsrpSa7ew11IPpHk1iSHdfd3TI9DuvuBe3nd5f35yiR/k9mdTg7JbLpR7dtb2aPrkxw19/zoPW0IbD4COLBpVNUh0wV+F2Z2a8ArV9jmx6vq/lVVSb6Q2Tzh3SO7N2Q2R3pfPbmqjp9GdH85ycXTaPGHk9y1qn6squ6c2Tzog+f2uyHJMVW1p8/q1yf5t1V1bFXdPUtzxnftS3FTLRclOaeq7lFV98ts/vLv7stx9sHrk7ywqrZW1WGZzRmff60LM5vP/bSsPPqd7r4+yZ8mecn0e71TVX1PVe3LFJJ7ZPY7/mJVfd/0evO+1d93MuvPn6mqB0y/9xd9i8cBDkACOLAZvKmqbsls1PQFSX4jyc/sYdvjkvxZki8muSzJK7r7HdO6/zez4Pi5qvqFfXj91yU5L7PpCndN8vPJ7K4smV309zuZjTZ/KbMLQHf7g+nnZ6pqpYsQXzMd+51JPprkK0meuQ91zXvm9PofyexfBn5/Ov56+JUk25N8IMmVSd47tSX5eri+LMk/TrKnix+T2YWid8ns3u6fzewCyyP2oY5fyGyO+S2ZXTS6/LXOTnL+9Pt+wj4cN919aWYX2749sylNl02rbt2X4wAHJl/EAwDrbLr7zAeTHLyv/0IBHHiMgAPAOqiqn6yqu1TVPZO8OMmbhG8gEcABYL38XJKbkvyfzK4jWD7HHNikTEEBAICBjIADAMBAAjgAAAy05ZtvcmA57LDD+phjjll0GQAAHOCuuOKKT3f31uXtmy6AH3PMMdm+ffuiywAA4ABXVR9bqd0UFAAAGEgABwCAgQRwAAAYSAAHAICBBHAAABhIAAcAgIEEcAAAGEgABwCAgQRwAAAYSAAHAICBBHAAABhIAAcAgIEEcAAAGEgABwCAgQRwAAAYSAAHAICBBHAAABhIAAcAgIEEcAAAGGjLogsAAA4sZ5999qJLWBcH6vtiPCPgAAAwkAAOAAADCeAAADCQAA4AAAMJ4AAAMJAADgAAAwngAAAwkAAOAAADCeAAADCQAA4AAAMJ4AAAMJAADgAAAwngAAAwkAAOAAADCeAAADCQAA4AAAMJ4AAAMJAADgAAAwngAAAwkAAOAAADCeAAADCQAA4AAAMJ4AAAMNC6BfCqOrqq3l5V11TVVVX1rKn97Kr6ZFW9b3r86Nw+z6uqHVX1oao6da79YVV15bTuZVVVU/vBVfWGqf3dVXXMer0fAABYC+s5Ar4ryXO6+wFJTk7y9Ko6flr30u4+YXq8OUmmdduSPDDJaUleUVUHTdu/MslZSY6bHqdN7U9N8tnuvn+SlyZ58Tq+HwAAuMPWLYB39/Xd/d5p+ZYk1yQ5ci+7nJ7kwu6+tbs/mmRHkpOq6ogkh3T3Zd3dSS5I8ti5fc6fli9Ocsru0XEAANiIhswBn6aGPDTJu6emZ1TVB6rqNVV1z6ntyCSfmNtt59R25LS8vP12+3T3riSfT/Kd6/EeAABgLax7AK+quyf5wyTP7u4vZDad5HuSnJDk+iQv2b3pCrv3Xtr3ts/yGs6qqu1Vtf2mm27atzcAAABraF0DeFXdObPw/Xvd/d+TpLtv6O7buvtrSV6V5KRp851Jjp7b/agk103tR63Qfrt9qmpLkkOT3Ly8ju4+t7tP7O4Tt27dulZvDwAA9tl63gWlkrw6yTXd/Rtz7UfMbfaTST44LV+SZNt0Z5NjM7vY8vLuvj7JLVV18nTMM5K8cW6fM6flxyV52zRPHAAANqQt63jshyd5SpIrq+p9U9vzkzypqk7IbKrItUl+Lkm6+6qquijJ1ZndQeXp3X3btN/TkpyX5G5JLp0eySzgv66qdmQ28r1tHd8PAADcYesWwLv7L7LyHO0372Wfc5Kcs0L79iQPWqH9K0kefwfKBACAoXwTJgAADCSAAwDAQAI4AAAMJIADAMBAAjgAAAwkgAMAwEACOAAADCSAAwDAQAI4AAAMJIADAMBAAjgAAAwkgAMAwEACOAAADCSAAwDAQAI4AAAMJIADAMBAAjgAAAwkgAMAwEACOAAADCSAAwDAQAI4AAAMJIADAMBAAjgAAAwkgAMAwEACOAAADCSAAwDAQAI4AAAMJIADAMBAAjgAAAwkgAMAwEACOAAADCSAAwDAQAI4AAAMJIADAMBAAjgAAAwkgAMAwEACOAAADCSAAwDAQAI4AAAMJIADAMBAAjgAAAwkgAMAwEACOAAADCSAAwDAQAI4AAAMJIADAMBAAjgAAAwkgAMAwEACOAAADCSAAwDAQAI4AAAMJIADAMBAAjgAAAwkgAMAwEACOAAADCSAAwDAQAI4AAAMJIADAMBAAjgAAAwkgAMAwEACOAAADCSAAwDAQAI4AAAMJIADAMBAAjgAAAwkgAMAwEACOAAADCSAAwDAQOsWwKvq6Kp6e1VdU1VXVdWzpvZ7VdVbqupvp5/3nNvneVW1o6o+VFWnzrU/rKqunNa9rKpqaj+4qt4wtb+7qo5Zr/cDAABrYT1HwHcleU53PyDJyUmeXlXHJ3lukrd293FJ3jo9z7RuW5IHJjktySuq6qDpWK9MclaS46bHaVP7U5N8trvvn+SlSV68ju8HAADusHUL4N19fXe/d1q+Jck1SY5McnqS86fNzk/y2Gn59CQXdvet3f3RJDuSnFRVRyQ5pLsv6+5OcsGyfXYf6+Ikp+weHQcAgI1oy4gXmaaGPDTJu5Mc3t3XJ7OQXlX3njY7Msm75nbbObV9dVpe3r57n09Mx9pVVZ9P8p1JPr0+7wSA5c558uMWXcKae8HvXrzoEoAD2LpfhFlVd0/yh0me3d1f2NumK7T1Xtr3ts/yGs6qqu1Vtf2mm276ZiUDAMC6WdcAXlV3zix8/153//ep+YZpWkmmnzdO7TuTHD23+1FJrpvaj1qh/Xb7VNWWJIcmuXl5Hd19bnef2N0nbt26dS3eGgAAfEvW8y4oleTVSa7p7t+YW3VJkjOn5TOTvHGufdt0Z5NjM7vY8vJpusotVXXydMwzlu2z+1iPS/K2aZ44AABsSOs5B/zhSZ6S5Mqqet/U9vwkv5bkoqp6apKPJ3l8knT3VVV1UZKrM7uDytO7+7Zpv6clOS/J3ZJcOj2SWcB/XVXtyGzke9s6vh8AALjD1i2Ad/dfZOU52klyyh72OSfJOSu0b0/yoBXav5IpwAMAwP7AN2ECAMBAAjgAAAwkgAMAwEACOAAADCSAAwDAQAI4AAAMJIADAMBAAjgAAAwkgAMAwEACOAAADCSAAwDAQAI4AAAMJIADAMBAAjgAAAwkgAMAwEACOAAADCSAAwDAQAI4AAAMJIADAMBAAjgAAAwkgAMAwEACOAAADCSAAwDAQAI4AAAMJIADAMBAAjgAAAwkgAMAwEACOAAADCSAAwDAQAI4AAAMJIADAMBAAjgAAAwkgAMAwEACOAAADCSAAwDAQAI4AAAMJIADAMBAAjgAAAwkgAMAwEACOAAADCSAAwDAQAI4AAAMJIADAMBAAjgAAAwkgAMAwEACOAAADCSAAwDAQAI4AAAMJIADAMBAAjgAAAwkgAMAwEACOAAADCSAAwDAQAI4AAAMJIADAMBAAjgAAAwkgAMAwEACOAAADCSAAwDAQAI4AAAMJIADAMBAAjgAAAwkgAMAwEACOAAADCSAAwDAQAI4AAAMJIADAMBAAjgAAAy0bgG8ql5TVTdW1Qfn2s6uqk9W1fumx4/OrXteVe2oqg9V1alz7Q+rqiundS+rqpraD66qN0zt766qY9brvQAAwFpZzxHw85KctkL7S7v7hOnx5iSpquOTbEvywGmfV1TVQdP2r0xyVpLjpsfuYz41yWe7+/5JXprkxev1RgAAYK2sWwDv7ncmuXmVm5+e5MLuvrW7P5pkR5KTquqIJId092Xd3UkuSPLYuX3On5YvTnLK7tFxAADYqBYxB/wZVfWBaYrKPae2I5N8Ym6bnVPbkdPy8vbb7dPdu5J8Psl3rmfhAABwR40O4K9M8j1JTkhyfZKXTO0rjVz3Xtr3ts83qKqzqmp7VW2/6aab9qlgAABYS0MDeHff0N23dffXkrwqyUnTqp1Jjp7b9Kgk103tR63Qfrt9qmpLkkOzhykv3X1ud5/Y3Sdu3bp1rd4OAADss6EBfJrTvdtPJtl9h5RLkmyb7mxybGYXW17e3dcnuaWqTp7md5+R5I1z+5w5LT8uydumeeIAALBhbVnNRlX11u4+5Zu1LVv/+iSPTHJYVe1M8otJHllVJ2Q2VeTaJD+XJN19VVVdlOTqJLuSPL27b5sO9bTM7qhytySXTo8keXWS11XVjsxGvret5r0AAMAi7TWAV9Vdk3xbZiH6nlmad31Ikvvsbd/uftIKza/ey/bnJDlnhfbtSR60QvtXkjx+bzUAAMBG881GwH8uybMzC9tXZCmAfyHJy9evLAAAODDtNYB3928m+c2qemZ3/9agmgAA4IC1qjng3f1bVfWPkxwzv093X7BOdQEAwAFptRdhvi6z+3e/L8nuiyN3fzMlAACwSqsK4ElOTHK82/wBAMAds9r7gH8wyXetZyEAALAZrHYE/LAkV1fV5Ulu3d3Y3T+xLlUBAMABarUB/Oz1LAIAADaL1d4F5c/XuxAAANgMVnsXlFsyu+tJktwlyZ2TfKm7D1mvwgAA4EC02hHwe8w/r6rHJjlpPQoCAIAD2WrvgnI73f3HSX54bUsBAIAD32qnoPzU3NM7ZXZfcPcEBwCAfbTau6A8Zm55V5Jrk5y+5tUAAMABbrVzwH9mvQsBAIDNYFVzwKvqqKr6o6q6sapuqKo/rKqj1rs4AAA40Kz2IszXJrkkyX2SHJnkTVMbAACwD1YbwLd292u7e9f0OC/J1nWsCwAADkirDeCfrqonV9VB0+PJST6znoUBAMCBaLUB/F8meUKSTyW5PsnjkrgwEwAA9tFqb0P4n5Oc2d2fTZKquleS/z+zYA4AAKzSakfAH7w7fCdJd9+c5KHrUxIAABy4VhvA71RV99z9ZBoBX+3oOQAAMFltiH5Jkr+qqosz+wr6JyQ5Z92qAgDggPKQi//XoktYF+9/3Kn7vM9qvwnzgqranuSHk1SSn+ruq/f51QDgAHbNOW9bdAlr7gEv+OFFlwAHnFVPI5kCt9ANAAB3wGrngAMAAGtAAAcAgIEEcAAAGEgABwCAgQRwAAAYSAAHAICBBHAAABhIAAcAgIEEcAAAGEgABwCAgQRwAAAYSAAHAICBBHAAABhIAAcAgIEEcAAAGEgABwCAgQRwAAAYSAAHAICBBHAAABhIAAcAgIEEcAAAGEgABwCAgQRwAAAYSAAHAICBBHAAABhIAAcAgIEEcAAAGEgABwCAgQRwAAAYSAAHAICBBHAAABhIAAcAgIEEcAAAGEgABwCAgQRwAAAYSAAHAICBBHAAABhIAAcAgIEEcAAAGEgABwCAgQRwAAAYSAAHAICBBHAAABho3QJ4Vb2mqm6sqg/Otd2rqt5SVX87/bzn3LrnVdWOqvpQVZ061/6wqrpyWveyqqqp/eCqesPU/u6qOma93gsAAKyV9RwBPy/Jacvanpvkrd19XJK3Ts9TVccn2ZbkgdM+r6iqg6Z9XpnkrCTHTY/dx3xqks929/2TvDTJi9ftnQAAwBpZtwDe3e9McvOy5tOTnD8tn5/ksXPtF3b3rd390SQ7kpxUVUckOaS7L+vuTnLBsn12H+viJKfsHh0HAICNavQc8MO7+/okmX7ee2o/Mskn5rbbObUdOS0vb7/dPt29K8nnk3znSi9aVWdV1faq2n7TTTet0VsBAIB9t1Euwlxp5Lr30r63fb6xsfvc7j6xu0/cunXrt1giAADccaMD+A3TtJJMP2+c2ncmOXpuu6OSXDe1H7VC++32qaotSQ7NN055AQCADWV0AL8kyZnT8plJ3jjXvm26s8mxmV1sefk0TeWWqjp5mt99xrJ9dh/rcUneNs0TBwCADWvLeh24ql6f5JFJDquqnUl+McmvJbmoqp6a5ONJHp8k3X1VVV2U5Ooku5I8vbtvmw71tMzuqHK3JJdOjyR5dZLXVdWOzEa+t63XewEAgLWybgG8u5+0h1Wn7GH7c5Kcs0L79iQPWqH9K5kCPAAA7C82ykWYAACwKQjgAAAwkAAOAAADCeAAADCQAA4AAAMJ4AAAMJAADgAAAwngAAAwkAAOAAADCeAAADCQAA4AAAMJ4AAAMJAADgAAAwngAAAwkAAOAAADCeAAADCQAA4AAANtWXQBAAAHqov+4KRFl7AunvD4yxddwn7NCDgAAAwkgAMAwEACOAAADCSAAwDAQAI4AAAMJIADAMBAAjgAAAwkgAMAwEACOAAADCSAAwDAQAI4AAAMJIADAMBAAjgAAAwkgAMAwEBbFl0AsP/48x96xKJLWHOPeOefL7oEADYZI+AAADCQAA4AAAMJ4AAAMJAADgAAAwngAAAwkAAOAAADCeAAADCQAA4AAAMJ4AAAMJAADgAAAwngAAAwkAAOAAADCeAAADCQAA4AAAMJ4AAAMJAADgAAAwngAAAwkAAOAAADCeAAADCQAA4AAAMJ4AAAMJAADgAAAwngAAAwkAAOAAADCeAAADCQAA4AAAMJ4AAAMJAADgAAAwngAAAwkAAOAAADbVl0AQD7o99+zpsWXcKae8ZLHrPoEgA2BSPgAAAwkAAOAAADCeAAADCQAA4AAAMtJIBX1bVVdWVVva+qtk9t96qqt1TV304/7zm3/fOqakdVfaiqTp1rf9h0nB1V9bKqqkW8HwAAWK1FjoA/qrtP6O4Tp+fPTfLW7j4uyVun56mq45NsS/LAJKcleUVVHTTt88okZyU5bnqcNrB+AADYZxtpCsrpSc6fls9P8ti59gu7+9bu/miSHUlOqqojkhzS3Zd1dye5YG4fAADYkBYVwDvJn1bVFVV11tR2eHdfnyTTz3tP7Ucm+cTcvjuntiOn5eXtAACwYS3qi3ge3t3XVdW9k7ylqv5mL9uuNK+799L+jQeYhfyzkuS+973vvtYKAABrZiEj4N193fTzxiR/lOSkJDdM00oy/bxx2nxnkqPndj8qyXVT+1ErtK/0eud294ndfeLWrVvX8q0AAMA+GR7Aq+rbq+oeu5eT/LMkH0xySZIzp83OTPLGafmSJNuq6uCqOjaziy0vn6ap3FJVJ093Pzljbh8AANiQFjEF5fAkfzTdMXBLkt/v7j+pqvckuaiqnprk40kenyTdfVVVXZTk6iS7kjy9u2+bjvW0JOcluVuSS6cHAABsWMMDeHd/JMlDVmj/TJJT9rDPOUnOWaF9e5IHrXWNAACwXjbSbQgBAOCAJ4ADAMBAAjgAAAwkgAMAwEACOAAADCSAAwDAQAI4AAAMJIADAMBAAjgAAAwkgAMAwEACOAAADCSAAwDAQAI4AAAMJIADAMBAAjgAAAwkgAMAwEACOAAADCSAAwDAQAI4AAAMJIADAMBAAjgAAAwkgAMAwEACOAAADCSAAwDAQAI4AAAMJIADAMBAAjgAAAwkgAMAwEBbFl0AG9PHf/kfLrqENXffF1256BIAAIyAAwDASAI4AAAMJIADAMBAAjgAAAwkgAMAwEACOAAADCSAAwDAQAI4AAAMJIADAMBAAjgAAAwkgAMAwEACOAAADCSAAwDAQAI4AAAMJIADAMBAWxZdAGx0D/+thy+6hDX3l8/8y0WXAACblhFwAAAYSAAHAICBBHAAABhIAAcAgIEEcAAAGEgABwCAgdyGcM7D/v0Fiy5hzV3x62csugQAAOYYAQcAgIEEcAAAGEgABwCAgQRwAAAYSAAHAICBBHAAABhIAAcAgIEEcAAAGEgABwCAgQRwAAAYSAAHAICBBHAAABhIAAcAgIEEcAAAGEgABwCAgQRwAAAYaL8P4FV1WlV9qKp2VNVzF10PAADszX4dwKvqoCQvT/LoJMcneVJVHb/YqgAAYM/26wCe5KQkO7r7I93990kuTHL6gmsCAIA92t8D+JFJPjH3fOfUBgAAG1J196Jr+JZV1eOTnNrdPzs9f0qSk7r7mcu2OyvJWdPT703yoaGFruywJJ9edBEbhL6Y0Q9L9MUSfbFEXyzRF0v0xRJ9sWSj9MX9unvr8sYti6hkDe1McvTc86OSXLd8o+4+N8m5o4pajara3t0nLrqOjUBfzOiHJfpiib5Yoi+W6Isl+mKJvliy0ftif5+C8p4kx1XVsVV1lyTbklyy4JoAAGCP9usR8O7eVVXPSPK/khyU5DXdfdWCywIAgD3arwN4knT3m5O8edF1fAs21JSYBdMXM/phib5Yoi+W6Isl+mKJvliiL5Zs6L7Yry/CBACA/c3+PgccAAD2KwI4AAAMJIADAMBA+/1FmPujqrpXd9+86DpgI6mqwzP7JttOcl1337DgkjaEzf554bxYmfPCebES58X+c164CHOdVdULu/tXpuXjk/xxkjsnqSRP7O53L7C8hdmf/khG2owfnlV1QpL/muTQJJ+cmo9K8rkk/6a737uYysbzebHEebHEebHEebHEebFkvzwvuttjHR9J3ju3/D+TPHpaPinJXy26vgX0xwlJ3pXkmiR/Nj3+Zmr7/kXXN7gvXji3fHySDyf5aJJrk/yjRdc3sB/et9L7TXJykvcvur7BfeHzwnnhvHBeOC82wXlhDvhY9+nuS5Okuy9PcrcF17MI5yV5Vnc/oLt/ZHp8X5JnJ3ntQisb76fmln89s345NskTkrx0MSUtxLf3CiM13f2uJN++gHo2is3+eeG8WJnzwnmxEufFfnZemAO+/r67qi7J7J+Ejqqqb+vuv5vW3XmBdS3KHv9IqmpD/pEMcrsPz6raTB+el1bV/0xyQZJPTG1HJzkjyZ8srKrF8HmxxHmxxHmxxHmxxHmxZL87LwTw9Xf6sud3Sr4+B/qV48tZuP3uj2Qd+fBM0t0/X1WPzuxv5cjM+mNnkpf37JtuNxOfFxPnxe04LybOi9txXkz2x/PCRZgMt4c/kks26h/JeqmqRyxruqK7vzh9eD6uu1++iLoAgPUlgC9QVZ3V3ecuug7YqPyNLNEXS/TFEn2xRF8s0RdLNmpfuAhzsWrRBWwkVXXWomvYKPTF1/kbWaIvluiLJfpiib5Yoi+WbMi+MAd8gKr6vixNuegk12U25eK/LbSwjWdD/pEsyKbqi+lv5Mgk7+7uL86t+tiCSloYfbGkqk5K0t39nuk+x6cl+ZvN+NmpL/asqi7o7jP0hb7Yrar+SWa3Y/zgRu0LAXydVdV/TPKkJBcmuXxqPirJ66vqwu7+tYUVt/H8/aIL2EA2TV9U1c8neXpm94Z/dVU9q7vfOK3+1Wyii3P1xZKq+sUkj06yparekuQfJXlHkudW1UO7+5xF1jeSvlgyXbh+u6Ykj6qq70iS7v6J4UUtiL5YUlWXd/dJ0/K/yuxz9I+S/GJVff9GzFrmgK+zqvpwkgd291eXtd8lyVXdfdxiKtt4qurj3X3fRdexEWymvqiqK5P84HQB6jFJLk7yuu7+zar66+5+6GIrHEdfLJn64oQkByf5VJKjuvsL0y06393dD15kfSPpiyVV9d4kVyf5ncz+RbmSvD7JtiTp7j9fXHVj6Ysl85+PVfWeJD/a3TdNtzd+V3f/w8VW+I2MgK+/ryW5T77xn4+PmNZtKlX1gT2tSnL4yFoWTV983UG7p1p097VV9cgkF1fV/bLJpuJEX8zb1d23Jfm7qvo/3f2FJOnuL1fVZvvs1BdLTkzyrCQvSPLvu/t9VfXlzRQ25+iLJXeqqntmdm1jdfdNSdLdX6qqXYstbWUC+Pp7dpK3VtXfZum+1/dNcv8kz1hUUQt0eJJTk3x2WXsl+avx5SyUvpj5VFWd0N3vS5Jp9PfHk7wmyYYbtVhn+mLJ38/dG/9huxur6tBsvsELfTHp7q8leWlV/cH084Zs0iyjL27n0CRXZPbfz66q7+ruT1XV3bNBBy826y9qmO7+k6r6B5ldDDB/3+v3TCMam83/SHL33QFjXlW9Y3g1i6UvZs5IcrsRiu7eleSMqtqQF8+sI32x5Ie6+9bk60FjtzsnOXMxJS2Mvlimu3cmeXxV/ViSLyy6nkXSF0l3H7OHVV9L8pMDS1k1c8ABAGAg9wEHAICBBHAAABhIAAfgG1TVs6vq2+aev3n3/YUBuGPMAQfYpKqqMvvvwDfcSaOqrk1yYnd/enhhAAc4I+AAm0hVHVNV11TVK5K8N7Nv3NxeVVdV1S9N2/x8Zt9f8PaqevvUdm1VHTa3/6umff50+kKYVNUPVNUHquqyqvr1qvrgot4nwEYmgANsPt+b5ILpm+Oe090nJnlwkkdU1YO7+2VJrkvyqO5+1Ar7H5fk5d39wCSfS/L/TO2vTfKvu/sHk2zG26wCrIoADrD5fKy73zUtP2H6Suu/TvLAJMevYv+Pzt2//ookx0zzw+/R3bu/ROr317BegAOKL+IB2Hy+lCRVdWySX0jyA9392ao6L8ldV7H/rXPLtyW5Wzbot80BbERGwAE2r0MyC+Ofr6rDkzx6bt0tSe6x2gN192eT3FJVJ09N29asSoADjBFwgE2qu99fVX+d5KokH0nyl3Orz01yaVVdv4d54Ct5apJXVdWXkrwjyefXsl6AA4XbEAKwJqrq7t39xWn5uUmO6O5nLbgsgA3HCDgAa+XHqup5mf235WNJfnqx5QBsTEbAAQBgIBdhAgDAQAI4AAAMJIADAMBAAjgAAAwkgAMAwEACOAAADPR/AVrYSsYB7SYLAAAAAElFTkSuQmCC",
=======
      "image/png": "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\n",
>>>>>>> 820b6ddf3c2112242b8fe1a08fec0232c02ca584
      "text/plain": [
       "<Figure size 1008x648 with 1 Axes>"
      ]
     },
     "metadata": {
      "needs_background": "light"
     },
     "output_type": "display_data"
    }
   ],
   "source": [
    "create_plots(movie_rating_df, 'count_plot', 'rating')"
   ]
  },
  {
   "cell_type": "markdown",
   "id": "80293099",
   "metadata": {},
   "source": [
    "The graph above visualizes both the count and rating for rated movies.\n",
    "\n",
    "The highest rating is 4 indicates that a significant number of users have given a rating of \"4\" to the movies in your dataset. This could suggest that a majority of users generally enjoy the movies, as they tend to give higher ratings."
   ]
  },
  {
   "cell_type": "code",
   "execution_count": 25,
   "id": "5a3fb233",
   "metadata": {},
   "outputs": [],
   "source": [
    "# Count the number of ratings for each unique movieId\n",
    "movie_ratings_count = ratings['movieId'].value_counts()"
   ]
  },
  {
   "cell_type": "code",
   "execution_count": 26,
   "id": "76bbe386",
   "metadata": {},
   "outputs": [
    {
     "name": "stderr",
     "output_type": "stream",
     "text": [
      "C:\\Users\\Rono\\anaconda3\\envs\\learn-env\\lib\\site-packages\\seaborn\\_decorators.py:36: FutureWarning: Pass the following variables as keyword args: x, y. From version 0.12, the only valid positional argument will be `data`, and passing other arguments without an explicit keyword will result in an error or misinterpretation.\n",
      "  warnings.warn(\n"
     ]
    },
    {
     "data": {
<<<<<<< HEAD
      "image/png": "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",
=======
      "image/png": "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\n",
>>>>>>> 820b6ddf3c2112242b8fe1a08fec0232c02ca584
      "text/plain": [
       "<Figure size 1008x648 with 1 Axes>"
      ]
     },
     "metadata": {
      "needs_background": "light"
     },
     "output_type": "display_data"
    }
   ],
   "source": [
    "# Get the top 10 most frequently rated movies\n",
    "top_10_watched_movies = movie_rating_df['title'].value_counts().head(10)\n",
    "\n",
    "# Create a bar plot to visualize the distribution of ratings for the top 10 movies\n",
    "create_plots(movie_rating_df, plot_type='bar_plot_1', columns_to_plot=top_10_watched_movies)"
   ]
  },
  {
   "cell_type": "markdown",
   "id": "4f95b850",
   "metadata": {},
   "source": [
    "The visualization provides insights into the popularity of movies based on the number of ratings they have received.\n",
    "\n",
    "\"Forrest Gump\" is the most popular and frequently rated movies among the users."
   ]
  },
  {
   "cell_type": "markdown",
   "id": "043d8955",
   "metadata": {},
   "source": [
    "### What are the lowest and highest rated movies? \n",
    "\n",
    "Which movie has the lowest and highest average rating?"
   ]
  },
  {
   "cell_type": "code",
   "execution_count": 27,
   "id": "ec7ccce9",
   "metadata": {},
   "outputs": [
    {
     "data": {
      "text/html": [
       "<div>\n",
       "<style scoped>\n",
       "    .dataframe tbody tr th:only-of-type {\n",
       "        vertical-align: middle;\n",
       "    }\n",
       "\n",
       "    .dataframe tbody tr th {\n",
       "        vertical-align: top;\n",
       "    }\n",
       "\n",
       "    .dataframe thead th {\n",
       "        text-align: right;\n",
       "    }\n",
       "</style>\n",
       "<table border=\"1\" class=\"dataframe\">\n",
       "  <thead>\n",
       "    <tr style=\"text-align: right;\">\n",
       "      <th></th>\n",
       "      <th>movieId</th>\n",
       "      <th>title</th>\n",
       "      <th>genres</th>\n",
       "    </tr>\n",
       "  </thead>\n",
       "  <tbody>\n",
       "    <tr>\n",
       "      <th>2689</th>\n",
       "      <td>3604</td>\n",
       "      <td>Gypsy (1962)</td>\n",
       "      <td>Musical</td>\n",
       "    </tr>\n",
       "  </tbody>\n",
       "</table>\n",
       "</div>"
      ],
      "text/plain": [
       "      movieId         title   genres\n",
       "2689     3604  Gypsy (1962)  Musical"
      ]
     },
     "execution_count": 27,
     "metadata": {},
     "output_type": "execute_result"
    }
   ],
   "source": [
    "# Calculate the mean rating for each movie\n",
    "mean_ratings = ratings.groupby('movieId')[['rating']].mean()\n",
    "\n",
    "# Find the movie with the lowest mean rating\n",
    "lowest_rated_movie_id = mean_ratings['rating'].idxmin()\n",
    "\n",
    "# Retrieve information about the movie with the lowest mean rating\n",
    "lowest_rated_movie_info = movies[movies['movieId'] == lowest_rated_movie_id]\n",
    "lowest_rated_movie_info"
   ]
  },
  {
   "cell_type": "code",
   "execution_count": 28,
   "id": "46f53bf8",
   "metadata": {},
   "outputs": [
    {
     "data": {
      "text/html": [
       "<div>\n",
       "<style scoped>\n",
       "    .dataframe tbody tr th:only-of-type {\n",
       "        vertical-align: middle;\n",
       "    }\n",
       "\n",
       "    .dataframe tbody tr th {\n",
       "        vertical-align: top;\n",
       "    }\n",
       "\n",
       "    .dataframe thead th {\n",
       "        text-align: right;\n",
       "    }\n",
       "</style>\n",
       "<table border=\"1\" class=\"dataframe\">\n",
       "  <thead>\n",
       "    <tr style=\"text-align: right;\">\n",
       "      <th></th>\n",
       "      <th>movieId</th>\n",
       "      <th>title</th>\n",
       "      <th>genres</th>\n",
       "    </tr>\n",
       "  </thead>\n",
       "  <tbody>\n",
       "    <tr>\n",
       "      <th>48</th>\n",
       "      <td>53</td>\n",
       "      <td>Lamerica (1994)</td>\n",
       "      <td>Adventure|Drama</td>\n",
       "    </tr>\n",
       "  </tbody>\n",
       "</table>\n",
       "</div>"
      ],
      "text/plain": [
       "    movieId            title           genres\n",
       "48       53  Lamerica (1994)  Adventure|Drama"
      ]
     },
     "execution_count": 28,
     "metadata": {},
     "output_type": "execute_result"
    }
   ],
   "source": [
    "# Find the movie with the highest average rating\n",
    "highest_rated_movie_id = mean_ratings['rating'].idxmax()\n",
    "\n",
    "# Retrieve information about the highest-rated movie from the 'movies' DataFrame\n",
    "highest_rated_movie_info = movies[movies['movieId'] == highest_rated_movie_id]\n",
    "highest_rated_movie_info"
   ]
  },
  {
   "cell_type": "markdown",
   "id": "3b3237fd",
   "metadata": {},
   "source": [
    "How many ratings does Lamerica have?"
   ]
  },
  {
   "cell_type": "code",
   "execution_count": 29,
   "id": "c820cbd3",
   "metadata": {},
   "outputs": [
    {
     "data": {
      "text/html": [
       "<div>\n",
       "<style scoped>\n",
       "    .dataframe tbody tr th:only-of-type {\n",
       "        vertical-align: middle;\n",
       "    }\n",
       "\n",
       "    .dataframe tbody tr th {\n",
       "        vertical-align: top;\n",
       "    }\n",
       "\n",
       "    .dataframe thead th {\n",
       "        text-align: right;\n",
       "    }\n",
       "</style>\n",
       "<table border=\"1\" class=\"dataframe\">\n",
       "  <thead>\n",
       "    <tr style=\"text-align: right;\">\n",
       "      <th></th>\n",
       "      <th>userId</th>\n",
       "      <th>movieId</th>\n",
       "      <th>rating</th>\n",
       "      <th>timestamp</th>\n",
       "    </tr>\n",
       "  </thead>\n",
       "  <tbody>\n",
       "    <tr>\n",
       "      <th>13368</th>\n",
       "      <td>85</td>\n",
       "      <td>53</td>\n",
       "      <td>5.0</td>\n",
       "      <td>889468268</td>\n",
       "    </tr>\n",
       "    <tr>\n",
       "      <th>96115</th>\n",
       "      <td>603</td>\n",
       "      <td>53</td>\n",
       "      <td>5.0</td>\n",
       "      <td>963180003</td>\n",
       "    </tr>\n",
       "  </tbody>\n",
       "</table>\n",
       "</div>"
      ],
      "text/plain": [
       "       userId  movieId  rating  timestamp\n",
       "13368      85       53     5.0  889468268\n",
       "96115     603       53     5.0  963180003"
      ]
     },
     "execution_count": 29,
     "metadata": {},
     "output_type": "execute_result"
    }
   ],
   "source": [
    "# Filter the 'ratings' DataFrame to include only rows where 'movieId' is equal to the highest rated movie\n",
    "highest_rated_movie_ratings = ratings[ratings['movieId'] == highest_rated_movie_id]\n",
    "highest_rated_movie_ratings"
   ]
  },
  {
   "cell_type": "markdown",
   "id": "9c9efe4e",
   "metadata": {},
   "source": [
    "The movie with the lowest mean rating, which is \"Gypsy (1962),\" and The movie with the highest mean rating, which is \"Lamerica (1994).\"\n",
    "\n",
    "We also see that even though 'Lamerica' has the highest ratings, it has only been rated twice."
   ]
  },
  {
   "cell_type": "code",
   "execution_count": 30,
   "id": "f5a6efcc",
   "metadata": {},
   "outputs": [],
   "source": [
    "# Function to split genres in the 'genres' column and count their occurrences\n",
    "def splitting_string(movies):\n",
    "    # Splitting the genres string into a list of genres\n",
    "    movies['genres'] = movies['genres'].apply(lambda x: x.split('|'))\n",
    "    \n",
    "    # Counting the frequency of each genre using Counter\n",
    "    from collections import Counter\n",
    "    genre_frequency = Counter(g for genres in movies['genres'] for g in genres)\n",
    "    \n",
    "    return genre_frequency"
   ]
  },
  {
   "cell_type": "code",
   "execution_count": 31,
   "id": "faa09fd8",
   "metadata": {},
   "outputs": [
    {
     "data": {
      "text/plain": [
       "Counter({'Adventure': 24161,\n",
       "         'Animation': 6988,\n",
       "         'Children': 9208,\n",
       "         'Comedy': 39053,\n",
       "         'Fantasy': 11834,\n",
       "         'Romance': 18124,\n",
       "         'Drama': 41928,\n",
       "         'Action': 30635,\n",
       "         'Crime': 16681,\n",
       "         'Thriller': 26452,\n",
       "         'Horror': 7291,\n",
       "         'Mystery': 7674,\n",
       "         'Sci-Fi': 17243,\n",
       "         'War': 4859,\n",
       "         'Musical': 4138,\n",
       "         'Documentary': 1219,\n",
       "         'IMAX': 4145,\n",
       "         'Western': 1930,\n",
       "         'Film-Noir': 870,\n",
       "         '(no genres listed)': 47})"
      ]
     },
     "execution_count": 31,
     "metadata": {},
     "output_type": "execute_result"
    }
   ],
   "source": [
    "# Applying the function to the 'movie_rating_df' DataFrame\n",
    "genre_count = splitting_string(movie_rating_df)\n",
    "genre_count"
   ]
  },
  {
   "cell_type": "markdown",
   "id": "7634e552",
   "metadata": {},
   "source": [
    "It shows the count of occurrences for each genre in the DataFrame.Each key represents a genre, and the corresponding value is the count of how many times that genre appears in the DataFrame."
   ]
  },
  {
   "cell_type": "code",
   "execution_count": 32,
   "id": "21d7d9a0",
   "metadata": {},
   "outputs": [
    {
     "data": {
      "text/html": [
       "<div>\n",
       "<style scoped>\n",
       "    .dataframe tbody tr th:only-of-type {\n",
       "        vertical-align: middle;\n",
       "    }\n",
       "\n",
       "    .dataframe tbody tr th {\n",
       "        vertical-align: top;\n",
       "    }\n",
       "\n",
       "    .dataframe thead th {\n",
       "        text-align: right;\n",
       "    }\n",
       "</style>\n",
       "<table border=\"1\" class=\"dataframe\">\n",
       "  <thead>\n",
       "    <tr style=\"text-align: right;\">\n",
       "      <th></th>\n",
       "      <th>movieId</th>\n",
       "      <th>title</th>\n",
       "      <th>genres</th>\n",
       "      <th>userId</th>\n",
       "      <th>rating</th>\n",
       "      <th>timestamp</th>\n",
       "      <th>hour</th>\n",
       "      <th>month</th>\n",
       "    </tr>\n",
       "  </thead>\n",
       "  <tbody>\n",
       "    <tr>\n",
       "      <th>0</th>\n",
       "      <td>1</td>\n",
       "      <td>Toy Story (1995)</td>\n",
       "      <td>Adventure</td>\n",
       "      <td>1</td>\n",
       "      <td>4.0</td>\n",
       "      <td>2000-07-30 18:45:03</td>\n",
       "      <td>18</td>\n",
       "      <td>7</td>\n",
       "    </tr>\n",
       "    <tr>\n",
       "      <th>0</th>\n",
       "      <td>1</td>\n",
       "      <td>Toy Story (1995)</td>\n",
       "      <td>Animation</td>\n",
       "      <td>1</td>\n",
       "      <td>4.0</td>\n",
       "      <td>2000-07-30 18:45:03</td>\n",
       "      <td>18</td>\n",
       "      <td>7</td>\n",
       "    </tr>\n",
       "    <tr>\n",
       "      <th>0</th>\n",
       "      <td>1</td>\n",
       "      <td>Toy Story (1995)</td>\n",
       "      <td>Children</td>\n",
       "      <td>1</td>\n",
       "      <td>4.0</td>\n",
       "      <td>2000-07-30 18:45:03</td>\n",
       "      <td>18</td>\n",
       "      <td>7</td>\n",
       "    </tr>\n",
       "    <tr>\n",
       "      <th>0</th>\n",
       "      <td>1</td>\n",
       "      <td>Toy Story (1995)</td>\n",
       "      <td>Comedy</td>\n",
       "      <td>1</td>\n",
       "      <td>4.0</td>\n",
       "      <td>2000-07-30 18:45:03</td>\n",
       "      <td>18</td>\n",
       "      <td>7</td>\n",
       "    </tr>\n",
       "    <tr>\n",
       "      <th>0</th>\n",
       "      <td>1</td>\n",
       "      <td>Toy Story (1995)</td>\n",
       "      <td>Fantasy</td>\n",
       "      <td>1</td>\n",
       "      <td>4.0</td>\n",
       "      <td>2000-07-30 18:45:03</td>\n",
       "      <td>18</td>\n",
       "      <td>7</td>\n",
       "    </tr>\n",
       "    <tr>\n",
       "      <th>...</th>\n",
       "      <td>...</td>\n",
       "      <td>...</td>\n",
       "      <td>...</td>\n",
       "      <td>...</td>\n",
       "      <td>...</td>\n",
       "      <td>...</td>\n",
       "      <td>...</td>\n",
       "      <td>...</td>\n",
       "    </tr>\n",
       "    <tr>\n",
       "      <th>100832</th>\n",
       "      <td>193583</td>\n",
       "      <td>No Game No Life: Zero (2017)</td>\n",
       "      <td>Fantasy</td>\n",
       "      <td>184</td>\n",
       "      <td>3.5</td>\n",
       "      <td>2018-09-16 14:52:25</td>\n",
       "      <td>14</td>\n",
       "      <td>9</td>\n",
       "    </tr>\n",
       "    <tr>\n",
       "      <th>100833</th>\n",
       "      <td>193585</td>\n",
       "      <td>Flint (2017)</td>\n",
       "      <td>Drama</td>\n",
       "      <td>184</td>\n",
       "      <td>3.5</td>\n",
       "      <td>2018-09-16 14:56:45</td>\n",
       "      <td>14</td>\n",
       "      <td>9</td>\n",
       "    </tr>\n",
       "    <tr>\n",
       "      <th>100834</th>\n",
       "      <td>193587</td>\n",
       "      <td>Bungo Stray Dogs: Dead Apple (2018)</td>\n",
       "      <td>Action</td>\n",
       "      <td>184</td>\n",
       "      <td>3.5</td>\n",
       "      <td>2018-09-16 15:00:21</td>\n",
       "      <td>15</td>\n",
       "      <td>9</td>\n",
       "    </tr>\n",
       "    <tr>\n",
       "      <th>100834</th>\n",
       "      <td>193587</td>\n",
       "      <td>Bungo Stray Dogs: Dead Apple (2018)</td>\n",
       "      <td>Animation</td>\n",
       "      <td>184</td>\n",
       "      <td>3.5</td>\n",
       "      <td>2018-09-16 15:00:21</td>\n",
       "      <td>15</td>\n",
       "      <td>9</td>\n",
       "    </tr>\n",
       "    <tr>\n",
       "      <th>100835</th>\n",
       "      <td>193609</td>\n",
       "      <td>Andrew Dice Clay: Dice Rules (1991)</td>\n",
       "      <td>Comedy</td>\n",
       "      <td>331</td>\n",
       "      <td>4.0</td>\n",
       "      <td>2018-09-17 04:13:26</td>\n",
       "      <td>4</td>\n",
       "      <td>9</td>\n",
       "    </tr>\n",
       "  </tbody>\n",
       "</table>\n",
       "<p>274480 rows × 8 columns</p>\n",
       "</div>"
      ],
      "text/plain": [
       "        movieId                                title     genres  userId  \\\n",
       "0             1                     Toy Story (1995)  Adventure       1   \n",
       "0             1                     Toy Story (1995)  Animation       1   \n",
       "0             1                     Toy Story (1995)   Children       1   \n",
       "0             1                     Toy Story (1995)     Comedy       1   \n",
       "0             1                     Toy Story (1995)    Fantasy       1   \n",
       "...         ...                                  ...        ...     ...   \n",
       "100832   193583         No Game No Life: Zero (2017)    Fantasy     184   \n",
       "100833   193585                         Flint (2017)      Drama     184   \n",
       "100834   193587  Bungo Stray Dogs: Dead Apple (2018)     Action     184   \n",
       "100834   193587  Bungo Stray Dogs: Dead Apple (2018)  Animation     184   \n",
       "100835   193609  Andrew Dice Clay: Dice Rules (1991)     Comedy     331   \n",
       "\n",
       "        rating           timestamp  hour  month  \n",
       "0          4.0 2000-07-30 18:45:03    18      7  \n",
       "0          4.0 2000-07-30 18:45:03    18      7  \n",
       "0          4.0 2000-07-30 18:45:03    18      7  \n",
       "0          4.0 2000-07-30 18:45:03    18      7  \n",
       "0          4.0 2000-07-30 18:45:03    18      7  \n",
       "...        ...                 ...   ...    ...  \n",
       "100832     3.5 2018-09-16 14:52:25    14      9  \n",
       "100833     3.5 2018-09-16 14:56:45    14      9  \n",
       "100834     3.5 2018-09-16 15:00:21    15      9  \n",
       "100834     3.5 2018-09-16 15:00:21    15      9  \n",
       "100835     4.0 2018-09-17 04:13:26     4      9  \n",
       "\n",
       "[274480 rows x 8 columns]"
      ]
     },
     "execution_count": 32,
     "metadata": {},
     "output_type": "execute_result"
    }
   ],
   "source": [
    "# Create a copy of the original DataFrame\n",
    "new_df = movie_rating_df.copy()\n",
    "\n",
    "# Explode the 'genres' column to have one row for each genre associated with a movie\n",
    "new_df = new_df.explode('genres')\n",
    "\n",
    "# Display the modified DataFrame\n",
    "new_df"
   ]
  },
  {
   "cell_type": "code",
   "execution_count": 33,
   "id": "7f632b3b",
   "metadata": {},
   "outputs": [
    {
     "data": {
      "image/png": "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",
      "text/plain": [
       "<Figure size 936x432 with 1 Axes>"
      ]
     },
     "metadata": {
      "needs_background": "light"
     },
     "output_type": "display_data"
    }
   ],
   "source": [
    "# Visualization of genres in descending order of frequency\n",
    "\n",
    "# Convert genre_count dictionary to a DataFrame\n",
    "genre_df = pd.DataFrame(list(genre_count.items()), columns=['Genre', 'Count'])\n",
    "\n",
    "# Sort DataFrame by Count in descending order\n",
    "genre_df = genre_df.sort_values(by='Count', ascending=False)\n",
    "\n",
    "# Assign the sorted DataFrame to 'all_genres'\n",
    "all_genres = genre_df\n",
    "\n",
    "# Plotting the bar chart\n",
    "plt.figure(figsize=(13, 6))\n",
    "sns.set(style=\"whitegrid\")\n",
    "sns.barplot(x='Genre', y='Count', data=all_genres, palette=\"viridis\")\n",
    "plt.title('Genres')\n",
    "plt.xlabel('Genre')\n",
    "plt.ylabel('Count')\n",
    "plt.xticks(rotation=45)\n",
    "plt.show()"
   ]
  },
  {
   "cell_type": "markdown",
   "id": "1072d207",
   "metadata": {},
   "source": [
    "The high count of \"Drama\" suggests that movies classified under the Drama genre are very common in your dataset. Viewers in the dataset seem to have rated or interacted with a significant number of movies that fall into the Drama category. On the other hand, the low count of \"Film-Noir\" indicates that movies in the Film-Noir genre are less common or less frequently rated in the dataset."
   ]
  },
  {
   "cell_type": "code",
   "execution_count": 34,
   "id": "347caacc",
   "metadata": {},
   "outputs": [
    {
     "name": "stdout",
     "output_type": "stream",
     "text": [
      "Number of ratings: 100836\n",
      "Number of unique movieIds: 9724\n",
      "Number of unique users: 610\n",
      "Average number of ratings per user: 165.305\n",
      "Average number of ratings per movie: 10.37\n"
     ]
    }
   ],
   "source": [
    "# Calculate the total number of ratings\n",
    "n_ratings = len(ratings)\n",
    "\n",
    "# Calculate the number of unique movieIds and users\n",
    "n_movies = ratings['movieId'].nunique()\n",
    "n_users = ratings['userId'].nunique()\n",
    "\n",
    "# Display the results\n",
    "print(f\"Number of ratings: {n_ratings}\")\n",
    "print(f\"Number of unique movieIds: {n_movies}\")\n",
    "print(f\"Number of unique users: {n_users}\")\n",
    "print(f\"Average number of ratings per user: {round(n_ratings / n_users, 3)}\")\n",
    "print(f\"Average number of ratings per movie: {round(n_ratings / n_movies, 3)}\")"
   ]
  },
  {
   "cell_type": "markdown",
   "id": "c3e781c0",
   "metadata": {},
   "source": [
    "The dataset contains 100,836 ratings, 9,724 unique movieIds, 610 unique users, and an average of 165.305 ratings per user and 10.37 ratings per movie."
   ]
  },
  {
   "cell_type": "code",
   "execution_count": 35,
   "id": "9e341add",
   "metadata": {},
   "outputs": [
    {
     "name": "stdout",
     "output_type": "stream",
     "text": [
      "Mean global rating: 3.5.\n",
      "Mean rating per user: 3.66.\n"
     ]
    }
   ],
   "source": [
    "# Calculate and print the mean global rating\n",
    "global_mean_rating = round(ratings['rating'].mean(), 2)\n",
    "print(f\"Mean global rating: {global_mean_rating}.\")\n",
    "\n",
    "# Calculate mean rating per user, then calculate and print the overall mean of those user means\n",
    "mean_ratings_per_user = ratings.groupby('userId')['rating'].mean()\n",
    "overall_mean_per_user = round(mean_ratings_per_user.mean(), 2)\n",
    "print(f\"Mean rating per user: {overall_mean_per_user}.\")"
   ]
  },
  {
   "cell_type": "code",
   "execution_count": 36,
   "id": "6bcfe77f",
   "metadata": {},
   "outputs": [
    {
     "data": {
      "image/png": "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",
      "text/plain": [
       "<Figure size 720x576 with 2 Axes>"
      ]
     },
     "metadata": {},
     "output_type": "display_data"
    }
   ],
   "source": [
    "# Calculate the correlations between features in the DataFrame\n",
    "correlations = new_df.corr()\n",
    "\n",
    "# Create a heatmap for visualizing the correlations\n",
    "plt.figure(figsize=(10, 8))\n",
    "sns.heatmap(round(correlations, 2), annot=True, linewidths=.7)\n",
    "plt.title('Correlation Heatmap')\n",
    "plt.show()"
   ]
  },
  {
   "cell_type": "markdown",
   "id": "d0e79bd2",
   "metadata": {},
   "source": [
<<<<<<< HEAD
    "## b) BIVARIATE DATA ANALYSIS"
=======
    "The correlation coefficient ranges from -1 to 1, with 1 indicating a perfect positive correlation, -1 indicating a perfect negative correlation, and 0 indicating no correlation.\n",
    "\n",
    "The correlation between movieId and userId is very small, indicating a weak positive relationship.\n",
    "\n",
    "The correlation between movieId and rating is also very small, indicating a weak negative relationship.\n",
    "\n",
    "The hour and month have a small positive correlation."
   ]
  },
  {
   "cell_type": "markdown",
   "id": "eb88bc21",
   "metadata": {},
   "source": [
    "### BIVARIATE DATA ANALYSIS"
>>>>>>> 820b6ddf3c2112242b8fe1a08fec0232c02ca584
   ]
  },
  {
   "cell_type": "code",
   "execution_count": 37,
   "id": "814ce9a8",
   "metadata": {},
   "outputs": [
    {
     "name": "stderr",
     "output_type": "stream",
     "text": [
      "C:\\Users\\Rono\\anaconda3\\envs\\learn-env\\lib\\site-packages\\seaborn\\_decorators.py:36: FutureWarning: Pass the following variables as keyword args: x, y. From version 0.12, the only valid positional argument will be `data`, and passing other arguments without an explicit keyword will result in an error or misinterpretation.\n",
      "  warnings.warn(\n"
     ]
    },
    {
     "data": {
<<<<<<< HEAD
      "image/png": "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",
=======
      "image/png": "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\n",
>>>>>>> 820b6ddf3c2112242b8fe1a08fec0232c02ca584
      "text/plain": [
       "<Figure size 1008x648 with 1 Axes>"
      ]
     },
     "metadata": {},
     "output_type": "display_data"
    }
   ],
   "source": [
    "# Get the top 10 most-watched movies by count of ratings\n",
    "top_10_watched_movies = movie_rating_df['title'].value_counts().nlargest(10)\n",
    "\n",
    "# Calculate the average ratings for the top 10 watched movies\n",
    "average_ratings = movie_rating_df.groupby('title')['rating'].mean().loc[top_10_watched_movies.index]\n",
    "\n",
    "# Create a bar plot displaying the average ratings of the top 10 most-watched movies\n",
    "create_plots(movie_rating_df, 'bar_plot_2', average_ratings)"
   ]
  },
  {
   "cell_type": "code",
   "execution_count": 38,
   "id": "d84a1823",
   "metadata": {},
   "outputs": [
    {
     "data": {
<<<<<<< HEAD
      "image/png": "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",
=======
      "image/png": "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\n",
>>>>>>> 820b6ddf3c2112242b8fe1a08fec0232c02ca584
      "text/plain": [
       "<Figure size 864x432 with 1 Axes>"
      ]
     },
     "metadata": {},
     "output_type": "display_data"
    }
   ],
   "source": [
    "def bar_plot(x, y, data):\n",
    "    \"\"\"\n",
    "    Create a bar plot to visualize the relationship between two variables.\n",
    "\n",
    "    Args:\n",
    "    - x: str, the column name for the x-axis\n",
    "    - y: str, the column name for the y-axis\n",
    "    - data: DataFrame, the input data\n",
    "\n",
    "    Returns:\n",
    "    - None\n",
    "    \"\"\"\n",
    "    # Set up the plot size\n",
    "    plt.figure(figsize=(12, 6))\n",
    "    \n",
    "    # Create a bar plot using Seaborn\n",
    "    sns.barplot(x=x, y=y, data=data)\n",
    "    \n",
    "    # Set plot title and axis labels\n",
    "    plt.title(f'{y} by {x}')\n",
    "    plt.xlabel(f'{x}')\n",
    "    plt.xticks(rotation=90)\n",
    "    plt.ylabel(f'{y}')\n",
    "    # Add grid lines to the plot\n",
    "    plt.grid(True, axis='y', linestyle='-', alpha=.7)\n",
    "    \n",
    "    # Display the plot\n",
    "    plt.show()\n",
    "\n",
    "# Example usage\n",
    "bar_plot('genres', 'rating', new_df)"
   ]
  },
  {
   "cell_type": "code",
   "execution_count": 39,
   "id": "103a44bb",
   "metadata": {},
   "outputs": [
    {
     "data": {
<<<<<<< HEAD
      "image/png": "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",
=======
      "image/png": "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\n",
>>>>>>> 820b6ddf3c2112242b8fe1a08fec0232c02ca584
      "text/plain": [
       "<Figure size 1296x792 with 1 Axes>"
      ]
     },
     "metadata": {},
     "output_type": "display_data"
    }
   ],
   "source": [
    "# Create a count plot to visualize the distribution of ratings per genre\n",
    "\n",
    "# Set the size of the figure\n",
    "plt.figure(figsize=(18, 11))\n",
    "\n",
    "# Create a count plot using seaborn, with 'genres' on the x-axis and 'rating' represented by color\n",
    "sns.countplot(data=new_df, x='genres', hue='rating')\n",
    "\n",
    "# Set the title of the plot\n",
    "plt.title(f'Distribution of Ratings per Genre')\n",
    "\n",
    "# Add grid lines to the plot\n",
    "plt.grid(True, axis='y', linestyle='-', alpha=.7)\n",
    "\n",
    "# Display the plot\n",
    "plt.show()"
   ]
  },
  {
   "cell_type": "markdown",
   "id": "dea52a10",
   "metadata": {},
   "source": [
    "\"Drama\" has the highest distribution of ratings across different rating levels. This suggests that movies classified under the \"Drama\" genre receive a substantial number of ratings across various rating values."
   ]
  },
  {
   "cell_type": "markdown",
   "id": "ce05b0e5",
   "metadata": {},
   "source": [
    "# 5. Modelling "
   ]
  },
  {
   "cell_type": "code",
   "execution_count": 40,
   "id": "ce1d4102",
   "metadata": {},
   "outputs": [],
   "source": [
    "from surprise import Reader, Dataset\n",
    "from surprise import accuracy\n",
    "from surprise.model_selection import cross_validate, train_test_split\n",
    "from surprise.prediction_algorithms import SVD\n",
    "from surprise.prediction_algorithms import KNNWithMeans, KNNBasic, KNNBaseline\n",
    "from surprise.model_selection import GridSearchCV\n",
    "from IPython.display import HTML\n",
    "import warnings\n",
    "warnings.filterwarnings('ignore')"
   ]
  },
  {
   "cell_type": "code",
   "execution_count": 41,
   "id": "66154249",
   "metadata": {},
   "outputs": [
    {
     "name": "stdout",
     "output_type": "stream",
     "text": [
      "Number of users:  610 \n",
      "\n",
      "Number of items:  8995 \n",
      "\n"
     ]
    }
   ],
   "source": [
    "# Selecting necessary columns from the dataset: userId, movieId, and rating\n",
    "user_item_df = movie_rating_df[['userId', 'movieId', 'rating']]\n",
    "\n",
    "# Transforming the pandas dataframe into a Surprise dataset using the Reader\n",
    "reader = Reader()\n",
    "data = Dataset.load_from_df(user_item_df, reader)\n",
    "\n",
    "# Splitting the dataset into training and testing sets\n",
    "trainset, testset = train_test_split(data, test_size=0.2, random_state=111)\n",
    "\n",
    "# Printing the number of unique users and items in the training set\n",
    "print(\"Number of users: \", trainset.n_users, \"\\n\")\n",
    "print(\"Number of items: \", trainset.n_items, \"\\n\")"
   ]
  },
  {
   "cell_type": "markdown",
   "id": "f7b835ce",
   "metadata": {},
   "source": [
    "# MODEL 1: KNN BASIC MODEL"
   ]
  },
  {
   "cell_type": "markdown",
   "id": "c586f78f",
   "metadata": {},
   "source": [
    "Let's start with the simplest version of KNN, the basic model."
   ]
  },
  {
   "cell_type": "code",
   "execution_count": 42,
   "id": "fa86cc1b",
   "metadata": {},
   "outputs": [],
   "source": [
    "# Function to create a collaborative filtering model using the specified approach\n",
    "\n",
    "def model_creation(approach, trainset, testset):\n",
    "    \"\"\"\n",
    "    Args:\n",
    "    - approach: collaborative filtering algorithm (e.g., SVD)\n",
    "    - trainset: training dataset for model training\n",
    "    - testset: test dataset for model evaluation\n",
    "    \n",
    "    Returns:\n",
    "    - None\n",
    "    \"\"\"\n",
    "    if approach == SVD:\n",
    "        # Create an SVD model with specified parameters, fit it to the training set, and print RMSE\n",
    "        model = approach(n_factors=50, reg_all=0.05)\n",
    "        model.fit(trainset)\n",
    "        print(f'{approach.__name__} RMSE:', accuracy.rmse(model.test(testset)))\n",
    "    else:    \n",
    "        # Create a collaborative filtering model with Pearson similarity, fit it to the training set, and print RMSE\n",
    "        model = approach(sim_options={'name': 'pearson', 'user_based': True})\n",
    "        model.fit(trainset)\n",
    "        print(f'{approach.__name__} RMSE:', accuracy.rmse(model.test(testset)))"
   ]
  },
  {
   "cell_type": "code",
   "execution_count": 43,
   "id": "a69850cc",
   "metadata": {},
   "outputs": [
    {
     "name": "stdout",
     "output_type": "stream",
     "text": [
      "Computing the pearson similarity matrix...\n",
      "Done computing similarity matrix.\n",
      "RMSE: 0.9721\n",
      "KNNBasic RMSE: 0.9720846164183417\n"
     ]
    }
   ],
   "source": [
    "# Create and train a KNNBasic model using the provided training and testing datasets\n",
    "model_creation(KNNBasic, trainset, testset)"
   ]
  },
  {
   "cell_type": "markdown",
   "id": "5ecfe595",
   "metadata": {},
   "source": [
    "\n",
    "A root mean square error (RMSE) of 0.9721 indicates that, on average, the model's predictions differ from the actual ratings by around 0.97 units. <br>\n",
    "A perfect prediction would result in an RMSE of 0, and larger RMSE values signify greater prediction errors.\n",
    "\n",
    "So lets tune the model."
   ]
  },
  {
   "cell_type": "markdown",
   "id": "65d502f1",
   "metadata": {},
   "source": [
    "## Tuning KNNBasic Model"
   ]
  },
  {
   "cell_type": "code",
   "execution_count": 44,
   "id": "fda9a277",
   "metadata": {},
   "outputs": [],
   "source": [
    "def param_grid_search(model_to_tune): \n",
    "    \"\"\"\n",
    "    Perform a grid search for hyperparameter tuning of a collaborative filtering model.\n",
    "\n",
    "    Args:\n",
    "    - model_to_tune: Collaborative filtering model (SVD or KNN)\n",
    "\n",
    "    Returns:\n",
    "    - None\n",
    "    \"\"\"\n",
    "    # Setting relevant parameters for Gridsearch\n",
    "    grid = {\n",
    "        'k': [30, 40],   # Number of neighbors\n",
    "        'sim_options': {\n",
    "            'name': ['cosine', 'pearson'],  # Similarity measures\n",
    "            'user_based': [True],  # User-based collaborative filtering\n",
    "        },\n",
    "    }\n",
    "    \n",
    "    # Creating a parameter grid search for SVD model\n",
    "    params = {\n",
    "        'n_factors': [20, 50, 100],\n",
    "        'reg_all': [0.02, 0.05, 0.1],\n",
    "        # 'n_epochs': [5, 10],\n",
    "        # 'lr_all': [0.002, 0.005]\n",
    "    }\n",
    "\n",
    "    # Running grid search with the defined parameter grid\n",
    "    if model_to_tune == SVD:\n",
    "        grid_search = GridSearchCV(model_to_tune, params,\n",
    "                                   measures=['rmse'], n_jobs=-1)\n",
    "    else:\n",
    "        grid_search = GridSearchCV(model_to_tune, grid,\n",
    "                                   measures=['rmse'], n_jobs=-1)\n",
    "    \n",
    "    # Fit the grid search to the data\n",
    "    grid_search.fit(data)\n",
    "    \n",
    "    # Display the best RMSE and corresponding hyperparameters\n",
    "    print(f\"Best RMSE for {model_to_tune.__name__}: {grid_search.best_score}\")\n",
    "    print(f\"Best Hyperparameters for {model_to_tune.__name__}: {grid_search.best_params}\")\n"
   ]
  },
  {
   "cell_type": "code",
   "execution_count": 45,
   "id": "0802c11a",
   "metadata": {},
   "outputs": [
    {
     "name": "stdout",
     "output_type": "stream",
     "text": [
      "Best RMSE for KNNBasic: {'rmse': 0.9731926057306228}\n",
      "Best Hyperparameters for KNNBasic: {'rmse': {'k': 40, 'sim_options': {'name': 'cosine', 'user_based': True}}}\n"
     ]
    }
   ],
   "source": [
    "# Perform grid search for KNNBasic model with specified parameters\n",
    "param_grid_search(KNNBasic)"
   ]
  },
  {
   "cell_type": "markdown",
   "id": "ca9deb09",
   "metadata": {},
   "source": [
    "The lower the RMSE, the better the model's predictive performance. In this case, an RMSE of 0.972 indicates relatively accurate predictions.\n",
    "\n",
    "A higher number of neighbors (40) suggests that considering more similar users during the recommendation process improves the model's performance.\n",
    "\n",
    "Cosine similarity, as the chosen similarity measure, indicates that user-item relationships are assessed based on the cosine of the angle between user vectors in the item space.\n",
    "\n",
    "The user-based collaborative filtering approach means that recommendations are made based on the preferences of users with similar taste."
   ]
  },
  {
   "cell_type": "markdown",
   "id": "6f09d1be",
   "metadata": {},
   "source": [
    "# MODEL 2: KNNBaseline Model"
   ]
  },
  {
   "cell_type": "markdown",
   "id": "d831993e",
   "metadata": {},
   "source": [
    "Let's use the KNNBaseline model and see whether RMSE will reduce."
   ]
  },
  {
   "cell_type": "code",
   "execution_count": 46,
   "id": "59af0ad5",
   "metadata": {},
   "outputs": [
    {
     "name": "stdout",
     "output_type": "stream",
     "text": [
      "Estimating biases using als...\n",
      "Computing the pearson similarity matrix...\n",
      "Done computing similarity matrix.\n",
      "RMSE: 0.8790\n",
      "KNNBaseline RMSE: 0.8789611074934803\n"
     ]
    }
   ],
   "source": [
    "# Build a KNNBaseline model\n",
    "model_creation(KNNBaseline, trainset, testset)"
   ]
  },
  {
   "cell_type": "markdown",
   "id": "44ea0a36",
   "metadata": {},
   "source": [
    "An RMSE of 0.879 suggests that, on average, the model's predictions are about 0.879 units away from the actual ratings.\n",
    "\n",
    "The RMSE of 0.879 for KNNBaseline is lower than the RMSE of 0.972 for KNNBasic. The KNNBaseline model outperforms KNNBasic in terms of predictive accuracy."
   ]
  },
  {
   "cell_type": "markdown",
   "id": "26035424",
   "metadata": {},
   "source": [
    "Let's tune it to see whether error reduces."
   ]
  },
  {
   "cell_type": "markdown",
   "id": "7b31da96",
   "metadata": {},
   "source": [
    "## Tuning KNNBaseline Model"
   ]
  },
  {
   "cell_type": "code",
   "execution_count": 47,
   "id": "8f3c1ee8",
   "metadata": {},
   "outputs": [
    {
     "name": "stdout",
     "output_type": "stream",
     "text": [
      "Best RMSE for KNNBaseline: {'rmse': 0.8773151394694475}\n",
      "Best Hyperparameters for KNNBaseline: {'rmse': {'k': 40, 'sim_options': {'name': 'pearson', 'user_based': True}}}\n"
     ]
    }
   ],
   "source": [
    "# Grid search for KNNBaseline Model\n",
    "param_grid_search(KNNBaseline)"
   ]
  },
  {
   "cell_type": "markdown",
   "id": "54c40829",
   "metadata": {},
   "source": [
    "An RMSE of 0.877 is a slight improvement on what we had above. \n",
    "\n",
    "Let's try a more advanced model."
   ]
  },
  {
   "cell_type": "markdown",
   "id": "1e723cd9",
   "metadata": {},
   "source": [
    "# MODEL 3: KNNWithMeans Model"
   ]
  },
  {
   "cell_type": "code",
   "execution_count": 48,
   "id": "3447edea",
   "metadata": {},
   "outputs": [
    {
     "name": "stdout",
     "output_type": "stream",
     "text": [
      "Computing the pearson similarity matrix...\n",
      "Done computing similarity matrix.\n",
      "RMSE: 0.8995\n",
      "KNNWithMeans RMSE: 0.8994971701396823\n"
     ]
    }
   ],
   "source": [
    "# Build a KNNWithMeans model\n",
    "model_creation(KNNWithMeans, trainset, testset)"
   ]
  },
  {
   "cell_type": "markdown",
   "id": "140b0ae2",
   "metadata": {},
   "source": [
    "An RMSE of 0.8995 suggests that, on average, the model's predictions are off by around 0.8995 rating units.\n",
    "\n",
    "Let's tune it to see whether error reduces."
   ]
  },
  {
   "cell_type": "markdown",
   "id": "a30c38e1",
   "metadata": {},
   "source": [
    "## Tuning KNNWithMeans Model"
   ]
  },
  {
   "cell_type": "code",
   "execution_count": 49,
   "id": "39cb5faa",
   "metadata": {},
   "outputs": [
    {
     "name": "stdout",
     "output_type": "stream",
     "text": [
      "Best RMSE for KNNWithMeans: {'rmse': 0.8957097925467826}\n",
      "Best Hyperparameters for KNNWithMeans: {'rmse': {'k': 40, 'sim_options': {'name': 'pearson', 'user_based': True}}}\n"
     ]
    }
   ],
   "source": [
    "# Grid search for KNNWithMeans Model\n",
    "param_grid_search(KNNWithMeans)"
   ]
  },
  {
   "cell_type": "markdown",
   "id": "796af8e5",
   "metadata": {},
   "source": [
    "The tuned KNNWithMeans model exhibits enhanced performance after adjusting to the optimal hyperparameters. <br>\n",
    "\n",
    "The model delivered its optimal performance when configured with the following hyperparameters: 40 neighbors (k) and utilizing the Pearson correlation coefficient for similarity, specifically in the context of user-based collaborative filtering."
   ]
  },
  {
   "cell_type": "markdown",
   "id": "40d00ab6",
   "metadata": {},
   "source": [
    "# MODEL 4: SVD Model"
   ]
  },
  {
   "cell_type": "markdown",
   "id": "e051aecc",
   "metadata": {},
   "source": [
    "Let's try a more advanced model."
   ]
  },
  {
   "cell_type": "code",
   "execution_count": 50,
   "id": "5c4a10bd",
   "metadata": {},
   "outputs": [
    {
     "name": "stdout",
     "output_type": "stream",
     "text": [
      "RMSE: 0.8712\n",
      "SVD RMSE: 0.8712349087199079\n"
     ]
    }
   ],
   "source": [
    "# Build an SVD model\n",
    "model_creation(SVD, trainset, testset)"
   ]
  },
  {
   "cell_type": "markdown",
   "id": "1152e6a8",
   "metadata": {},
   "source": [
    "The SVD model has an RMSE score of .8703 which is the lowest we;ve seen so far. \n",
    "\n",
    "Let's tune it to see if it can perform even better."
   ]
  },
  {
   "cell_type": "code",
   "execution_count": 51,
   "id": "082a3c55",
   "metadata": {},
   "outputs": [
    {
     "name": "stdout",
     "output_type": "stream",
     "text": [
      "Best RMSE for SVD: {'rmse': 0.8692371145222685}\n",
      "Best Hyperparameters for SVD: {'rmse': {'n_factors': 100, 'reg_all': 0.05}}\n"
     ]
    }
   ],
   "source": [
    "# Grid search for KNNWithMeans Model\n",
    "param_grid_search(SVD)"
   ]
  },
  {
   "cell_type": "markdown",
   "id": "e215f751",
   "metadata": {},
   "source": [
    "The initial SVD model achieved an RMSE (Root Mean Squared Error) of approximately 0.8703 on the test set.\n",
    "\n",
    "After hyperparameter tuning, the SVD model's performance improved, yielding a lower RMSE of approximately 0.8682.\n",
    "\n",
    "The optimized SVD model outperformed the initial configuration, indicating that the selected hyperparameters contribute to better predictive accuracy.\n",
    "\n",
    "SVD model performed best as compared to the rest of the models with the lowest RMSE, 0.8688."
   ]
  },
  {
   "cell_type": "markdown",
   "id": "d31557d6",
   "metadata": {},
   "source": [
    "# 6. MODEL SELECTION AND EVALUATION"
   ]
  },
  {
   "cell_type": "markdown",
   "id": "f2c47fe1",
   "metadata": {},
   "source": [
    "SVD model performed best as compared to the rest of the models with the lowest RMSE, 0.8688."
   ]
  },
  {
   "cell_type": "code",
   "execution_count": 52,
   "id": "ee088b0c",
   "metadata": {},
   "outputs": [
    {
     "data": {
      "text/html": [
       "<table>\n",
       "<thead>\n",
       "<tr><th>Model       </th><th style=\"text-align: right;\">  RMSE</th><th style=\"text-align: right;\">  RMSE after Tuning</th></tr>\n",
       "</thead>\n",
       "<tbody>\n",
       "<tr><td>KNNBasic    </td><td style=\"text-align: right;\">0.9721</td><td style=\"text-align: right;\">             0.9719</td></tr>\n",
       "<tr><td>KNNBaseline </td><td style=\"text-align: right;\">0.879 </td><td style=\"text-align: right;\">             0.8776</td></tr>\n",
       "<tr><td>KNNWithMeans</td><td style=\"text-align: right;\">0.8995</td><td style=\"text-align: right;\">             0.8964</td></tr>\n",
       "<tr><td>SVD         </td><td style=\"text-align: right;\">0.8688</td><td style=\"text-align: right;\">             0.8691</td></tr>\n",
       "</tbody>\n",
       "</table>"
      ],
      "text/plain": [
       "<IPython.core.display.HTML object>"
      ]
     },
     "execution_count": 52,
     "metadata": {},
     "output_type": "execute_result"
    }
   ],
   "source": [
    "from tabulate import tabulate\n",
    "\n",
    "# A function to create a summary table of validation metrics\n",
    "def make_evaluation_table(metrics_dict):\n",
    "    # Convert the metrics dictionary to a list of tuples\n",
    "    metrics_list = list(zip(metrics_dict['Model'], metrics_dict['RMSE'], metrics_dict['RMSE after Tuning']))\n",
    "\n",
    "    # Create a tabulated representation of the metrics list\n",
    "    evaluation_table = tabulate(metrics_list, headers=['Model', 'RMSE', 'RMSE after Tuning'], tablefmt='html')\n",
    "\n",
    "    # Return the HTML table\n",
    "    return evaluation_table\n",
    "\n",
    "# Define a dictionary containing validation metrics for different models\n",
    "metrics_dict = {\n",
    "    'Model': ['KNNBasic', 'KNNBaseline', 'KNNWithMeans', 'SVD'],\n",
    "    'RMSE': [0.9721, 0.8790, 0.8995, 0.8688],\n",
    "    'RMSE after Tuning': [0.9719, 0.8776, 0.8964, 0.8691],\n",
    "}\n",
    "\n",
    "# Create the evaluation table using the defined function\n",
    "evaluation_table = make_evaluation_table(metrics_dict)\n",
    "\n",
    "# Display the HTML table\n",
    "HTML(evaluation_table)"
   ]
  },
  {
   "cell_type": "markdown",
   "id": "48d3168b",
   "metadata": {},
   "source": [
    "The lower the RMSE, the better the model's predictive accuracy. Based on the table, the SVD model exhibits the lowest RMSE after tuning, indicating superior performance among the considered models"
   ]
  },
  {
   "cell_type": "markdown",
   "id": "56c6fe46",
   "metadata": {},
   "source": [
    "## SVD Model Training "
   ]
  },
  {
   "cell_type": "code",
   "execution_count": 53,
   "id": "e8aa0eed",
   "metadata": {},
   "outputs": [
    {
     "data": {
      "text/plain": [
       "<surprise.prediction_algorithms.matrix_factorization.SVD at 0x1fb338f8940>"
      ]
     },
     "execution_count": 53,
     "metadata": {},
     "output_type": "execute_result"
    }
   ],
   "source": [
    "# Select and train the final model (SVD) with specified parameters\n",
    "\n",
    "# Create an instance of the SVD model with 50 latent factors and regularization parameter of 0.05\n",
    "final_model = SVD(n_factors=50, reg_all=0.05)\n",
    "\n",
    "# Fit the final model on the training set\n",
    "final_model.fit(trainset)"
   ]
  },
  {
   "cell_type": "markdown",
   "id": "6a17c02b",
   "metadata": {},
   "source": [
<<<<<<< HEAD
    "# 7. Model Predictions"
=======
    "## SVD Model Predictions"
>>>>>>> 820b6ddf3c2112242b8fe1a08fec0232c02ca584
   ]
  },
  {
   "cell_type": "code",
   "execution_count": 54,
   "id": "a7780107",
   "metadata": {},
   "outputs": [
    {
     "data": {
      "text/plain": [
       "3.4434465380306283"
      ]
     },
     "execution_count": 54,
     "metadata": {},
     "output_type": "execute_result"
    }
   ],
   "source": [
    "# Predict the rating for movie with ID 2000 for user with ID 7 using the final_model\n",
    "user_10_prediction = final_model.predict(7, 2000)\n",
    "\n",
    "# Retrieve the predicted rating from the prediction result\n",
    "predicted_rating_for_user_10 = user_10_prediction[3]\n",
    "predicted_rating_for_user_10"
   ]
  },
  {
   "cell_type": "markdown",
   "id": "9c2f7646",
   "metadata": {},
   "source": [
    "The predicted rating for movie with ID 2000 by user with ID 7, according to the final collaborative filtering model, is approximately 3.48. \n",
    "\n",
    "This value represents the estimated rating that the model predicts the user would give to the specified movie."
   ]
  },
  {
   "cell_type": "code",
   "execution_count": 55,
   "id": "4db0b468",
   "metadata": {},
   "outputs": [],
   "source": [
    "# A function to rate movies and generate a list of user ratings\n",
    "\n",
    "def movie_rater(movie_df, num, genre=None):\n",
    "    \"\"\"\n",
    "    Args:\n",
    "    - movie_df: DataFrame, the movie dataset\n",
    "    - num: int, the number of movies to rate\n",
    "    - genre: str, optional genre filter for movie selection\n",
    "\n",
    "    Returns:\n",
    "    - rating_list: list of dictionaries, each containing user ratings for a movie\n",
    "    \"\"\"\n",
    "    userID = 1000\n",
    "    rating_list = []\n",
    "    while num > 0:\n",
    "        if genre:\n",
    "            movie = movie_df[movie_df['genres'].str.contains(genre)].sample(1)\n",
    "        else:\n",
    "            movie = movie_df.sample(1)\n",
    "        print(movie)\n",
    "        rating = input('How do you rate this movie on a scale of 1-5, press n if you have not seen :\\n')\n",
    "        if rating == 'n':\n",
    "            continue\n",
    "        else:\n",
    "            rating_one_movie = {'userId':userID,'movieId':movie['movieId'].values[0],'rating':rating}\n",
    "            rating_list.append(rating_one_movie) \n",
    "            num -= 1\n",
    "    return rating_list\n"
   ]
  },
  {
   "cell_type": "code",
   "execution_count": 56,
   "id": "2950268a",
   "metadata": {},
   "outputs": [
    {
     "name": "stdout",
     "output_type": "stream",
     "text": [
      "       movieId                            title  genres  userId  rating  \\\n",
      "32798     1569  My Best Friend's Wedding (1997)  Comedy      41     2.0   \n",
      "\n",
      "                timestamp  hour  month  \n",
      "32798 2016-03-25 20:56:27    20      3  \n",
      "How do you rate this movie on a scale of 1-5, press n if you have not seen :\n",
      "3\n",
      "     movieId             title  genres  userId  rating           timestamp  \\\n",
      "149        1  Toy Story (1995)  Comedy     432     2.5 2011-09-19 00:17:37   \n",
      "\n",
      "     hour  month  \n",
      "149     0      9  \n",
      "How do you rate this movie on a scale of 1-5, press n if you have not seen :\n",
      "3\n",
      "       movieId                 title  genres  userId  rating  \\\n",
      "55984     3624  Shanghai Noon (2000)  Comedy     590     3.0   \n",
      "\n",
      "                timestamp  hour  month  \n",
      "55984 2009-11-17 01:02:18     1     11  \n",
      "How do you rate this movie on a scale of 1-5, press n if you have not seen :\n",
      "3\n",
      "       movieId                title  genres  userId  rating  \\\n",
      "16858      597  Pretty Woman (1990)  Comedy     322     3.0   \n",
      "\n",
      "                timestamp  hour  month  \n",
      "16858 2008-08-02 11:24:34    11      8  \n",
      "How do you rate this movie on a scale of 1-5, press n if you have not seen :\n",
      "3\n"
     ]
    }
   ],
   "source": [
    "### Get movie ratings from a user for a specific genre using the movie_rater function\n",
    "\n",
    "# Assuming:\n",
    "# - new_df is the DataFrame containing movie ratings\n",
    "# - 5 is the no of movies to rate\n",
    "# - 'Comedy' is the specified genre\n",
    "user_rating = movie_rater(new_df, 5, genre='Comedy')\n"
   ]
  },
  {
   "cell_type": "markdown",
   "id": "1ac9b12d",
   "metadata": {},
   "source": [
    "The code block above is designed for getting movie ratings from a user for a particular genre.\n",
    "\n",
    "If you type in 'n' for not watched, it will keep giving suggestions 'infinitely', until you rate 5 movies that you've seen and are suggested."
   ]
  },
  {
   "cell_type": "code",
   "execution_count": 57,
   "id": "ddbcacb1",
   "metadata": {},
   "outputs": [],
   "source": [
    "# Add new ratings to the original ratings DataFrame\n",
    "user_ratings = pd.DataFrame(user_rating)\n",
    "new_ratings_df = pd.concat([user_item_df, user_ratings], axis=0)\n",
    "\n",
    "# Create a reader and load the updated DataFrame into a surprise Dataset\n",
    "reader = Reader()\n",
    "new_data = Dataset.load_from_df(new_ratings_df, reader)"
   ]
  },
  {
   "cell_type": "markdown",
   "id": "79dcdc7a",
   "metadata": {},
   "source": [
    "The above code block adds new user ratings to existing user ratings dataframe and prepares the data for use in Surprise library."
   ]
  },
  {
   "cell_type": "code",
   "execution_count": 58,
   "id": "26dd370a",
   "metadata": {},
   "outputs": [
    {
     "data": {
      "text/html": [
       "<div>\n",
       "<style scoped>\n",
       "    .dataframe tbody tr th:only-of-type {\n",
       "        vertical-align: middle;\n",
       "    }\n",
       "\n",
       "    .dataframe tbody tr th {\n",
       "        vertical-align: top;\n",
       "    }\n",
       "\n",
       "    .dataframe thead th {\n",
       "        text-align: right;\n",
       "    }\n",
       "</style>\n",
       "<table border=\"1\" class=\"dataframe\">\n",
       "  <thead>\n",
       "    <tr style=\"text-align: right;\">\n",
       "      <th></th>\n",
       "      <th>userId</th>\n",
       "      <th>movieId</th>\n",
       "      <th>rating</th>\n",
       "    </tr>\n",
       "  </thead>\n",
       "  <tbody>\n",
       "    <tr>\n",
       "      <th>0</th>\n",
       "      <td>1</td>\n",
       "      <td>1</td>\n",
       "      <td>4</td>\n",
       "    </tr>\n",
       "    <tr>\n",
       "      <th>1</th>\n",
       "      <td>5</td>\n",
       "      <td>1</td>\n",
       "      <td>4</td>\n",
       "    </tr>\n",
       "    <tr>\n",
       "      <th>2</th>\n",
       "      <td>7</td>\n",
       "      <td>1</td>\n",
       "      <td>4.5</td>\n",
       "    </tr>\n",
       "    <tr>\n",
       "      <th>3</th>\n",
       "      <td>15</td>\n",
       "      <td>1</td>\n",
       "      <td>2.5</td>\n",
       "    </tr>\n",
       "    <tr>\n",
       "      <th>4</th>\n",
       "      <td>17</td>\n",
       "      <td>1</td>\n",
       "      <td>4.5</td>\n",
       "    </tr>\n",
       "    <tr>\n",
       "      <th>...</th>\n",
       "      <td>...</td>\n",
       "      <td>...</td>\n",
       "      <td>...</td>\n",
       "    </tr>\n",
       "    <tr>\n",
       "      <th>100835</th>\n",
       "      <td>331</td>\n",
       "      <td>193609</td>\n",
       "      <td>4</td>\n",
       "    </tr>\n",
       "    <tr>\n",
       "      <th>0</th>\n",
       "      <td>1000</td>\n",
       "      <td>1569</td>\n",
       "      <td>3</td>\n",
       "    </tr>\n",
       "    <tr>\n",
       "      <th>1</th>\n",
       "      <td>1000</td>\n",
       "      <td>1</td>\n",
       "      <td>3</td>\n",
       "    </tr>\n",
       "    <tr>\n",
       "      <th>2</th>\n",
       "      <td>1000</td>\n",
       "      <td>3624</td>\n",
       "      <td>3</td>\n",
       "    </tr>\n",
       "    <tr>\n",
       "      <th>3</th>\n",
       "      <td>1000</td>\n",
       "      <td>597</td>\n",
       "      <td>3</td>\n",
       "    </tr>\n",
       "  </tbody>\n",
       "</table>\n",
       "<p>100840 rows × 3 columns</p>\n",
       "</div>"
      ],
      "text/plain": [
       "        userId  movieId rating\n",
       "0            1        1      4\n",
       "1            5        1      4\n",
       "2            7        1    4.5\n",
       "3           15        1    2.5\n",
       "4           17        1    4.5\n",
       "...        ...      ...    ...\n",
       "100835     331   193609      4\n",
       "0         1000     1569      3\n",
       "1         1000        1      3\n",
       "2         1000     3624      3\n",
       "3         1000      597      3\n",
       "\n",
       "[100840 rows x 3 columns]"
      ]
     },
     "execution_count": 58,
     "metadata": {},
     "output_type": "execute_result"
    }
   ],
   "source": [
    "new_data.df"
   ]
  },
  {
   "cell_type": "markdown",
   "id": "4108d980",
   "metadata": {},
   "source": [
    "The recently added user ratings, associated with the userID 1000, are visible at the tail end of the dataframe."
   ]
  },
  {
   "cell_type": "markdown",
   "id": "e6dc3fc9",
   "metadata": {},
   "source": [
    "Now retraining the SVD using the updated DataFrame, which combines the original ratings with the newly added user ratings."
   ]
  },
  {
   "cell_type": "code",
   "execution_count": 59,
   "id": "e1bd60b2",
   "metadata": {},
   "outputs": [
    {
     "data": {
      "text/plain": [
       "<surprise.prediction_algorithms.matrix_factorization.SVD at 0x1fb33b20a90>"
      ]
     },
     "execution_count": 59,
     "metadata": {},
     "output_type": "execute_result"
    }
   ],
   "source": [
    "# train a model using the new combined DataFrame\n",
    "# param_grid = {'n_factors':[20, 100],'n_epochs': [5, 10], 'lr_all': [0.002, 0.005],\n",
    "#               'reg_all': [0.4, 0.6]}\n",
    "# gs_model = GridSearchCV(SVD,param_grid=param_grid,n_jobs = -1,joblib_verbose=5)\n",
    "# gs_model.fit(df)\n",
    "\n",
    "# Create an instance of the SVD model with specified hyperparameters\n",
    "svd_ = SVD(n_factors= 50, reg_all=0.05, n_epochs=10)\n",
    "#svd = SVD(n_factors=20, n_epochs=10, lr_all=0.005, reg_all=0.05)\n",
    "\n",
    "# Fit the SVD model on the training set built from the new combined DataFrame\n",
    "svd_.fit(new_data.build_full_trainset())"
   ]
  },
  {
   "cell_type": "code",
   "execution_count": 60,
   "id": "ca87574b",
   "metadata": {},
   "outputs": [],
   "source": [
    "# Predict user ratings for movies\n",
    "# Create a list of tuples in the format (movie_id, predicted_score)\n",
    "list_of_movies = []\n",
    "\n",
    "# Iterate through unique movie IDs in the dataset\n",
    "for movie_id in movie_rating_df['movieId'].unique():\n",
    "    # Predict the user's rating for the movie (assuming user ID is 1000)\n",
    "    predicted_score = svd_.predict(1000, movie_id)[3]\n",
    "    # Append the tuple to the list_of_movies\n",
    "    list_of_movies.append((movie_id, predicted_score))"
   ]
  },
  {
   "cell_type": "markdown",
   "id": "f407ed2e",
   "metadata": {},
   "source": [
    "Now getting predicted movies from the one with the highest rating, to the least. Here, we'll only retrieve the first 10 for readability."
   ]
  },
  {
   "cell_type": "code",
   "execution_count": 61,
   "id": "682d6f61",
   "metadata": {},
   "outputs": [
    {
     "data": {
      "text/plain": [
       "[(750, 4.254667392204984),\n",
       " (318, 4.239114401854411),\n",
       " (541, 4.225102744439695),\n",
       " (1197, 4.222254057291891),\n",
       " (260, 4.211873106692628),\n",
       " (904, 4.208577161885015),\n",
       " (1089, 4.185962464530665),\n",
       " (858, 4.185263165991873),\n",
       " (2959, 4.16451463363472),\n",
       " (1204, 4.15676806224324)]"
      ]
     },
     "execution_count": 61,
     "metadata": {},
     "output_type": "execute_result"
    }
   ],
   "source": [
    "# order the predictions from highest to lowest rated\n",
    "ranked_movies = sorted(list_of_movies, key=lambda x:x[1], reverse=True)\n",
    "ranked_movies[:10]"
   ]
  },
  {
   "cell_type": "markdown",
   "id": "60d760c3",
   "metadata": {},
   "source": [
    "The SVD model, trained on a new combined DataFrame, predicts movie ratings for a user ID 1000. The top-ranked movies have high predicted scores, indicating high enjoyment.\n",
    "\n",
    "The ranked list provides personalized recommendations, sorted from highest to lowest predicted scores, based on the user's likely preferences.\n",
    "\n",
    "This information can be used to suggest movies to the user based on their preferences."
   ]
  },
  {
   "cell_type": "code",
   "execution_count": 62,
   "id": "4611dd3f",
   "metadata": {},
   "outputs": [],
   "source": [
    "# Function to recommend movies based on user ratings\n",
    "def recommended_movies(user_ratings, movie_title_df, n):\n",
    "    recommended_movies_set = set()  # Keep track of recommended movies\n",
    "\n",
    "    # Iterate through user ratings\n",
    "    for idx, rec in enumerate(user_ratings):\n",
    "        movie_id = int(rec[0])\n",
    "        title_array = movie_title_df.loc[movie_title_df['movieId'] == movie_id, 'title'].values\n",
    "\n",
    "        # Check if the array is not empty and the movie has not been recommended before\n",
    "        if title_array.any() and title_array[0] not in recommended_movies_set:\n",
    "            title = title_array[0]\n",
    "            print('Recommendation #', idx+1, ':', title, '\\n')\n",
    "            recommended_movies_set.add(title)  # Add the movie to the set of recommended movies\n",
    "            n -= 1\n",
    "\n",
    "        # Check if the desired number of recommendations has been reached\n",
    "        if n == 0:\n",
    "            break\n",
    "            "
   ]
  },
  {
   "cell_type": "code",
   "execution_count": 63,
   "id": "9b2907c5",
   "metadata": {},
   "outputs": [
    {
     "name": "stdout",
     "output_type": "stream",
     "text": [
      "Recommendation # 1 : Dr. Strangelove or: How I Learned to Stop Worrying and Love the Bomb (1964) \n",
      "\n",
      "Recommendation # 2 : Shawshank Redemption, The (1994) \n",
      "\n",
      "Recommendation # 3 : Blade Runner (1982) \n",
      "\n",
      "Recommendation # 4 : Princess Bride, The (1987) \n",
      "\n",
      "Recommendation # 5 : Star Wars: Episode IV - A New Hope (1977) \n",
      "\n"
     ]
    }
   ],
   "source": [
    "# recommend 5 movies based on user ratings\n",
    "recommended_movies(ranked_movies, movie_rating_df, 5)"
   ]
  },
  {
   "cell_type": "markdown",
   "id": "8f3745c8",
   "metadata": {},
   "source": [
    "\n",
    "The function utilizes a set of user ratings, retrieves the associated movie titles, and suggests movies based on these ratings, ensuring there are no repeated recommendations. The quantity of recommendations is specified by the parameter 'n'."
   ]
  },
  {
   "cell_type": "code",
   "execution_count": 64,
   "id": "b176087d",
   "metadata": {},
   "outputs": [
    {
     "name": "stdout",
     "output_type": "stream",
     "text": [
      "Movie ID: 904, Title: Rear Window (1954), Rating: 3.930503147439757\n",
      "Movie ID: 318, Title: Shawshank Redemption, The (1994), Rating: 3.9037050576959706\n",
      "Movie ID: 1204, Title: Lawrence of Arabia (1962), Rating: 3.8859340641442675\n"
     ]
    }
   ],
   "source": [
    "# Assuming your data looks like this:\n",
    "user_ratings = [(904, 3.930503147439757), (318, 3.9037050576959706), (1204, 3.8859340641442675)]\n",
    "\n",
    "# Iterate through the user_ratings and print the movie names\n",
    "for movie_id, rating in user_ratings:\n",
    "    # Find the corresponding movie title using movie_title_df\n",
    "    title_array = movies.loc[movies['movieId'] == movie_id, 'title'].values\n",
    "\n",
    "    # Check if the array is not empty\n",
    "    if title_array.any():\n",
    "        title = title_array[0]\n",
    "        print(f\"Movie ID: {movie_id}, Title: {title}, Rating: {rating}\")\n",
    "    else:\n",
    "        print(f\"Movie ID {movie_id} not found in movie_title_df\")\n"
   ]
  },
  {
   "cell_type": "markdown",
   "id": "e58503ca",
   "metadata": {},
   "source": [
    "The code offers a means to showcase movie information along with their ratings using the provided user ratings. Additionally, it manages situations where the movie ID is not present in the dataset."
   ]
  },
  {
   "cell_type": "markdown",
   "id": "e35a4755",
   "metadata": {},
   "source": [
    "# Conclusion"
   ]
  },
  {
   "cell_type": "markdown",
   "id": "333318b5",
   "metadata": {},
   "source": [
    "The recommendation system was built and evaluated using multiple models, including KNNBasic, KNNBaseline, KNNWithMeans, and SVD. The SVD model was chosen due to its superior performance. User ratings were incorporated to personalize suggestions. The system adapts to evolving user preferences and displays the top 5 movie recommendations."
   ]
  },
  {
   "cell_type": "markdown",
   "id": "fe998a4b",
   "metadata": {},
   "source": [
    "# Recommendations"
   ]
  },
  {
   "cell_type": "markdown",
   "id": "84adba93",
   "metadata": {},
   "source": [
    "1. **Web application:** Develop a web application to improve user interaction and increase accessibility to your collaborative filtering recommendation system.\n",
    "\n",
    "2. **Explore Deep Learning Models:** While collaborative filtering models like SVD are effective, consider exploring deep learning-based recommendation models, such as neural collaborative filtering (NCF) or recurrent neural networks (RNNs). These models can capture complex patterns and dependencies in user behavior.\n",
    "\n",
    "3. **Real-Time Recommendations:** Implement a real-time recommendation system to provide users with up-to-date suggestions. This can be achieved by continuously updating the model as new ratings and interactions occur."
   ]
  },
  {
   "cell_type": "code",
   "execution_count": null,
   "id": "eafad154",
   "metadata": {},
   "outputs": [],
   "source": []
  }
 ],
 "metadata": {
  "kernelspec": {
   "display_name": "Python 3",
   "language": "python",
   "name": "python3"
  },
  "language_info": {
   "codemirror_mode": {
    "name": "ipython",
    "version": 3
   },
   "file_extension": ".py",
   "mimetype": "text/x-python",
   "name": "python",
   "nbconvert_exporter": "python",
   "pygments_lexer": "ipython3",
   "version": "3.8.5"
  }
 },
 "nbformat": 4,
 "nbformat_minor": 5
}
