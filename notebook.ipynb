{
 "cells": [
  {
   "cell_type": "markdown",
   "id": "e0c981c5",
   "metadata": {},
   "source": [
    "# Personalized Movie Recommendations: A Collaborative Filtering Approach"
   ]
  },
  {
   "cell_type": "markdown",
   "id": "1efe335b",
   "metadata": {},
   "source": [
    "## 1. Business Understanding\n",
    "### (a) Introduction\n",
    "\n",
    "CineCollab, established in 2006, has been at the forefront of digital entertainment, captivating audiences worldwide with a rich collection of films and sophisticated recommendation systems. Our success is deeply rooted in our commitment to elevating user experiences through advanced analytics.\n",
    "\n",
    "This project mirrors CineCollab's dedication, with a focus on refining recommendation systems. We develop complex predictive models, taking into account factors such as individual viewing habits and user behaviors. By mapping these variables, we intend to work closely with CineCollab to boost the precision and effectiveness of its recommendation algorithm.\n",
    "\n",
    "The MovieLens dataset plays a pivotal role in realizing this objective. Users can rate movies, and our model harnesses these ratings to craft personalized recommendations. The hurdle lies in designing a system that accurately deciphers user ratings and converts them into relevant film suggestions.\n",
    "\n",
    "The core business problem we tackle is optimizing user engagement by delivering desired movie recommendations. This involves understanding user preferences based on ratings and creating an intuitive and user-friendly platform for users to provide these ratings. We attempt to maintain a balance between simplicity and capturing nuanced user preferences to ensure the recommendations are both accurate and well-received.\n",
    "\n",
    "In essence, our project seeks to transform the way users rate movies and receive recommendations, aligning with CineCollab's ongoing commitment to personalized content discovery. Through our model, we aim to not only enhance efficiency but also provide a seamless and enriching experience for users globally, delivering top-notch movie recommendations tailored to their unique tastes and preferences.\n",
    "\n",
    "### (b) Problem Statement\n",
    "\n",
    "Online streaming platforms are the dominant form of media consumption but viewers often face a paradox of choice when presented with the entire catalogue. Users struggle to navigate through massive catalogues, leading to subscriber frustration and an increased likelihood of churn. By leveraging the MovieLens dataset comprised of over 100,000 ratings applied to nearly 10,000 films by hundreds of users, we intend to push CineCollabs recommendation algorithm forward. Enhancing recommendations based upon movies streamers prefer has the potential to improve CineCollab's user experience and to help audiences discover unexplored content that matches their interests. This project, implemented successfully will  promote media discovery, encourage niche, cult-like viewers and inspire artistry through expanded access to cinema. Building a working, accurate recommendation system will be the key to unlocking the full creative and commercial potential of CineCollab.\n",
    "\n",
    "### (c) Defining Metrics of Success\n",
    "\n",
    "The success of a movie recommendation model using collaborative filtering can be assessed using various metrics that measure its effectiveness in providing accurate and relevant movie suggestions. The combination of the metrics provides a comprehensive understanding of its performance in terms of accuracy, relevance, and user satisfaction. It's essential to choose metrics that align with the specific goals and objectives of the recommendation system and the preferences of the user base.\n",
    "\n",
    "### (d) Research Questions\n",
    "\n",
    "1. What features contribute most to the accuracy of collaborative filtering in generating top  movie recommendations?\n",
    "\n",
    "2. How does the frequency of user ratings influence the accuracy and stability of the movie recommendation model?\n",
    "\n",
    "3. What are the correlation between user ratings and various movie features?\n",
    "\n",
    "4. Which movie features demonstrate the highest correlation with collaborative filtering recommendations, and how do they impact the model's predictions?\n",
    "\n",
    "5. How successful is the collaborative filtering model in providing accurate and tailored movie recommendations based on user ratings and preferences?\n",
    "\n",
    "### (e) The Main Objective\n",
    "\n",
    "To develop and implement a movie recommendation system that leverages collaborative filtering techniques to provide personalized top 5 movie recommendations for users.\n",
    "\n",
    "### (f) The Specific Objectives\n",
    "\n",
    "1. To clean and preprocess the MovieLens datasets to ensure it is suitable for building a recommendation system.\n",
    "\n",
    "2. To understand the distribution of movie ratings, explore user behavior, and identify patterns in the datasets.\n",
    "\n",
    "3. To investigate and compare collaborative filtering techniques for building the recommendation system, such as Singular Value Decomposition (SVD), user-based and item-based.\n",
    "\n",
    "4. To implement and evaluate the performance of the collaborative filtering model using appropriate metrics such as RSME and MSE.\n",
    "\n",
    "5. To generate top 5 movie recommendations for a user based on their historical ratings.\n",
    "\n",
    "### (g) Data Understanding\n",
    "\n",
    "The MovieLens dataset (ml-latest-small) provides a comprehensive snapshot of user preferences and interactions within the MovieLens movie recommendation service. This dataset, created by 610 users over a period spanning from March 29, 1996, to September 24, 2018, is a valuable resource for gaining insights into user behavior, preferences, and movie metadata.\n",
    "It has 9 attributes.\n",
    "\n",
    "**Attributes:**\n",
    "\n",
    "1. **movieId:** Identifier for movies used by MovieLens.\n",
    "2. **title:** Contains the names of individual movies and serves as a unique identifier for each film within the dataset.\n",
    "3. **genres:** Classifies films based on overarching themes, narrative structures, and intended emotional impact.\n",
    "4. **imdbId:** Identifier associated with a movie on the IMDb (Internet Movie Database) platform.\n",
    "5. **tmdbId:** Identifier associated with movies on TMDb (The Movie Database).\n",
    "6. **rating:** Numerical evaluation given by users on a 5-star scale, with half-star increments (0.5 stars - 5.0 stars).\n",
    "7. **timestamp:** represents seconds since midnight Coordinated Universal Time (UTC) of January 1, 1970.\n",
    "8. **tags:** User-generated metadata about movies. Each tag is typically a single word or short phrase, with meaning, value, and purpose determined by each user.\n",
    "9. **userId:** Unique identifier assigned to each user who participated in movie rating and tagging activities.\n",
    "\n",
    "\n",
    "**Dataset Statistics:**\n",
    "\n",
    "100,836 ratings and 3,683 tag applications.\n",
    "9,742 movies encompassing a diverse array of genres.\n",
    "\n"
   ]
  },
  {
   "cell_type": "markdown",
   "id": "11e5f305",
   "metadata": {},
   "source": [
    "# Data Cleaning"
   ]
  },
  {
   "cell_type": "code",
   "execution_count": 1,
   "id": "6a021105",
   "metadata": {},
   "outputs": [],
   "source": [
    "#importing relevant packages\n",
    "import pandas as pd\n",
    "import seaborn as sns\n",
    "import numpy as np\n",
    "import matplotlib.pyplot as plt\n",
    "%matplotlib inline"
   ]
  },
  {
   "cell_type": "code",
   "execution_count": 2,
   "id": "08cd7abb",
   "metadata": {},
   "outputs": [],
   "source": [
    "#create data frames \n",
    "movies = pd.read_csv(\"data/ml-latest-small/movies.csv\")\n",
    "links = pd.read_csv(\"data/ml-latest-small/links.csv\")\n",
    "ratings = pd.read_csv(\"data/ml-latest-small/ratings.csv\")\n",
    "tags = pd.read_csv(\"data/ml-latest-small/tags.csv\")"
   ]
  },
  {
   "cell_type": "code",
   "execution_count": 3,
   "id": "92659498",
   "metadata": {},
   "outputs": [
    {
     "data": {
      "text/html": [
       "<div>\n",
       "<style scoped>\n",
       "    .dataframe tbody tr th:only-of-type {\n",
       "        vertical-align: middle;\n",
       "    }\n",
       "\n",
       "    .dataframe tbody tr th {\n",
       "        vertical-align: top;\n",
       "    }\n",
       "\n",
       "    .dataframe thead th {\n",
       "        text-align: right;\n",
       "    }\n",
       "</style>\n",
       "<table border=\"1\" class=\"dataframe\">\n",
       "  <thead>\n",
       "    <tr style=\"text-align: right;\">\n",
       "      <th></th>\n",
       "      <th>movieId</th>\n",
       "      <th>title</th>\n",
       "      <th>genres</th>\n",
       "    </tr>\n",
       "  </thead>\n",
       "  <tbody>\n",
       "    <tr>\n",
       "      <th>0</th>\n",
       "      <td>1</td>\n",
       "      <td>Toy Story (1995)</td>\n",
       "      <td>Adventure|Animation|Children|Comedy|Fantasy</td>\n",
       "    </tr>\n",
       "    <tr>\n",
       "      <th>1</th>\n",
       "      <td>2</td>\n",
       "      <td>Jumanji (1995)</td>\n",
       "      <td>Adventure|Children|Fantasy</td>\n",
       "    </tr>\n",
       "    <tr>\n",
       "      <th>2</th>\n",
       "      <td>3</td>\n",
       "      <td>Grumpier Old Men (1995)</td>\n",
       "      <td>Comedy|Romance</td>\n",
       "    </tr>\n",
       "  </tbody>\n",
       "</table>\n",
       "</div>"
      ],
      "text/plain": [
       "   movieId                    title  \\\n",
       "0        1         Toy Story (1995)   \n",
       "1        2           Jumanji (1995)   \n",
       "2        3  Grumpier Old Men (1995)   \n",
       "\n",
       "                                        genres  \n",
       "0  Adventure|Animation|Children|Comedy|Fantasy  \n",
       "1                   Adventure|Children|Fantasy  \n",
       "2                               Comedy|Romance  "
      ]
     },
     "execution_count": 3,
     "metadata": {},
     "output_type": "execute_result"
    }
   ],
   "source": [
    "#reading the first 3 rows\n",
    "movies.head(3)"
   ]
  },
  {
   "cell_type": "code",
   "execution_count": 4,
   "id": "37569025",
   "metadata": {},
   "outputs": [
    {
     "data": {
      "text/html": [
       "<div>\n",
       "<style scoped>\n",
       "    .dataframe tbody tr th:only-of-type {\n",
       "        vertical-align: middle;\n",
       "    }\n",
       "\n",
       "    .dataframe tbody tr th {\n",
       "        vertical-align: top;\n",
       "    }\n",
       "\n",
       "    .dataframe thead th {\n",
       "        text-align: right;\n",
       "    }\n",
       "</style>\n",
       "<table border=\"1\" class=\"dataframe\">\n",
       "  <thead>\n",
       "    <tr style=\"text-align: right;\">\n",
       "      <th></th>\n",
       "      <th>movieId</th>\n",
       "      <th>imdbId</th>\n",
       "      <th>tmdbId</th>\n",
       "    </tr>\n",
       "  </thead>\n",
       "  <tbody>\n",
       "    <tr>\n",
       "      <th>0</th>\n",
       "      <td>1</td>\n",
       "      <td>114709</td>\n",
       "      <td>862.0</td>\n",
       "    </tr>\n",
       "    <tr>\n",
       "      <th>1</th>\n",
       "      <td>2</td>\n",
       "      <td>113497</td>\n",
       "      <td>8844.0</td>\n",
       "    </tr>\n",
       "    <tr>\n",
       "      <th>2</th>\n",
       "      <td>3</td>\n",
       "      <td>113228</td>\n",
       "      <td>15602.0</td>\n",
       "    </tr>\n",
       "  </tbody>\n",
       "</table>\n",
       "</div>"
      ],
      "text/plain": [
       "   movieId  imdbId   tmdbId\n",
       "0        1  114709    862.0\n",
       "1        2  113497   8844.0\n",
       "2        3  113228  15602.0"
      ]
     },
     "execution_count": 4,
     "metadata": {},
     "output_type": "execute_result"
    }
   ],
   "source": [
    "#reading the first 3 rows\n",
    "links.head(3)"
   ]
  },
  {
   "cell_type": "code",
   "execution_count": 5,
   "id": "dbde1f90",
   "metadata": {},
   "outputs": [
    {
     "data": {
      "text/html": [
       "<div>\n",
       "<style scoped>\n",
       "    .dataframe tbody tr th:only-of-type {\n",
       "        vertical-align: middle;\n",
       "    }\n",
       "\n",
       "    .dataframe tbody tr th {\n",
       "        vertical-align: top;\n",
       "    }\n",
       "\n",
       "    .dataframe thead th {\n",
       "        text-align: right;\n",
       "    }\n",
       "</style>\n",
       "<table border=\"1\" class=\"dataframe\">\n",
       "  <thead>\n",
       "    <tr style=\"text-align: right;\">\n",
       "      <th></th>\n",
       "      <th>userId</th>\n",
       "      <th>movieId</th>\n",
       "      <th>rating</th>\n",
       "      <th>timestamp</th>\n",
       "    </tr>\n",
       "  </thead>\n",
       "  <tbody>\n",
       "    <tr>\n",
       "      <th>0</th>\n",
       "      <td>1</td>\n",
       "      <td>1</td>\n",
       "      <td>4.0</td>\n",
       "      <td>964982703</td>\n",
       "    </tr>\n",
       "    <tr>\n",
       "      <th>1</th>\n",
       "      <td>1</td>\n",
       "      <td>3</td>\n",
       "      <td>4.0</td>\n",
       "      <td>964981247</td>\n",
       "    </tr>\n",
       "    <tr>\n",
       "      <th>2</th>\n",
       "      <td>1</td>\n",
       "      <td>6</td>\n",
       "      <td>4.0</td>\n",
       "      <td>964982224</td>\n",
       "    </tr>\n",
       "  </tbody>\n",
       "</table>\n",
       "</div>"
      ],
      "text/plain": [
       "   userId  movieId  rating  timestamp\n",
       "0       1        1     4.0  964982703\n",
       "1       1        3     4.0  964981247\n",
       "2       1        6     4.0  964982224"
      ]
     },
     "execution_count": 5,
     "metadata": {},
     "output_type": "execute_result"
    }
   ],
   "source": [
    "#reading the first 3 rows\n",
    "ratings.head(3)"
   ]
  },
  {
   "cell_type": "code",
   "execution_count": 6,
   "id": "2063effc",
   "metadata": {},
   "outputs": [
    {
     "data": {
      "text/html": [
       "<div>\n",
       "<style scoped>\n",
       "    .dataframe tbody tr th:only-of-type {\n",
       "        vertical-align: middle;\n",
       "    }\n",
       "\n",
       "    .dataframe tbody tr th {\n",
       "        vertical-align: top;\n",
       "    }\n",
       "\n",
       "    .dataframe thead th {\n",
       "        text-align: right;\n",
       "    }\n",
       "</style>\n",
       "<table border=\"1\" class=\"dataframe\">\n",
       "  <thead>\n",
       "    <tr style=\"text-align: right;\">\n",
       "      <th></th>\n",
       "      <th>userId</th>\n",
       "      <th>movieId</th>\n",
       "      <th>tag</th>\n",
       "      <th>timestamp</th>\n",
       "    </tr>\n",
       "  </thead>\n",
       "  <tbody>\n",
       "    <tr>\n",
       "      <th>0</th>\n",
       "      <td>2</td>\n",
       "      <td>60756</td>\n",
       "      <td>funny</td>\n",
       "      <td>1445714994</td>\n",
       "    </tr>\n",
       "    <tr>\n",
       "      <th>1</th>\n",
       "      <td>2</td>\n",
       "      <td>60756</td>\n",
       "      <td>Highly quotable</td>\n",
       "      <td>1445714996</td>\n",
       "    </tr>\n",
       "    <tr>\n",
       "      <th>2</th>\n",
       "      <td>2</td>\n",
       "      <td>60756</td>\n",
       "      <td>will ferrell</td>\n",
       "      <td>1445714992</td>\n",
       "    </tr>\n",
       "  </tbody>\n",
       "</table>\n",
       "</div>"
      ],
      "text/plain": [
       "   userId  movieId              tag   timestamp\n",
       "0       2    60756            funny  1445714994\n",
       "1       2    60756  Highly quotable  1445714996\n",
       "2       2    60756     will ferrell  1445714992"
      ]
     },
     "execution_count": 6,
     "metadata": {},
     "output_type": "execute_result"
    }
   ],
   "source": [
    "#reading the first 3 rows\n",
    "tags.head(3)"
   ]
  },
  {
   "cell_type": "code",
   "execution_count": 7,
   "id": "7de3c5b3",
   "metadata": {},
   "outputs": [
    {
     "data": {
      "text/html": [
       "<div>\n",
       "<style scoped>\n",
       "    .dataframe tbody tr th:only-of-type {\n",
       "        vertical-align: middle;\n",
       "    }\n",
       "\n",
       "    .dataframe tbody tr th {\n",
       "        vertical-align: top;\n",
       "    }\n",
       "\n",
       "    .dataframe thead th {\n",
       "        text-align: right;\n",
       "    }\n",
       "</style>\n",
       "<table border=\"1\" class=\"dataframe\">\n",
       "  <thead>\n",
       "    <tr style=\"text-align: right;\">\n",
       "      <th></th>\n",
       "      <th>movieId</th>\n",
       "      <th>title</th>\n",
       "      <th>genres</th>\n",
       "      <th>imdbId</th>\n",
       "      <th>tmdbId</th>\n",
       "      <th>userId_x</th>\n",
       "      <th>rating</th>\n",
       "      <th>timestamp_x</th>\n",
       "      <th>userId_y</th>\n",
       "      <th>tag</th>\n",
       "      <th>timestamp_y</th>\n",
       "    </tr>\n",
       "  </thead>\n",
       "  <tbody>\n",
       "    <tr>\n",
       "      <th>0</th>\n",
       "      <td>1</td>\n",
       "      <td>Toy Story (1995)</td>\n",
       "      <td>Adventure|Animation|Children|Comedy|Fantasy</td>\n",
       "      <td>114709</td>\n",
       "      <td>862.0</td>\n",
       "      <td>1</td>\n",
       "      <td>4.0</td>\n",
       "      <td>964982703</td>\n",
       "      <td>336</td>\n",
       "      <td>pixar</td>\n",
       "      <td>1139045764</td>\n",
       "    </tr>\n",
       "    <tr>\n",
       "      <th>1</th>\n",
       "      <td>1</td>\n",
       "      <td>Toy Story (1995)</td>\n",
       "      <td>Adventure|Animation|Children|Comedy|Fantasy</td>\n",
       "      <td>114709</td>\n",
       "      <td>862.0</td>\n",
       "      <td>1</td>\n",
       "      <td>4.0</td>\n",
       "      <td>964982703</td>\n",
       "      <td>474</td>\n",
       "      <td>pixar</td>\n",
       "      <td>1137206825</td>\n",
       "    </tr>\n",
       "    <tr>\n",
       "      <th>2</th>\n",
       "      <td>1</td>\n",
       "      <td>Toy Story (1995)</td>\n",
       "      <td>Adventure|Animation|Children|Comedy|Fantasy</td>\n",
       "      <td>114709</td>\n",
       "      <td>862.0</td>\n",
       "      <td>1</td>\n",
       "      <td>4.0</td>\n",
       "      <td>964982703</td>\n",
       "      <td>567</td>\n",
       "      <td>fun</td>\n",
       "      <td>1525286013</td>\n",
       "    </tr>\n",
       "    <tr>\n",
       "      <th>3</th>\n",
       "      <td>1</td>\n",
       "      <td>Toy Story (1995)</td>\n",
       "      <td>Adventure|Animation|Children|Comedy|Fantasy</td>\n",
       "      <td>114709</td>\n",
       "      <td>862.0</td>\n",
       "      <td>5</td>\n",
       "      <td>4.0</td>\n",
       "      <td>847434962</td>\n",
       "      <td>336</td>\n",
       "      <td>pixar</td>\n",
       "      <td>1139045764</td>\n",
       "    </tr>\n",
       "    <tr>\n",
       "      <th>4</th>\n",
       "      <td>1</td>\n",
       "      <td>Toy Story (1995)</td>\n",
       "      <td>Adventure|Animation|Children|Comedy|Fantasy</td>\n",
       "      <td>114709</td>\n",
       "      <td>862.0</td>\n",
       "      <td>5</td>\n",
       "      <td>4.0</td>\n",
       "      <td>847434962</td>\n",
       "      <td>474</td>\n",
       "      <td>pixar</td>\n",
       "      <td>1137206825</td>\n",
       "    </tr>\n",
       "  </tbody>\n",
       "</table>\n",
       "</div>"
      ],
      "text/plain": [
       "   movieId             title                                       genres  \\\n",
       "0        1  Toy Story (1995)  Adventure|Animation|Children|Comedy|Fantasy   \n",
       "1        1  Toy Story (1995)  Adventure|Animation|Children|Comedy|Fantasy   \n",
       "2        1  Toy Story (1995)  Adventure|Animation|Children|Comedy|Fantasy   \n",
       "3        1  Toy Story (1995)  Adventure|Animation|Children|Comedy|Fantasy   \n",
       "4        1  Toy Story (1995)  Adventure|Animation|Children|Comedy|Fantasy   \n",
       "\n",
       "   imdbId  tmdbId  userId_x  rating  timestamp_x  userId_y    tag  timestamp_y  \n",
       "0  114709   862.0         1     4.0    964982703       336  pixar   1139045764  \n",
       "1  114709   862.0         1     4.0    964982703       474  pixar   1137206825  \n",
       "2  114709   862.0         1     4.0    964982703       567    fun   1525286013  \n",
       "3  114709   862.0         5     4.0    847434962       336  pixar   1139045764  \n",
       "4  114709   862.0         5     4.0    847434962       474  pixar   1137206825  "
      ]
     },
     "execution_count": 7,
     "metadata": {},
     "output_type": "execute_result"
    }
   ],
   "source": [
    "#merge movies and links on 'movieId'\n",
    "df = pd.merge(movies, links, on='movieId')\n",
    "\n",
    "#merge with ratings on 'movieId'\n",
    "df = pd.merge(df, ratings, on='movieId')\n",
    "\n",
    "#merge with tags on 'movieId'\n",
    "df = pd.merge(df, tags, on='movieId')\n",
    "\n",
    "df.head()"
   ]
  },
  {
   "cell_type": "code",
   "execution_count": 8,
   "id": "58cbc501",
   "metadata": {},
   "outputs": [
    {
     "data": {
      "text/plain": [
       "(233213, 11)"
      ]
     },
     "execution_count": 8,
     "metadata": {},
     "output_type": "execute_result"
    }
   ],
   "source": [
    "df.shape"
   ]
  },
  {
   "cell_type": "markdown",
   "id": "24b11453",
   "metadata": {},
   "source": [
    "This signifies that the DataFrame consists of 233,213 rows and 9 columns. Each row corresponds to a unique combination of user-movie interaction, which may include ratings and tags, while the columns represent the attributes of these interactions."
   ]
  },
  {
   "cell_type": "code",
   "execution_count": 9,
   "id": "ad00f308",
   "metadata": {},
   "outputs": [
    {
     "name": "stdout",
     "output_type": "stream",
     "text": [
      "<class 'pandas.core.frame.DataFrame'>\n",
      "Int64Index: 233213 entries, 0 to 233212\n",
      "Data columns (total 11 columns):\n",
      " #   Column       Non-Null Count   Dtype  \n",
      "---  ------       --------------   -----  \n",
      " 0   movieId      233213 non-null  int64  \n",
      " 1   title        233213 non-null  object \n",
      " 2   genres       233213 non-null  object \n",
      " 3   imdbId       233213 non-null  int64  \n",
      " 4   tmdbId       233213 non-null  float64\n",
      " 5   userId_x     233213 non-null  int64  \n",
      " 6   rating       233213 non-null  float64\n",
      " 7   timestamp_x  233213 non-null  int64  \n",
      " 8   userId_y     233213 non-null  int64  \n",
      " 9   tag          233213 non-null  object \n",
      " 10  timestamp_y  233213 non-null  int64  \n",
      "dtypes: float64(2), int64(6), object(3)\n",
      "memory usage: 21.4+ MB\n"
     ]
    }
   ],
   "source": [
    "df.info()"
   ]
  },
  {
   "cell_type": "code",
   "execution_count": 10,
   "id": "777daa67",
   "metadata": {},
   "outputs": [
    {
     "data": {
      "text/html": [
       "<div>\n",
       "<style scoped>\n",
       "    .dataframe tbody tr th:only-of-type {\n",
       "        vertical-align: middle;\n",
       "    }\n",
       "\n",
       "    .dataframe tbody tr th {\n",
       "        vertical-align: top;\n",
       "    }\n",
       "\n",
       "    .dataframe thead th {\n",
       "        text-align: right;\n",
       "    }\n",
       "</style>\n",
       "<table border=\"1\" class=\"dataframe\">\n",
       "  <thead>\n",
       "    <tr style=\"text-align: right;\">\n",
       "      <th></th>\n",
       "      <th>movieId</th>\n",
       "      <th>imdbId</th>\n",
       "      <th>tmdbId</th>\n",
       "      <th>userId_x</th>\n",
       "      <th>rating</th>\n",
       "      <th>timestamp_x</th>\n",
       "      <th>userId_y</th>\n",
       "      <th>timestamp_y</th>\n",
       "    </tr>\n",
       "  </thead>\n",
       "  <tbody>\n",
       "    <tr>\n",
       "      <th>count</th>\n",
       "      <td>233213.000000</td>\n",
       "      <td>2.332130e+05</td>\n",
       "      <td>233213.000000</td>\n",
       "      <td>233213.000000</td>\n",
       "      <td>233213.000000</td>\n",
       "      <td>2.332130e+05</td>\n",
       "      <td>233213.000000</td>\n",
       "      <td>2.332130e+05</td>\n",
       "    </tr>\n",
       "    <tr>\n",
       "      <th>mean</th>\n",
       "      <td>12319.999443</td>\n",
       "      <td>2.610632e+05</td>\n",
       "      <td>9378.277742</td>\n",
       "      <td>309.688191</td>\n",
       "      <td>3.966535</td>\n",
       "      <td>1.213524e+09</td>\n",
       "      <td>470.683564</td>\n",
       "      <td>1.384774e+09</td>\n",
       "    </tr>\n",
       "    <tr>\n",
       "      <th>std</th>\n",
       "      <td>28243.919401</td>\n",
       "      <td>4.414411e+05</td>\n",
       "      <td>36943.139800</td>\n",
       "      <td>178.206387</td>\n",
       "      <td>0.968637</td>\n",
       "      <td>2.250448e+08</td>\n",
       "      <td>153.329632</td>\n",
       "      <td>1.534621e+08</td>\n",
       "    </tr>\n",
       "    <tr>\n",
       "      <th>min</th>\n",
       "      <td>1.000000</td>\n",
       "      <td>1.234900e+04</td>\n",
       "      <td>11.000000</td>\n",
       "      <td>1.000000</td>\n",
       "      <td>0.500000</td>\n",
       "      <td>8.281246e+08</td>\n",
       "      <td>2.000000</td>\n",
       "      <td>1.137179e+09</td>\n",
       "    </tr>\n",
       "    <tr>\n",
       "      <th>25%</th>\n",
       "      <td>296.000000</td>\n",
       "      <td>1.103570e+05</td>\n",
       "      <td>278.000000</td>\n",
       "      <td>156.000000</td>\n",
       "      <td>3.500000</td>\n",
       "      <td>1.017365e+09</td>\n",
       "      <td>424.000000</td>\n",
       "      <td>1.242494e+09</td>\n",
       "    </tr>\n",
       "    <tr>\n",
       "      <th>50%</th>\n",
       "      <td>1198.000000</td>\n",
       "      <td>1.109120e+05</td>\n",
       "      <td>680.000000</td>\n",
       "      <td>309.000000</td>\n",
       "      <td>4.000000</td>\n",
       "      <td>1.217325e+09</td>\n",
       "      <td>477.000000</td>\n",
       "      <td>1.457901e+09</td>\n",
       "    </tr>\n",
       "    <tr>\n",
       "      <th>75%</th>\n",
       "      <td>4638.000000</td>\n",
       "      <td>1.724950e+05</td>\n",
       "      <td>1892.000000</td>\n",
       "      <td>460.000000</td>\n",
       "      <td>5.000000</td>\n",
       "      <td>1.443201e+09</td>\n",
       "      <td>599.000000</td>\n",
       "      <td>1.498457e+09</td>\n",
       "    </tr>\n",
       "    <tr>\n",
       "      <th>max</th>\n",
       "      <td>193565.000000</td>\n",
       "      <td>5.580390e+06</td>\n",
       "      <td>503475.000000</td>\n",
       "      <td>610.000000</td>\n",
       "      <td>5.000000</td>\n",
       "      <td>1.537799e+09</td>\n",
       "      <td>610.000000</td>\n",
       "      <td>1.537099e+09</td>\n",
       "    </tr>\n",
       "  </tbody>\n",
       "</table>\n",
       "</div>"
      ],
      "text/plain": [
       "             movieId        imdbId         tmdbId       userId_x  \\\n",
       "count  233213.000000  2.332130e+05  233213.000000  233213.000000   \n",
       "mean    12319.999443  2.610632e+05    9378.277742     309.688191   \n",
       "std     28243.919401  4.414411e+05   36943.139800     178.206387   \n",
       "min         1.000000  1.234900e+04      11.000000       1.000000   \n",
       "25%       296.000000  1.103570e+05     278.000000     156.000000   \n",
       "50%      1198.000000  1.109120e+05     680.000000     309.000000   \n",
       "75%      4638.000000  1.724950e+05    1892.000000     460.000000   \n",
       "max    193565.000000  5.580390e+06  503475.000000     610.000000   \n",
       "\n",
       "              rating   timestamp_x       userId_y   timestamp_y  \n",
       "count  233213.000000  2.332130e+05  233213.000000  2.332130e+05  \n",
       "mean        3.966535  1.213524e+09     470.683564  1.384774e+09  \n",
       "std         0.968637  2.250448e+08     153.329632  1.534621e+08  \n",
       "min         0.500000  8.281246e+08       2.000000  1.137179e+09  \n",
       "25%         3.500000  1.017365e+09     424.000000  1.242494e+09  \n",
       "50%         4.000000  1.217325e+09     477.000000  1.457901e+09  \n",
       "75%         5.000000  1.443201e+09     599.000000  1.498457e+09  \n",
       "max         5.000000  1.537799e+09     610.000000  1.537099e+09  "
      ]
     },
     "execution_count": 10,
     "metadata": {},
     "output_type": "execute_result"
    }
   ],
   "source": [
    "df.describe()"
   ]
  },
  {
   "cell_type": "code",
   "execution_count": 11,
   "id": "df965fa5",
   "metadata": {},
   "outputs": [
    {
     "data": {
      "text/html": [
       "<div>\n",
       "<style scoped>\n",
       "    .dataframe tbody tr th:only-of-type {\n",
       "        vertical-align: middle;\n",
       "    }\n",
       "\n",
       "    .dataframe tbody tr th {\n",
       "        vertical-align: top;\n",
       "    }\n",
       "\n",
       "    .dataframe thead th {\n",
       "        text-align: right;\n",
       "    }\n",
       "</style>\n",
       "<table border=\"1\" class=\"dataframe\">\n",
       "  <thead>\n",
       "    <tr style=\"text-align: right;\">\n",
       "      <th></th>\n",
       "      <th>movieId</th>\n",
       "      <th>title</th>\n",
       "      <th>genres</th>\n",
       "      <th>imdbId</th>\n",
       "      <th>tmdbId</th>\n",
       "      <th>userId_x</th>\n",
       "      <th>rating</th>\n",
       "      <th>userId_y</th>\n",
       "      <th>tag</th>\n",
       "    </tr>\n",
       "  </thead>\n",
       "  <tbody>\n",
       "    <tr>\n",
       "      <th>0</th>\n",
       "      <td>1</td>\n",
       "      <td>Toy Story (1995)</td>\n",
       "      <td>Adventure|Animation|Children|Comedy|Fantasy</td>\n",
       "      <td>114709</td>\n",
       "      <td>862.0</td>\n",
       "      <td>1</td>\n",
       "      <td>4.0</td>\n",
       "      <td>336</td>\n",
       "      <td>pixar</td>\n",
       "    </tr>\n",
       "    <tr>\n",
       "      <th>1</th>\n",
       "      <td>1</td>\n",
       "      <td>Toy Story (1995)</td>\n",
       "      <td>Adventure|Animation|Children|Comedy|Fantasy</td>\n",
       "      <td>114709</td>\n",
       "      <td>862.0</td>\n",
       "      <td>1</td>\n",
       "      <td>4.0</td>\n",
       "      <td>474</td>\n",
       "      <td>pixar</td>\n",
       "    </tr>\n",
       "    <tr>\n",
       "      <th>2</th>\n",
       "      <td>1</td>\n",
       "      <td>Toy Story (1995)</td>\n",
       "      <td>Adventure|Animation|Children|Comedy|Fantasy</td>\n",
       "      <td>114709</td>\n",
       "      <td>862.0</td>\n",
       "      <td>1</td>\n",
       "      <td>4.0</td>\n",
       "      <td>567</td>\n",
       "      <td>fun</td>\n",
       "    </tr>\n",
       "    <tr>\n",
       "      <th>3</th>\n",
       "      <td>1</td>\n",
       "      <td>Toy Story (1995)</td>\n",
       "      <td>Adventure|Animation|Children|Comedy|Fantasy</td>\n",
       "      <td>114709</td>\n",
       "      <td>862.0</td>\n",
       "      <td>5</td>\n",
       "      <td>4.0</td>\n",
       "      <td>336</td>\n",
       "      <td>pixar</td>\n",
       "    </tr>\n",
       "    <tr>\n",
       "      <th>4</th>\n",
       "      <td>1</td>\n",
       "      <td>Toy Story (1995)</td>\n",
       "      <td>Adventure|Animation|Children|Comedy|Fantasy</td>\n",
       "      <td>114709</td>\n",
       "      <td>862.0</td>\n",
       "      <td>5</td>\n",
       "      <td>4.0</td>\n",
       "      <td>474</td>\n",
       "      <td>pixar</td>\n",
       "    </tr>\n",
       "  </tbody>\n",
       "</table>\n",
       "</div>"
      ],
      "text/plain": [
       "   movieId             title                                       genres  \\\n",
       "0        1  Toy Story (1995)  Adventure|Animation|Children|Comedy|Fantasy   \n",
       "1        1  Toy Story (1995)  Adventure|Animation|Children|Comedy|Fantasy   \n",
       "2        1  Toy Story (1995)  Adventure|Animation|Children|Comedy|Fantasy   \n",
       "3        1  Toy Story (1995)  Adventure|Animation|Children|Comedy|Fantasy   \n",
       "4        1  Toy Story (1995)  Adventure|Animation|Children|Comedy|Fantasy   \n",
       "\n",
       "   imdbId  tmdbId  userId_x  rating  userId_y    tag  \n",
       "0  114709   862.0         1     4.0       336  pixar  \n",
       "1  114709   862.0         1     4.0       474  pixar  \n",
       "2  114709   862.0         1     4.0       567    fun  \n",
       "3  114709   862.0         5     4.0       336  pixar  \n",
       "4  114709   862.0         5     4.0       474  pixar  "
      ]
     },
     "execution_count": 11,
     "metadata": {},
     "output_type": "execute_result"
    }
   ],
   "source": [
    "columns_to_drop = ['timestamp_x', 'timestamp_y']\n",
    "df.drop(columns=columns_to_drop, inplace=True)\n",
    "\n",
    "# Display the first few rows of the DataFram\n",
    "df.head()"
   ]
  },
  {
   "cell_type": "code",
   "execution_count": 12,
   "id": "bf428b0e",
   "metadata": {},
   "outputs": [
    {
     "data": {
      "text/plain": [
       "['movieId',\n",
       " 'title',\n",
       " 'genres',\n",
       " 'imdbId',\n",
       " 'tmdbId',\n",
       " 'userId_x',\n",
       " 'rating',\n",
       " 'userId_y',\n",
       " 'tag']"
      ]
     },
     "execution_count": 12,
     "metadata": {},
     "output_type": "execute_result"
    }
   ],
   "source": [
    "col_name = df.columns.tolist()\n",
    "col_name"
   ]
  },
  {
   "cell_type": "code",
   "execution_count": 13,
   "id": "395ebdb3",
   "metadata": {},
   "outputs": [
    {
     "name": "stdout",
     "output_type": "stream",
     "text": [
      "Number of movies: 9742\n",
      "Number of users: 610\n"
     ]
    }
   ],
   "source": [
    "# Number of movies and users\n",
    "num_movies = movies['movieId'].nunique()\n",
    "num_users = ratings['userId'].nunique()\n",
    "\n",
    "print(f\"Number of movies: {num_movies}\")\n",
    "print(f\"Number of users: {num_users}\")"
   ]
  },
  {
   "cell_type": "code",
   "execution_count": 14,
   "id": "18bbb913",
   "metadata": {},
   "outputs": [
    {
     "data": {
      "text/plain": [
       "movieId     0\n",
       "title       0\n",
       "genres      0\n",
       "imdbId      0\n",
       "tmdbId      0\n",
       "userId_x    0\n",
       "rating      0\n",
       "userId_y    0\n",
       "tag         0\n",
       "dtype: int64"
      ]
     },
     "execution_count": 14,
     "metadata": {},
     "output_type": "execute_result"
    }
   ],
   "source": [
    "df.isnull().sum()"
   ]
  },
  {
   "cell_type": "code",
   "execution_count": 15,
   "id": "676e3ca0",
   "metadata": {},
   "outputs": [
    {
     "data": {
      "text/plain": [
       "0"
      ]
     },
     "execution_count": 15,
     "metadata": {},
     "output_type": "execute_result"
    }
   ],
   "source": [
    "df.duplicated().sum()"
   ]
  },
  {
   "cell_type": "markdown",
   "id": "f634b918",
   "metadata": {},
   "source": [
    "# EDA"
   ]
  },
  {
   "cell_type": "code",
   "execution_count": 16,
   "id": "5588a7fb",
   "metadata": {
    "scrolled": true
   },
   "outputs": [
    {
     "data": {
      "image/png": "[encoded data removed]",
      "text/plain": [
       "<Figure size 720x432 with 1 Axes>"
      ]
     },
     "metadata": {
      "needs_background": "light"
     },
     "output_type": "display_data"
    }
   ],
   "source": [
    "# Distribution of ratings\n",
    "plt.figure(figsize=(10, 6))\n",
    "sns.countplot(x='rating', data=df)\n",
    "plt.title('Distribution of Ratings')\n",
    "plt.show()"
   ]
  },
  {
   "cell_type": "code",
   "execution_count": 17,
   "id": "3ed1d7f9",
   "metadata": {},
   "outputs": [
    {
     "name": "stdout",
     "output_type": "stream",
     "text": [
      "Top 10 most rated movies:\n",
      "title\n",
      "Pulp Fiction (1994)                                               55567\n",
      "Fight Club (1999)                                                 11772\n",
      "Star Wars: Episode IV - A New Hope (1977)                          6526\n",
      "Léon: The Professional (a.k.a. The Professional) (Léon) (1994)     4655\n",
      "2001: A Space Odyssey (1968)                                       4469\n",
      "Eternal Sunshine of the Spotless Mind (2004)                       4454\n",
      "Inception (2010)                                                   3718\n",
      "Big Lebowski, The (1998)                                           3392\n",
      "Donnie Darko (2001)                                                3161\n",
      "Forrest Gump (1994)                                                2961\n",
      "Name: rating, dtype: int64\n"
     ]
    }
   ],
   "source": [
    "# Most rated movies\n",
    "most_rated_movies = df.groupby('title')['rating'].count().sort_values(ascending=False)\n",
    "\n",
    "# Display the top 10 most rated movies\n",
    "print(\"Top 10 most rated movies:\")\n",
    "print(most_rated_movies.head(10))"
   ]
  },
  {
   "cell_type": "code",
   "execution_count": 18,
   "id": "22b1349a",
   "metadata": {},
   "outputs": [
    {
     "name": "stdout",
     "output_type": "stream",
     "text": [
      "Average rating per user:\n",
      "userId\n",
      "1     4.366379\n",
      "2     3.948276\n",
      "3     2.435897\n",
      "4     3.555556\n",
      "5     3.636364\n",
      "6     3.493631\n",
      "7     3.230263\n",
      "8     3.574468\n",
      "9     3.260870\n",
      "10    3.278571\n",
      "Name: rating, dtype: float64\n"
     ]
    }
   ],
   "source": [
    "# Average ratings per user\n",
    "# Calculate the average rating per user\n",
    "average_rating_per_user = ratings.groupby('userId')['rating'].mean()\n",
    "\n",
    "# Display the average rating per user\n",
    "print(\"Average rating per user:\")\n",
    "print(average_rating_per_user.head(10))"
   ]
  },
  {
   "cell_type": "code",
   "execution_count": 19,
   "id": "12e66c22",
   "metadata": {},
   "outputs": [
    {
     "name": "stdout",
     "output_type": "stream",
     "text": [
      "Average rating per movie:\n",
      "movieId\n",
      "1     3.920930\n",
      "2     3.431818\n",
      "3     3.259615\n",
      "4     2.357143\n",
      "5     3.071429\n",
      "6     3.946078\n",
      "7     3.185185\n",
      "8     2.875000\n",
      "9     3.125000\n",
      "10    3.496212\n",
      "Name: rating, dtype: float64\n"
     ]
    }
   ],
   "source": [
    "# Average rating per movie\n",
    "avg_rating_per_movie = ratings.groupby('movieId')['rating'].mean()\n",
    "\n",
    "print(\"Average rating per movie:\")\n",
    "print(avg_rating_per_movie.head(10))"
   ]
  },
  {
   "cell_type": "code",
   "execution_count": 20,
   "id": "8668da1a",
   "metadata": {},
   "outputs": [
    {
     "data": {
      "image/png": "[encoded data removed]",
      "text/plain": [
       "<Figure size 864x432 with 1 Axes>"
      ]
     },
     "metadata": {
      "needs_background": "light"
     },
     "output_type": "display_data"
    }
   ],
   "source": [
    "# Split genres and create a count of each genre\n",
    "genre_counts = df['genres'].str.split('|', expand=True).stack().value_counts()\n",
    "\n",
    "# Plot the bar chart\n",
    "plt.figure(figsize=(12, 6))\n",
    "sns.barplot(x=genre_counts.index, y=genre_counts.values, color='skyblue')\n",
    "plt.title('Number of Movies in Each Genre')\n",
    "plt.xlabel('Genre')\n",
    "plt.ylabel('Number of Movies')\n",
    "plt.xticks(rotation=45, ha='right')  \n",
    "plt.show()"
   ]
  },
  {
   "cell_type": "code",
   "execution_count": 21,
   "id": "2b0dd8ec",
   "metadata": {},
   "outputs": [
    {
     "data": {
      "image/png": "[encoded data removed]",
      "text/plain": [
       "<Figure size 864x432 with 1 Axes>"
      ]
     },
     "metadata": {
      "needs_background": "light"
     },
     "output_type": "display_data"
    }
   ],
   "source": [
    "# Calculate the top N most rated movies\n",
    "top_rated_movies = df.groupby('movieId')['rating'].count().sort_values(ascending=False).head(20)\n",
    "top_rated_movies = pd.merge(top_rated_movies, df[['movieId', 'title']], on='movieId', how='left')\n",
    "\n",
    "# Plot the bar chart\n",
    "plt.figure(figsize=(12, 6))\n",
    "sns.barplot(x='rating', y='title', data=top_rated_movies, palette='muted', orient='h')\n",
    "plt.title('Top 20 Most Rated Movies')\n",
    "plt.xlabel('Number of Ratings')\n",
    "plt.ylabel('Movie Title')\n",
    "plt.show()"
   ]
  },
  {
   "cell_type": "code",
   "execution_count": 22,
   "id": "d6782c25",
   "metadata": {},
   "outputs": [
    {
     "data": {
      "image/png": "[encoded data removed]",
      "text/plain": [
       "<Figure size 720x576 with 2 Axes>"
      ]
     },
     "metadata": {
      "needs_background": "light"
     },
     "output_type": "display_data"
    }
   ],
   "source": [
    "# Calculate the correlations\n",
    "correlations = df.corr()\n",
    "\n",
    "# Create a heatmap\n",
    "plt.figure(figsize=(10, 8))\n",
    "sns.heatmap(round(correlations, 2), annot=True, linewidths=.7)\n",
    "plt.title('Correlation Heatmap')\n",
    "plt.show()"
   ]
  },
  {
   "cell_type": "markdown",
   "id": "246b762f",
   "metadata": {},
   "source": [
    "## modelling "
   ]
  },
  {
   "cell_type": "code",
   "execution_count": 23,
   "id": "4864126e",
   "metadata": {},
   "outputs": [],
   "source": [
    "from surprise import Reader, Dataset\n",
    "from surprise import accuracy\n",
    "from surprise.model_selection import cross_validate, train_test_split\n",
    "from surprise.prediction_algorithms import SVD\n",
    "from surprise.prediction_algorithms import KNNWithMeans, KNNBasic, KNNBaseline\n",
    "from surprise.model_selection import GridSearchCV\n",
    "from IPython.display import HTML\n",
    "import warnings\n",
    "warnings.filterwarnings('ignore')"
   ]
  },
  {
   "cell_type": "markdown",
   "id": "57737c9a",
   "metadata": {},
   "source": [
    "# UNIVARIATE DATA ANALYSIS\n",
    "### count plot"
   ]
  },
  {
   "cell_type": "code",
   "execution_count": 24,
   "id": "e8267a63",
   "metadata": {},
   "outputs": [
    {
     "data": {
      "text/html": [
       "<div>\n",
       "<style scoped>\n",
       "    .dataframe tbody tr th:only-of-type {\n",
       "        vertical-align: middle;\n",
       "    }\n",
       "\n",
       "    .dataframe tbody tr th {\n",
       "        vertical-align: top;\n",
       "    }\n",
       "\n",
       "    .dataframe thead th {\n",
       "        text-align: right;\n",
       "    }\n",
       "</style>\n",
       "<table border=\"1\" class=\"dataframe\">\n",
       "  <thead>\n",
       "    <tr style=\"text-align: right;\">\n",
       "      <th></th>\n",
       "      <th>movieId</th>\n",
       "      <th>title</th>\n",
       "      <th>genres</th>\n",
       "      <th>userId</th>\n",
       "      <th>rating</th>\n",
       "      <th>timestamp</th>\n",
       "    </tr>\n",
       "  </thead>\n",
       "  <tbody>\n",
       "    <tr>\n",
       "      <th>0</th>\n",
       "      <td>1</td>\n",
       "      <td>Toy Story (1995)</td>\n",
       "      <td>Adventure|Animation|Children|Comedy|Fantasy</td>\n",
       "      <td>1</td>\n",
       "      <td>4.0</td>\n",
       "      <td>964982703</td>\n",
       "    </tr>\n",
       "    <tr>\n",
       "      <th>1</th>\n",
       "      <td>1</td>\n",
       "      <td>Toy Story (1995)</td>\n",
       "      <td>Adventure|Animation|Children|Comedy|Fantasy</td>\n",
       "      <td>5</td>\n",
       "      <td>4.0</td>\n",
       "      <td>847434962</td>\n",
       "    </tr>\n",
       "    <tr>\n",
       "      <th>2</th>\n",
       "      <td>1</td>\n",
       "      <td>Toy Story (1995)</td>\n",
       "      <td>Adventure|Animation|Children|Comedy|Fantasy</td>\n",
       "      <td>7</td>\n",
       "      <td>4.5</td>\n",
       "      <td>1106635946</td>\n",
       "    </tr>\n",
       "    <tr>\n",
       "      <th>3</th>\n",
       "      <td>1</td>\n",
       "      <td>Toy Story (1995)</td>\n",
       "      <td>Adventure|Animation|Children|Comedy|Fantasy</td>\n",
       "      <td>15</td>\n",
       "      <td>2.5</td>\n",
       "      <td>1510577970</td>\n",
       "    </tr>\n",
       "    <tr>\n",
       "      <th>4</th>\n",
       "      <td>1</td>\n",
       "      <td>Toy Story (1995)</td>\n",
       "      <td>Adventure|Animation|Children|Comedy|Fantasy</td>\n",
       "      <td>17</td>\n",
       "      <td>4.5</td>\n",
       "      <td>1305696483</td>\n",
       "    </tr>\n",
       "    <tr>\n",
       "      <th>...</th>\n",
       "      <td>...</td>\n",
       "      <td>...</td>\n",
       "      <td>...</td>\n",
       "      <td>...</td>\n",
       "      <td>...</td>\n",
       "      <td>...</td>\n",
       "    </tr>\n",
       "    <tr>\n",
       "      <th>100831</th>\n",
       "      <td>193581</td>\n",
       "      <td>Black Butler: Book of the Atlantic (2017)</td>\n",
       "      <td>Action|Animation|Comedy|Fantasy</td>\n",
       "      <td>184</td>\n",
       "      <td>4.0</td>\n",
       "      <td>1537109082</td>\n",
       "    </tr>\n",
       "    <tr>\n",
       "      <th>100832</th>\n",
       "      <td>193583</td>\n",
       "      <td>No Game No Life: Zero (2017)</td>\n",
       "      <td>Animation|Comedy|Fantasy</td>\n",
       "      <td>184</td>\n",
       "      <td>3.5</td>\n",
       "      <td>1537109545</td>\n",
       "    </tr>\n",
       "    <tr>\n",
       "      <th>100833</th>\n",
       "      <td>193585</td>\n",
       "      <td>Flint (2017)</td>\n",
       "      <td>Drama</td>\n",
       "      <td>184</td>\n",
       "      <td>3.5</td>\n",
       "      <td>1537109805</td>\n",
       "    </tr>\n",
       "    <tr>\n",
       "      <th>100834</th>\n",
       "      <td>193587</td>\n",
       "      <td>Bungo Stray Dogs: Dead Apple (2018)</td>\n",
       "      <td>Action|Animation</td>\n",
       "      <td>184</td>\n",
       "      <td>3.5</td>\n",
       "      <td>1537110021</td>\n",
       "    </tr>\n",
       "    <tr>\n",
       "      <th>100835</th>\n",
       "      <td>193609</td>\n",
       "      <td>Andrew Dice Clay: Dice Rules (1991)</td>\n",
       "      <td>Comedy</td>\n",
       "      <td>331</td>\n",
       "      <td>4.0</td>\n",
       "      <td>1537157606</td>\n",
       "    </tr>\n",
       "  </tbody>\n",
       "</table>\n",
       "<p>100836 rows × 6 columns</p>\n",
       "</div>"
      ],
      "text/plain": [
       "        movieId                                      title  \\\n",
       "0             1                           Toy Story (1995)   \n",
       "1             1                           Toy Story (1995)   \n",
       "2             1                           Toy Story (1995)   \n",
       "3             1                           Toy Story (1995)   \n",
       "4             1                           Toy Story (1995)   \n",
       "...         ...                                        ...   \n",
       "100831   193581  Black Butler: Book of the Atlantic (2017)   \n",
       "100832   193583               No Game No Life: Zero (2017)   \n",
       "100833   193585                               Flint (2017)   \n",
       "100834   193587        Bungo Stray Dogs: Dead Apple (2018)   \n",
       "100835   193609        Andrew Dice Clay: Dice Rules (1991)   \n",
       "\n",
       "                                             genres  userId  rating  \\\n",
       "0       Adventure|Animation|Children|Comedy|Fantasy       1     4.0   \n",
       "1       Adventure|Animation|Children|Comedy|Fantasy       5     4.0   \n",
       "2       Adventure|Animation|Children|Comedy|Fantasy       7     4.5   \n",
       "3       Adventure|Animation|Children|Comedy|Fantasy      15     2.5   \n",
       "4       Adventure|Animation|Children|Comedy|Fantasy      17     4.5   \n",
       "...                                             ...     ...     ...   \n",
       "100831              Action|Animation|Comedy|Fantasy     184     4.0   \n",
       "100832                     Animation|Comedy|Fantasy     184     3.5   \n",
       "100833                                        Drama     184     3.5   \n",
       "100834                             Action|Animation     184     3.5   \n",
       "100835                                       Comedy     331     4.0   \n",
       "\n",
       "         timestamp  \n",
       "0        964982703  \n",
       "1        847434962  \n",
       "2       1106635946  \n",
       "3       1510577970  \n",
       "4       1305696483  \n",
       "...            ...  \n",
       "100831  1537109082  \n",
       "100832  1537109545  \n",
       "100833  1537109805  \n",
       "100834  1537110021  \n",
       "100835  1537157606  \n",
       "\n",
       "[100836 rows x 6 columns]"
      ]
     },
     "execution_count": 24,
     "metadata": {},
     "output_type": "execute_result"
    }
   ],
   "source": [
    "# to have one userId\n",
    "def load_and_join_csv(file_path_1, file_path_2, file_path_3):\n",
    "    # Load CSV files into Pandas DataFrames\n",
    "    movies = pd.read_csv(file_path_1)\n",
    "    ratings = pd.read_csv(file_path_2)\n",
    "    # tags = pd.read_csv(file_path_3)\n",
    "    \n",
    "    # Perform inner joins to combine the datasets based on common column movieId\n",
    "    movies_ratings_df = pd.merge(movies, ratings, on='movieId', how='inner')\n",
    "      \n",
    "    return movies_ratings_df\n",
    "\n",
    "# Replace 'file1.csv', 'file2.csv', 'file3.csv', and 'file4.csv' with your actual file paths\n",
    "movie_rating_df = load_and_join_csv(\"data/ml-latest-small/movies.csv\", \"data/ml-latest-small/ratings.csv\", \"ml-latest-small/tags.csv\")\n",
    "\n",
    "# Display the resulting dataset\n",
    "movie_rating_df"
   ]
  },
  {
   "cell_type": "code",
   "execution_count": 25,
   "id": "e7b1617a",
   "metadata": {},
   "outputs": [],
   "source": [
    "\n",
    "# A function to create plots\n",
    "\n",
    "def create_plots(df, plot_type, columns_to_plot = None, y = None):\n",
    "    if plot_type == 'count_plot':\n",
    "        plt.figure(figsize=(12,8))\n",
    "        sns.countplot(data=df, x=columns_to_plot)\n",
    "        plt.title(f'Distribution of movie {columns_to_plot}')\n",
    "        plt.xticks(rotation=90)\n",
    "        plt.show()\n",
    "    elif plot_type == 'bar_plot1':\n",
    "        plt.figure(figsize=(12, 7))\n",
    "        sns.barplot(columns_to_plot.index, columns_to_plot.values)\n",
    "        plt.title('Top 10 most frequently rated movies')\n",
    "        plt.xlabel('Movie tile')\n",
    "        plt.xticks(rotation=90)\n",
    "        plt.ylabel('Count')\n",
    "        plt.show()\n",
    "    elif plot_type == 'bar_plot2':\n",
    "        plt.figure(figsize=(12, 7))\n",
    "        sns.barplot(columns_to_plot.index, columns_to_plot.values)\n",
    "        plt.title('Top 10 most frequently rated movies and their average ratings')\n",
    "        plt.xlabel('Movie tile')\n",
    "        plt.xticks(rotation=90)\n",
    "        plt.ylabel('Average Rating')\n",
    "        plt.show()"
   ]
  },
  {
   "cell_type": "code",
   "execution_count": 26,
   "id": "b07f36c9",
   "metadata": {},
   "outputs": [
    {
     "data": {
      "image/png": "[encoded data removed]",
      "text/plain": [
       "<Figure size 864x576 with 1 Axes>"
      ]
     },
     "metadata": {
      "needs_background": "light"
     },
     "output_type": "display_data"
    }
   ],
   "source": [
    "create_plots(movie_rating_df, 'count_plot', 'rating')"
   ]
  },
  {
   "cell_type": "code",
   "execution_count": 27,
   "id": "5e7180c6",
   "metadata": {},
   "outputs": [
    {
     "data": {
      "text/plain": [
       "Counter({'Adventure': 24161,\n",
       "         'Animation': 6988,\n",
       "         'Children': 9208,\n",
       "         'Comedy': 39053,\n",
       "         'Fantasy': 11834,\n",
       "         'Romance': 18124,\n",
       "         'Drama': 41928,\n",
       "         'Action': 30635,\n",
       "         'Crime': 16681,\n",
       "         'Thriller': 26452,\n",
       "         'Horror': 7291,\n",
       "         'Mystery': 7674,\n",
       "         'Sci-Fi': 17243,\n",
       "         'War': 4859,\n",
       "         'Musical': 4138,\n",
       "         'Documentary': 1219,\n",
       "         'IMAX': 4145,\n",
       "         'Western': 1930,\n",
       "         'Film-Noir': 870,\n",
       "         '(no genres listed)': 47})"
      ]
     },
     "execution_count": 27,
     "metadata": {},
     "output_type": "execute_result"
    }
   ],
   "source": [
    "# Splitting the genres\n",
    "def splitting_string(movies):\n",
    "    movies['genres'] = movies['genres'].apply(lambda x: x.split('|'))\n",
    "    from collections import Counter\n",
    "    genre_frequency = Counter(g for genres in movies['genres'] for g in genres)\n",
    "    \n",
    "    return genre_frequency\n",
    "\n",
    "splitting_string(movie_rating_df)"
   ]
  },
  {
   "cell_type": "code",
   "execution_count": 28,
   "id": "797e9faf",
   "metadata": {},
   "outputs": [
    {
     "data": {
      "text/html": [
       "<div>\n",
       "<style scoped>\n",
       "    .dataframe tbody tr th:only-of-type {\n",
       "        vertical-align: middle;\n",
       "    }\n",
       "\n",
       "    .dataframe tbody tr th {\n",
       "        vertical-align: top;\n",
       "    }\n",
       "\n",
       "    .dataframe thead th {\n",
       "        text-align: right;\n",
       "    }\n",
       "</style>\n",
       "<table border=\"1\" class=\"dataframe\">\n",
       "  <thead>\n",
       "    <tr style=\"text-align: right;\">\n",
       "      <th></th>\n",
       "      <th>movieId</th>\n",
       "      <th>title</th>\n",
       "      <th>genres</th>\n",
       "      <th>userId</th>\n",
       "      <th>rating</th>\n",
       "      <th>timestamp</th>\n",
       "    </tr>\n",
       "  </thead>\n",
       "  <tbody>\n",
       "    <tr>\n",
       "      <th>0</th>\n",
       "      <td>1</td>\n",
       "      <td>Toy Story (1995)</td>\n",
       "      <td>Adventure</td>\n",
       "      <td>1</td>\n",
       "      <td>4.0</td>\n",
       "      <td>964982703</td>\n",
       "    </tr>\n",
       "    <tr>\n",
       "      <th>0</th>\n",
       "      <td>1</td>\n",
       "      <td>Toy Story (1995)</td>\n",
       "      <td>Animation</td>\n",
       "      <td>1</td>\n",
       "      <td>4.0</td>\n",
       "      <td>964982703</td>\n",
       "    </tr>\n",
       "    <tr>\n",
       "      <th>0</th>\n",
       "      <td>1</td>\n",
       "      <td>Toy Story (1995)</td>\n",
       "      <td>Children</td>\n",
       "      <td>1</td>\n",
       "      <td>4.0</td>\n",
       "      <td>964982703</td>\n",
       "    </tr>\n",
       "    <tr>\n",
       "      <th>0</th>\n",
       "      <td>1</td>\n",
       "      <td>Toy Story (1995)</td>\n",
       "      <td>Comedy</td>\n",
       "      <td>1</td>\n",
       "      <td>4.0</td>\n",
       "      <td>964982703</td>\n",
       "    </tr>\n",
       "    <tr>\n",
       "      <th>0</th>\n",
       "      <td>1</td>\n",
       "      <td>Toy Story (1995)</td>\n",
       "      <td>Fantasy</td>\n",
       "      <td>1</td>\n",
       "      <td>4.0</td>\n",
       "      <td>964982703</td>\n",
       "    </tr>\n",
       "    <tr>\n",
       "      <th>...</th>\n",
       "      <td>...</td>\n",
       "      <td>...</td>\n",
       "      <td>...</td>\n",
       "      <td>...</td>\n",
       "      <td>...</td>\n",
       "      <td>...</td>\n",
       "    </tr>\n",
       "    <tr>\n",
       "      <th>100832</th>\n",
       "      <td>193583</td>\n",
       "      <td>No Game No Life: Zero (2017)</td>\n",
       "      <td>Fantasy</td>\n",
       "      <td>184</td>\n",
       "      <td>3.5</td>\n",
       "      <td>1537109545</td>\n",
       "    </tr>\n",
       "    <tr>\n",
       "      <th>100833</th>\n",
       "      <td>193585</td>\n",
       "      <td>Flint (2017)</td>\n",
       "      <td>Drama</td>\n",
       "      <td>184</td>\n",
       "      <td>3.5</td>\n",
       "      <td>1537109805</td>\n",
       "    </tr>\n",
       "    <tr>\n",
       "      <th>100834</th>\n",
       "      <td>193587</td>\n",
       "      <td>Bungo Stray Dogs: Dead Apple (2018)</td>\n",
       "      <td>Action</td>\n",
       "      <td>184</td>\n",
       "      <td>3.5</td>\n",
       "      <td>1537110021</td>\n",
       "    </tr>\n",
       "    <tr>\n",
       "      <th>100834</th>\n",
       "      <td>193587</td>\n",
       "      <td>Bungo Stray Dogs: Dead Apple (2018)</td>\n",
       "      <td>Animation</td>\n",
       "      <td>184</td>\n",
       "      <td>3.5</td>\n",
       "      <td>1537110021</td>\n",
       "    </tr>\n",
       "    <tr>\n",
       "      <th>100835</th>\n",
       "      <td>193609</td>\n",
       "      <td>Andrew Dice Clay: Dice Rules (1991)</td>\n",
       "      <td>Comedy</td>\n",
       "      <td>331</td>\n",
       "      <td>4.0</td>\n",
       "      <td>1537157606</td>\n",
       "    </tr>\n",
       "  </tbody>\n",
       "</table>\n",
       "<p>274480 rows × 6 columns</p>\n",
       "</div>"
      ],
      "text/plain": [
       "        movieId                                title     genres  userId  \\\n",
       "0             1                     Toy Story (1995)  Adventure       1   \n",
       "0             1                     Toy Story (1995)  Animation       1   \n",
       "0             1                     Toy Story (1995)   Children       1   \n",
       "0             1                     Toy Story (1995)     Comedy       1   \n",
       "0             1                     Toy Story (1995)    Fantasy       1   \n",
       "...         ...                                  ...        ...     ...   \n",
       "100832   193583         No Game No Life: Zero (2017)    Fantasy     184   \n",
       "100833   193585                         Flint (2017)      Drama     184   \n",
       "100834   193587  Bungo Stray Dogs: Dead Apple (2018)     Action     184   \n",
       "100834   193587  Bungo Stray Dogs: Dead Apple (2018)  Animation     184   \n",
       "100835   193609  Andrew Dice Clay: Dice Rules (1991)     Comedy     331   \n",
       "\n",
       "        rating   timestamp  \n",
       "0          4.0   964982703  \n",
       "0          4.0   964982703  \n",
       "0          4.0   964982703  \n",
       "0          4.0   964982703  \n",
       "0          4.0   964982703  \n",
       "...        ...         ...  \n",
       "100832     3.5  1537109545  \n",
       "100833     3.5  1537109805  \n",
       "100834     3.5  1537110021  \n",
       "100834     3.5  1537110021  \n",
       "100835     4.0  1537157606  \n",
       "\n",
       "[274480 rows x 6 columns]"
      ]
     },
     "execution_count": 28,
     "metadata": {},
     "output_type": "execute_result"
    }
   ],
   "source": [
    "new_df = movie_rating_df.copy()\n",
    "new_df = new_df.explode('genres')\n",
    "new_df"
   ]
  },
  {
   "cell_type": "code",
   "execution_count": 30,
   "id": "fee50bbd",
   "metadata": {},
   "outputs": [
    {
     "data": {
      "image/png": "[encoded data removed]",
      "text/plain": [
       "<Figure size 864x576 with 1 Axes>"
      ]
     },
     "metadata": {
      "needs_background": "light"
     },
     "output_type": "display_data"
    }
   ],
   "source": [
    "\n",
    "create_plots(new_df, 'count_plot', 'genres')"
   ]
  },
  {
   "cell_type": "markdown",
   "id": "08331c60",
   "metadata": {},
   "source": [
    "# 2. BIVARIATE DATA ANALYSIS"
   ]
  },
  {
   "cell_type": "code",
   "execution_count": 31,
   "id": "11d1728d",
   "metadata": {},
   "outputs": [
    {
     "data": {
      "image/png": "[encoded data removed]",
      "text/plain": [
       "<Figure size 864x504 with 1 Axes>"
      ]
     },
     "metadata": {
      "needs_background": "light"
     },
     "output_type": "display_data"
    }
   ],
   "source": [
    "top_10_views = movie_rating_df['title'].value_counts().nlargest(10)\n",
    "average_ratings = movie_rating_df.groupby('title')['rating'].mean().loc[top_10_views.index]\n",
    "\n",
    "\n",
    "create_plots(movie_rating_df, 'bar_plot2', average_ratings)"
   ]
  },
  {
   "cell_type": "code",
   "execution_count": 37,
   "id": "877fc5e0",
   "metadata": {},
   "outputs": [
    {
     "data": {
      "image/png": "[encoded data removed]",
      "text/plain": [
       "<Figure size 864x432 with 1 Axes>"
      ]
     },
     "metadata": {
      "needs_background": "light"
     },
     "output_type": "display_data"
    }
   ],
   "source": [
    "def bar_plot(x, y, data):\n",
    "    \n",
    "    plt.figure(figsize=(12,6))\n",
    "    \n",
    "    sns.barplot(x=x, y=y, data=data)\n",
    "    plt.title('Genres and their average ratings')\n",
    "    plt.xlabel(f'{x}')\n",
    "    plt.xticks(rotation=90)\n",
    "    plt.ylabel(f'{y}')\n",
    "    plt.show()\n",
    "\n",
    "bar_plot('genres', 'rating', new_df)"
   ]
  },
  {
   "cell_type": "code",
   "execution_count": 39,
   "id": "533b8e99",
   "metadata": {},
   "outputs": [
    {
     "data": {
      "image/png": "[encoded data removed]",
      "text/plain": [
       "<Figure size 1656x720 with 1 Axes>"
      ]
     },
     "metadata": {
      "needs_background": "light"
     },
     "output_type": "display_data"
    }
   ],
   "source": [
    "plt.figure(figsize=(23,10))\n",
    "sns.countplot(data=new_df, x='genres', hue='rating')\n",
    "plt.title(f'Distribution of rating per genre')\n",
    "plt.show()"
   ]
  },
  {
   "cell_type": "markdown",
   "id": "ca4247c9",
   "metadata": {},
   "source": [
    "# DATA PREPROCESSING"
   ]
  },
  {
   "cell_type": "code",
   "execution_count": 40,
   "id": "bf5f6d10",
   "metadata": {},
   "outputs": [
    {
     "data": {
      "text/html": [
       "<div>\n",
       "<style scoped>\n",
       "    .dataframe tbody tr th:only-of-type {\n",
       "        vertical-align: middle;\n",
       "    }\n",
       "\n",
       "    .dataframe tbody tr th {\n",
       "        vertical-align: top;\n",
       "    }\n",
       "\n",
       "    .dataframe thead th {\n",
       "        text-align: right;\n",
       "    }\n",
       "</style>\n",
       "<table border=\"1\" class=\"dataframe\">\n",
       "  <thead>\n",
       "    <tr style=\"text-align: right;\">\n",
       "      <th></th>\n",
       "      <th>movieId</th>\n",
       "      <th>title</th>\n",
       "      <th>genres</th>\n",
       "      <th>userId</th>\n",
       "      <th>rating</th>\n",
       "      <th>timestamp</th>\n",
       "    </tr>\n",
       "  </thead>\n",
       "  <tbody>\n",
       "    <tr>\n",
       "      <th>0</th>\n",
       "      <td>1</td>\n",
       "      <td>Toy Story (1995)</td>\n",
       "      <td>[Adventure, Animation, Children, Comedy, Fantasy]</td>\n",
       "      <td>1</td>\n",
       "      <td>4.0</td>\n",
       "      <td>964982703</td>\n",
       "    </tr>\n",
       "    <tr>\n",
       "      <th>1</th>\n",
       "      <td>1</td>\n",
       "      <td>Toy Story (1995)</td>\n",
       "      <td>[Adventure, Animation, Children, Comedy, Fantasy]</td>\n",
       "      <td>5</td>\n",
       "      <td>4.0</td>\n",
       "      <td>847434962</td>\n",
       "    </tr>\n",
       "    <tr>\n",
       "      <th>2</th>\n",
       "      <td>1</td>\n",
       "      <td>Toy Story (1995)</td>\n",
       "      <td>[Adventure, Animation, Children, Comedy, Fantasy]</td>\n",
       "      <td>7</td>\n",
       "      <td>4.5</td>\n",
       "      <td>1106635946</td>\n",
       "    </tr>\n",
       "    <tr>\n",
       "      <th>3</th>\n",
       "      <td>1</td>\n",
       "      <td>Toy Story (1995)</td>\n",
       "      <td>[Adventure, Animation, Children, Comedy, Fantasy]</td>\n",
       "      <td>15</td>\n",
       "      <td>2.5</td>\n",
       "      <td>1510577970</td>\n",
       "    </tr>\n",
       "    <tr>\n",
       "      <th>4</th>\n",
       "      <td>1</td>\n",
       "      <td>Toy Story (1995)</td>\n",
       "      <td>[Adventure, Animation, Children, Comedy, Fantasy]</td>\n",
       "      <td>17</td>\n",
       "      <td>4.5</td>\n",
       "      <td>1305696483</td>\n",
       "    </tr>\n",
       "    <tr>\n",
       "      <th>...</th>\n",
       "      <td>...</td>\n",
       "      <td>...</td>\n",
       "      <td>...</td>\n",
       "      <td>...</td>\n",
       "      <td>...</td>\n",
       "      <td>...</td>\n",
       "    </tr>\n",
       "    <tr>\n",
       "      <th>100831</th>\n",
       "      <td>193581</td>\n",
       "      <td>Black Butler: Book of the Atlantic (2017)</td>\n",
       "      <td>[Action, Animation, Comedy, Fantasy]</td>\n",
       "      <td>184</td>\n",
       "      <td>4.0</td>\n",
       "      <td>1537109082</td>\n",
       "    </tr>\n",
       "    <tr>\n",
       "      <th>100832</th>\n",
       "      <td>193583</td>\n",
       "      <td>No Game No Life: Zero (2017)</td>\n",
       "      <td>[Animation, Comedy, Fantasy]</td>\n",
       "      <td>184</td>\n",
       "      <td>3.5</td>\n",
       "      <td>1537109545</td>\n",
       "    </tr>\n",
       "    <tr>\n",
       "      <th>100833</th>\n",
       "      <td>193585</td>\n",
       "      <td>Flint (2017)</td>\n",
       "      <td>[Drama]</td>\n",
       "      <td>184</td>\n",
       "      <td>3.5</td>\n",
       "      <td>1537109805</td>\n",
       "    </tr>\n",
       "    <tr>\n",
       "      <th>100834</th>\n",
       "      <td>193587</td>\n",
       "      <td>Bungo Stray Dogs: Dead Apple (2018)</td>\n",
       "      <td>[Action, Animation]</td>\n",
       "      <td>184</td>\n",
       "      <td>3.5</td>\n",
       "      <td>1537110021</td>\n",
       "    </tr>\n",
       "    <tr>\n",
       "      <th>100835</th>\n",
       "      <td>193609</td>\n",
       "      <td>Andrew Dice Clay: Dice Rules (1991)</td>\n",
       "      <td>[Comedy]</td>\n",
       "      <td>331</td>\n",
       "      <td>4.0</td>\n",
       "      <td>1537157606</td>\n",
       "    </tr>\n",
       "  </tbody>\n",
       "</table>\n",
       "<p>100836 rows × 6 columns</p>\n",
       "</div>"
      ],
      "text/plain": [
       "        movieId                                      title  \\\n",
       "0             1                           Toy Story (1995)   \n",
       "1             1                           Toy Story (1995)   \n",
       "2             1                           Toy Story (1995)   \n",
       "3             1                           Toy Story (1995)   \n",
       "4             1                           Toy Story (1995)   \n",
       "...         ...                                        ...   \n",
       "100831   193581  Black Butler: Book of the Atlantic (2017)   \n",
       "100832   193583               No Game No Life: Zero (2017)   \n",
       "100833   193585                               Flint (2017)   \n",
       "100834   193587        Bungo Stray Dogs: Dead Apple (2018)   \n",
       "100835   193609        Andrew Dice Clay: Dice Rules (1991)   \n",
       "\n",
       "                                                   genres  userId  rating  \\\n",
       "0       [Adventure, Animation, Children, Comedy, Fantasy]       1     4.0   \n",
       "1       [Adventure, Animation, Children, Comedy, Fantasy]       5     4.0   \n",
       "2       [Adventure, Animation, Children, Comedy, Fantasy]       7     4.5   \n",
       "3       [Adventure, Animation, Children, Comedy, Fantasy]      15     2.5   \n",
       "4       [Adventure, Animation, Children, Comedy, Fantasy]      17     4.5   \n",
       "...                                                   ...     ...     ...   \n",
       "100831               [Action, Animation, Comedy, Fantasy]     184     4.0   \n",
       "100832                       [Animation, Comedy, Fantasy]     184     3.5   \n",
       "100833                                            [Drama]     184     3.5   \n",
       "100834                                [Action, Animation]     184     3.5   \n",
       "100835                                           [Comedy]     331     4.0   \n",
       "\n",
       "         timestamp  \n",
       "0        964982703  \n",
       "1        847434962  \n",
       "2       1106635946  \n",
       "3       1510577970  \n",
       "4       1305696483  \n",
       "...            ...  \n",
       "100831  1537109082  \n",
       "100832  1537109545  \n",
       "100833  1537109805  \n",
       "100834  1537110021  \n",
       "100835  1537157606  \n",
       "\n",
       "[100836 rows x 6 columns]"
      ]
     },
     "execution_count": 40,
     "metadata": {},
     "output_type": "execute_result"
    }
   ],
   "source": [
    "movie_rating_df"
   ]
  },
  {
   "cell_type": "markdown",
   "id": "fafb069c",
   "metadata": {},
   "source": [
    "# modelling"
   ]
  },
  {
   "cell_type": "code",
   "execution_count": 41,
   "id": "c20e0800",
   "metadata": {},
   "outputs": [
    {
     "name": "stdout",
     "output_type": "stream",
     "text": [
      "Number of users:  610 \n",
      "\n",
      "Number of items:  8995 \n",
      "\n"
     ]
    }
   ],
   "source": [
    "# Select the necessary columns from the dataset \n",
    "user_item_df = movie_rating_df[['userId', 'movieId', 'rating']]\n",
    "\n",
    "# Transform the pandas dataframe into Surprise dataset \n",
    "reader = Reader()\n",
    "data = Dataset.load_from_df(user_item_df, reader)\n",
    "\n",
    "# Split into train and test sets\n",
    "trainset, testset = train_test_split(data, test_size=0.2, random_state=111)\n",
    "\n",
    "# Print the number of unique users and items in the dataset\n",
    "print(\"Number of users: \", trainset.n_users, \"\\n\")\n",
    "print(\"Number of items: \", trainset.n_items, \"\\n\")"
   ]
  },
  {
   "cell_type": "markdown",
   "id": "3e11e8a5",
   "metadata": {},
   "source": [
    "# MODEL 1: KNN BASIC MODEL"
   ]
  },
  {
   "cell_type": "code",
   "execution_count": 42,
   "id": "11b9dcae",
   "metadata": {},
   "outputs": [],
   "source": [
    "# Function to create the model\n",
    "def model_creation(approach, trainset, testset):\n",
    "    if approach == SVD:\n",
    "        model = approach(n_factors= 50, reg_all=0.05)\n",
    "        model.fit(trainset)\n",
    "        print(f'{approach.__name__} RMSE:', accuracy.rmse(model.test(testset)))\n",
    "    else:    \n",
    "        model = approach(sim_options={'name':'pearson', 'user_based':True})\n",
    "        model.fit(trainset)\n",
    "        print(f'{approach.__name__} RMSE:', accuracy.rmse(model.test(testset)))   "
   ]
  },
  {
   "cell_type": "code",
   "execution_count": 43,
   "id": "2e4dc19f",
   "metadata": {},
   "outputs": [
    {
     "name": "stdout",
     "output_type": "stream",
     "text": [
      "Computing the pearson similarity matrix...\n",
      "Done computing similarity matrix.\n",
      "RMSE: 0.9721\n",
      "KNNBasic RMSE: 0.9720846164183417\n"
     ]
    }
   ],
   "source": [
    "# Build a KNNBasic model\n",
    "model_creation(KNNBasic, trainset, testset)"
   ]
  },
  {
   "cell_type": "markdown",
   "id": "03708ecd",
   "metadata": {},
   "source": [
    "# Tune the KNNBasic Model"
   ]
  },
  {
   "cell_type": "code",
   "execution_count": 44,
   "id": "384c8dac",
   "metadata": {},
   "outputs": [],
   "source": [
    "def param_grid_search(model_to_tune): \n",
    "    \n",
    "    # Setting relevant parameters for Gridsearch\n",
    "    grid = {\n",
    "        'k': [30, 40],   # Number of neighbors\n",
    "        'sim_options': {\n",
    "            'name': ['cosine', 'pearson'],  # Similarity measures\n",
    "            'user_based': [True],  # User-based collaborative filtering\n",
    "        },\n",
    "    }\n",
    "    # Creating a parameter grid search for SVD model\n",
    "    params = {'n_factors': [20, 50, 100],\n",
    "         'reg_all': [0.02, 0.05, 0.1],\n",
    "        #  'n_epochs': [5,10],\n",
    "        # 'lr_all': [0.002,0.005]\n",
    "         }\n",
    "\n",
    "    # Running grid search with the defined parameter grid\n",
    "    if model_to_tune == SVD:\n",
    "        grid_search = GridSearchCV(model_to_tune, params,\n",
    "                                    measures=['rmse'], n_jobs=-1)\n",
    "    else:\n",
    "        grid_search = GridSearchCV(model_to_tune, grid,\n",
    "                                    measures=['rmse'], n_jobs=-1)\n",
    "    grid_search.fit(data)\n",
    "    print(f\"Best RMSE for {model_to_tune.__name__}: {grid_search.best_score}\")\n",
    "    print(f\"Best Hyperparameters for {model_to_tune.__name__}: {grid_search.best_params}\")\n",
    "\n"
   ]
  },
  {
   "cell_type": "code",
   "execution_count": 45,
   "id": "5b2686d1",
   "metadata": {},
   "outputs": [
    {
     "name": "stdout",
     "output_type": "stream",
     "text": [
      "Best RMSE for KNNBasic: {'rmse': 0.9734421818271587}\n",
      "Best Hyperparameters for KNNBasic: {'rmse': {'k': 40, 'sim_options': {'name': 'pearson', 'user_based': True}}}\n"
     ]
    }
   ],
   "source": [
    "# Grid search for KNNBasic Model\n",
    "param_grid_search(KNNBasic)"
   ]
  },
  {
   "cell_type": "markdown",
   "id": "9a49b917",
   "metadata": {},
   "source": [
    "# MODEL 2: KNNBaseline Model"
   ]
  },
  {
   "cell_type": "code",
   "execution_count": 46,
   "id": "17ae3f1c",
   "metadata": {},
   "outputs": [
    {
     "name": "stdout",
     "output_type": "stream",
     "text": [
      "Estimating biases using als...\n",
      "Computing the pearson similarity matrix...\n",
      "Done computing similarity matrix.\n",
      "RMSE: 0.8790\n",
      "KNNBaseline RMSE: 0.8789611074934803\n"
     ]
    }
   ],
   "source": [
    "# Build a KNNBaseline model\n",
    "model_creation(KNNBaseline, trainset, testset)"
   ]
  },
  {
   "cell_type": "markdown",
   "id": "4cc30bcf",
   "metadata": {},
   "source": [
    "# Tune the KNNBaseline Model"
   ]
  },
  {
   "cell_type": "code",
   "execution_count": 47,
   "id": "b3ea7221",
   "metadata": {},
   "outputs": [
    {
     "name": "stdout",
     "output_type": "stream",
     "text": [
      "Best RMSE for KNNBaseline: {'rmse': 0.8758544224787659}\n",
      "Best Hyperparameters for KNNBaseline: {'rmse': {'k': 40, 'sim_options': {'name': 'pearson', 'user_based': True}}}\n"
     ]
    }
   ],
   "source": [
    "# Grid search for KNNBaseline Model\n",
    "param_grid_search(KNNBaseline)"
   ]
  },
  {
   "cell_type": "markdown",
   "id": "cfdab440",
   "metadata": {},
   "source": [
    "# MODEL 3: KNNWithMeans Model"
   ]
  },
  {
   "cell_type": "code",
   "execution_count": 48,
   "id": "fd7ffd65",
   "metadata": {},
   "outputs": [
    {
     "name": "stdout",
     "output_type": "stream",
     "text": [
      "Computing the pearson similarity matrix...\n",
      "Done computing similarity matrix.\n",
      "RMSE: 0.8995\n",
      "KNNWithMeans RMSE: 0.8994971701396823\n"
     ]
    }
   ],
   "source": [
    "# Build a KNNWithMeans model\n",
    "model_creation(KNNWithMeans, trainset, testset)"
   ]
  },
  {
   "cell_type": "markdown",
   "id": "79f7b928",
   "metadata": {},
   "source": [
    "# Tune the KNNWithMeans Model"
   ]
  },
  {
   "cell_type": "code",
   "execution_count": 49,
   "id": "a2db1e3b",
   "metadata": {},
   "outputs": [
    {
     "name": "stdout",
     "output_type": "stream",
     "text": [
      "Best RMSE for KNNWithMeans: {'rmse': 0.8962840881511676}\n",
      "Best Hyperparameters for KNNWithMeans: {'rmse': {'k': 40, 'sim_options': {'name': 'pearson', 'user_based': True}}}\n"
     ]
    }
   ],
   "source": [
    "# Grid search for KNNWithMeans Model\n",
    "param_grid_search(KNNWithMeans)"
   ]
  },
  {
   "cell_type": "markdown",
   "id": "d318dd91",
   "metadata": {},
   "source": [
    "# MODEL 4: SVD Model"
   ]
  },
  {
   "cell_type": "code",
   "execution_count": 50,
   "id": "affc2782",
   "metadata": {},
   "outputs": [
    {
     "name": "stdout",
     "output_type": "stream",
     "text": [
      "RMSE: 0.8702\n",
      "SVD RMSE: 0.8701963000130202\n"
     ]
    }
   ],
   "source": [
    "# Build a SVD model\n",
    "model_creation(SVD, trainset, testset)"
   ]
  },
  {
   "cell_type": "code",
   "execution_count": 51,
   "id": "ca205700",
   "metadata": {},
   "outputs": [
    {
     "name": "stdout",
     "output_type": "stream",
     "text": [
      "Best RMSE for SVD: {'rmse': 0.869490397071649}\n",
      "Best Hyperparameters for SVD: {'rmse': {'n_factors': 50, 'reg_all': 0.05}}\n"
     ]
    }
   ],
   "source": [
    "# Grid search for KNNWithMeans Model\n",
    "param_grid_search(SVD)"
   ]
  },
  {
   "cell_type": "markdown",
   "id": "3eeba002",
   "metadata": {},
   "source": [
    "# FINAL MODEL SELECTION AND EVALUATION"
   ]
  },
  {
   "cell_type": "markdown",
   "id": "c8f39cdd",
   "metadata": {},
   "source": [
    "SVD model performed best as compared to the rest of the models with a RMSE of 0.8688."
   ]
  },
  {
   "cell_type": "code",
   "execution_count": 52,
   "id": "d374b7cb",
   "metadata": {},
   "outputs": [
    {
     "data": {
      "text/html": [
       "<table border=\"1\" class=\"dataframe\">\n",
       "  <thead>\n",
       "    <tr style=\"text-align: right;\">\n",
       "      <th>Model</th>\n",
       "      <th>RMSE</th>\n",
       "      <th>RMSE after Tuning</th>\n",
       "    </tr>\n",
       "  </thead>\n",
       "  <tbody>\n",
       "    <tr>\n",
       "      <td>KNNBasic</td>\n",
       "      <td>0.9721</td>\n",
       "      <td>0.9719</td>\n",
       "    </tr>\n",
       "    <tr>\n",
       "      <td>KNNBaseline</td>\n",
       "      <td>0.8790</td>\n",
       "      <td>0.8776</td>\n",
       "    </tr>\n",
       "    <tr>\n",
       "      <td>KNNWithMeans</td>\n",
       "      <td>0.8995</td>\n",
       "      <td>0.8964</td>\n",
       "    </tr>\n",
       "    <tr>\n",
       "      <td>SVD</td>\n",
       "      <td>0.8688</td>\n",
       "      <td>0.8691</td>\n",
       "    </tr>\n",
       "  </tbody>\n",
       "</table>"
      ],
      "text/plain": [
       "<IPython.core.display.HTML object>"
      ]
     },
     "execution_count": 52,
     "metadata": {},
     "output_type": "execute_result"
    }
   ],
   "source": [
    "# A table that displays a summary of the validation metrics\n",
    "def make_evaluation_table(metrics_dict):\n",
    "    metrics_df = pd.DataFrame(metrics_dict)\n",
    "    evaluation_table = metrics_df.to_html(index=False)\n",
    "    return evaluation_table\n",
    "\n",
    "metrics_dict = {\n",
    "    'Model': ['KNNBasic', 'KNNBaseline', 'KNNWithMeans', 'SVD'],\n",
    "    'RMSE': [0.9721, 0.8790, 0.8995, 0.8688],\n",
    "    'RMSE after Tuning': [0.9719, 0.8776, 0.8964, 0.8691],\n",
    "    }\n",
    "\n",
    "evaluation_table = make_evaluation_table(metrics_dict)\n",
    "HTML(evaluation_table)"
   ]
  },
  {
   "cell_type": "code",
   "execution_count": null,
   "id": "a78e2c5a",
   "metadata": {},
   "outputs": [],
   "source": []
  }
 ],
 "metadata": {
  "kernelspec": {
   "display_name": "Python 3",
   "language": "python",
   "name": "python3"
  },
  "language_info": {
   "codemirror_mode": {
    "name": "ipython",
    "version": 3
   },
   "file_extension": ".py",
   "mimetype": "text/x-python",
   "name": "python",
   "nbconvert_exporter": "python",
   "pygments_lexer": "ipython3",
   "version": "3.8.5"
  }
 },
 "nbformat": 4,
 "nbformat_minor": 5
}
